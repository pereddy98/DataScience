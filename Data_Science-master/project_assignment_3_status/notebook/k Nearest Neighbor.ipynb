{
 "metadata": {
  "name": "",
  "signature": "sha256:642ba9614569d76925ba0983a77f294a32e4f96e0d63fa169e379c449d7bfa91"
 },
 "nbformat": 3,
 "nbformat_minor": 0,
 "worksheets": [
  {
   "cells": [
    {
     "cell_type": "code",
     "collapsed": false,
     "input": [
      "%matplotlib inline\n",
      "import pandas as pd\n",
      "from pandas import Series, DataFrame\n",
      "import numpy as np\n",
      "import pylab as pl\n",
      "import numpy as np\n",
      "from sklearn import datasets, linear_model\n",
      "import matplotlib.pyplot as plt\n",
      "#import statsmodels.api as sm\n",
      "def stats(y_true,y_pred):\n",
      "    \n",
      "    from sklearn.metrics import mean_absolute_error,mean_squared_error,r2_score\n",
      "    print \"-----------EVALUATION STATISTICS------------\"\n",
      "    print 'Mean absolute Error : ', mean_absolute_error(test_Y.values, y_pred)\n",
      "    print 'Mean squared Error : ', mean_squared_error(y_true, y_pred)\n",
      "    print 'R2 score : ', r2_score(y_true, y_pred)"
     ],
     "language": "python",
     "metadata": {},
     "outputs": [],
     "prompt_number": 28
    },
    {
     "cell_type": "code",
     "collapsed": false,
     "input": [
      "'''\n",
      "#Reading data from csv\n",
      "df_all_data = pd.read_csv('../data/final_df.csv', error_bad_lines=False, delimiter='~')\n",
      "#Getting only the needed columns\n",
      "df_all_data = df_all_data[['Age', 'gender','LifeExpectancy']]\n",
      "df_data_X=pd.concat([df_all_data['Age'],  df_all_data['gender']],axis=1)\n",
      "df_data_Y=pd.concat([df_all_data['LifeExpectancy']],axis=1)\n",
      "'''"
     ],
     "language": "python",
     "metadata": {},
     "outputs": [
      {
       "metadata": {},
       "output_type": "pyout",
       "prompt_number": 29,
       "text": [
        "\"\\n#Reading data from csv\\ndf_all_data = pd.read_csv('../data/final_df.csv', error_bad_lines=False, delimiter='~')\\n#Getting only the needed columns\\ndf_all_data = df_all_data[['Age', 'gender','LifeExpectancy']]\\ndf_data_X=pd.concat([df_all_data['Age'],  df_all_data['gender']],axis=1)\\ndf_data_Y=pd.concat([df_all_data['LifeExpectancy']],axis=1)\\n\""
       ]
      }
     ],
     "prompt_number": 29
    },
    {
     "cell_type": "code",
     "collapsed": false,
     "input": [
      "df_data2 = pd.read_csv('../data/../data/finaldata_profession_corrected_dob.csv', error_bad_lines=False, delimiter='~')\n",
      "df_data2 = df_data2[df_data2.DOB1 > 1850]\n",
      "df_data2 = df_data2[df_data2.Age > 35]\n",
      "df_data = pd.read_csv('../data/freebasedata_profession.csv', error_bad_lines=False, delimiter='~')\n",
      "df_data2['LifeExpnAge'] = df_data2['LifeExpectancy']+df_data2['Age']"
     ],
     "language": "python",
     "metadata": {},
     "outputs": [],
     "prompt_number": 30
    },
    {
     "cell_type": "code",
     "collapsed": false,
     "input": [],
     "language": "python",
     "metadata": {},
     "outputs": []
    },
    {
     "cell_type": "code",
     "collapsed": false,
     "input": [
      "print df_data2.shape\n",
      "print df_data2.columns\n",
      "#remving Nans and NOnes\n",
      "df_data2 = df_data2.replace('unknown', np.nan)\n",
      "df_data2 = df_data2.replace('none', np.nan)\n",
      "df_data2=df_data2.fillna(df_data2.median())\n",
      "print df_data2.shape\n",
      "print df_data2.columns"
     ],
     "language": "python",
     "metadata": {},
     "outputs": [
      {
       "output_type": "stream",
       "stream": "stdout",
       "text": [
        "(107754, 78)\n",
        "Index([u'Unnamed: 0', u'Unnamed: 0.1', u'Unnamed: 0.1', u'Name', u'/people/cause_of_death/parent_cause_of_death', u'/people/cause_of_death/includes_causes_of_death', u'/people/cause_of_death/people', u'DOD', u'/people/deceased_person/place_of_death', u'/people/deceased_person/cause_of_death', u'/people/deceased_person/date_of_cremation', u'/people/deceased_person/place_of_cremation', u'/people/deceased_person/date_of_burial', u'/people/deceased_person/place_of_burial', u'/people/ethnicity/included_in_group', u'/people/ethnicity/includes_groups', u'/people/ethnicity/geographic_distribution', u'/people/ethnicity/languages_spoken', u'/people/ethnicity/population', u'/people/ethnicity/people', u'/people/family_name/people_with_this_family_name', u'/people/group/member', u'/people/measured_person/measurements', u'/people/measured_person/sizes', u'DOB', u'/people/person/place_of_birth', u'/people/person/nationality', u'/people/person/gender', u'/people/person/profession', u'/people/person/religion', u'/people/person/ethnicity', u'/people/person/parents', u'/people/person/children', u'/people/person/sibling_s', u'/people/person/spouse_s', u'/people/person/employment_history', u'/people/person/education', u'/people/person/metaweb_user_s', u'/people/person/signature', u'/people/person/height_meters', u'/people/person/weight_kg', u'/people/person/quotations', u'/people/person/places_lived', u'/people/person/quotationsbook_id', u'/people/person/age', u'/people/person/tvrage_id', u'/people/person/notable_professions', u'/people/person/languages', u'/people/person/group', u'/people/professional_field/professions_in_this_field', u'/people/profession/people_with_this_profession', u'/people/profession/specialization_of', u'/people/profession/specializations', u'/people/profession/part_of_professional_field', u'Unnamed: 51', u'LifeExpectancy', u'Age', u'Probability', u'profession', u'gender', u'nationality', u'nationality_no', u'Politician', u'Pope-elect', u'Diplomat', u'Evangelist', u'Business magnate', u'Astronaut', u'Musician', u'Physicist', u'Actress', u'Actor', u'Guitarist', u'Singer', u'Pianist', u'DOB1', u'DOD1', u'LifeExpnAge'], dtype='object')\n",
        "(107754, 78)"
       ]
      },
      {
       "output_type": "stream",
       "stream": "stdout",
       "text": [
        "\n",
        "Index([u'Unnamed: 0', u'Unnamed: 0.1', u'Unnamed: 0.1', u'Name', u'/people/cause_of_death/parent_cause_of_death', u'/people/cause_of_death/includes_causes_of_death', u'/people/cause_of_death/people', u'DOD', u'/people/deceased_person/place_of_death', u'/people/deceased_person/cause_of_death', u'/people/deceased_person/date_of_cremation', u'/people/deceased_person/place_of_cremation', u'/people/deceased_person/date_of_burial', u'/people/deceased_person/place_of_burial', u'/people/ethnicity/included_in_group', u'/people/ethnicity/includes_groups', u'/people/ethnicity/geographic_distribution', u'/people/ethnicity/languages_spoken', u'/people/ethnicity/population', u'/people/ethnicity/people', u'/people/family_name/people_with_this_family_name', u'/people/group/member', u'/people/measured_person/measurements', u'/people/measured_person/sizes', u'DOB', u'/people/person/place_of_birth', u'/people/person/nationality', u'/people/person/gender', u'/people/person/profession', u'/people/person/religion', u'/people/person/ethnicity', u'/people/person/parents', u'/people/person/children', u'/people/person/sibling_s', u'/people/person/spouse_s', u'/people/person/employment_history', u'/people/person/education', u'/people/person/metaweb_user_s', u'/people/person/signature', u'/people/person/height_meters', u'/people/person/weight_kg', u'/people/person/quotations', u'/people/person/places_lived', u'/people/person/quotationsbook_id', u'/people/person/age', u'/people/person/tvrage_id', u'/people/person/notable_professions', u'/people/person/languages', u'/people/person/group', u'/people/professional_field/professions_in_this_field', u'/people/profession/people_with_this_profession', u'/people/profession/specialization_of', u'/people/profession/specializations', u'/people/profession/part_of_professional_field', u'Unnamed: 51', u'LifeExpectancy', u'Age', u'Probability', u'profession', u'gender', u'nationality', u'nationality_no', u'Politician', u'Pope-elect', u'Diplomat', u'Evangelist', u'Business magnate', u'Astronaut', u'Musician', u'Physicist', u'Actress', u'Actor', u'Guitarist', u'Singer', u'Pianist', u'DOB1', u'DOD1', u'LifeExpnAge'], dtype='object')\n"
       ]
      }
     ],
     "prompt_number": 31
    },
    {
     "cell_type": "code",
     "collapsed": false,
     "input": [],
     "language": "python",
     "metadata": {},
     "outputs": []
    },
    {
     "cell_type": "code",
     "collapsed": false,
     "input": [],
     "language": "python",
     "metadata": {},
     "outputs": []
    },
    {
     "cell_type": "code",
     "collapsed": false,
     "input": [],
     "language": "python",
     "metadata": {},
     "outputs": []
    },
    {
     "cell_type": "code",
     "collapsed": false,
     "input": [
      "#removing NaN values\n",
      "df_data2 = df_data2.replace('unknown', np.nan)\n",
      "df_data2 = df_data2.replace('none', np.nan)\n",
      "df_data2 = df_data2.fillna(df_data2.median())"
     ],
     "language": "python",
     "metadata": {},
     "outputs": [],
     "prompt_number": 32
    },
    {
     "cell_type": "code",
     "collapsed": false,
     "input": [
      "#extracting fields for regression model\n",
      "df_data_X=pd.concat([df_data2['DOB1'], df_data2['LifeExpnAge'], df_data2['gender'],df_data2['nationality_no'],df_data2['Politician'],df_data2['Diplomat'],df_data2['Evangelist'],df_data2['Business magnate'],df_data2['Astronaut'],df_data2['Musician'],df_data2['Physicist'],df_data2['Actor'],df_data2['Guitarist'],df_data2['Singer'],df_data2['Pianist']],axis=1)\n",
      "df_data_Y=pd.concat([df_data2['DOD1']],axis=1)"
     ],
     "language": "python",
     "metadata": {},
     "outputs": [],
     "prompt_number": 33
    },
    {
     "cell_type": "code",
     "collapsed": false,
     "input": [
      "msk = np.random.rand(len(df_data2)) < 0.8\n",
      "train_X = df_data_X[msk]\n",
      "test_X = df_data_X[~msk]\n",
      "train_Y = df_data_Y[msk]\n",
      "test_Y = df_data_Y[~msk]\n",
      "train_X = train_X.replace('unknown', np.nan)\n",
      "train_X = train_X.replace('none', np.nan)\n",
      "train_X=train_X.fillna(train_X.median())\n",
      "test_X = test_X.replace('unknown', np.nan)\n",
      "test_X = test_X.replace('none', np.nan)\n",
      "test_X= test_X.fillna(test_X.median())\n",
      "test_Y = test_Y.replace('unknown', np.nan)\n",
      "test_Y = test_Y.replace('none', np.nan)\n",
      "test_Y= test_Y.fillna(test_Y.median())\n",
      "train_Y = train_Y.replace('unknown', np.nan)\n",
      "train_Y = train_Y.replace('none', np.nan)\n",
      "train_Y=train_Y.fillna(train_Y.median())\n",
      "print train_X.shape\n",
      "print train_Y.shape\n",
      "test_X.columns"
     ],
     "language": "python",
     "metadata": {},
     "outputs": [
      {
       "output_type": "stream",
       "stream": "stdout",
       "text": [
        "(86074, 15)\n",
        "(86074, 1)\n"
       ]
      },
      {
       "metadata": {},
       "output_type": "pyout",
       "prompt_number": 34,
       "text": [
        "Index([u'DOB1', u'LifeExpnAge', u'gender', u'nationality_no', u'Politician', u'Diplomat', u'Evangelist', u'Business magnate', u'Astronaut', u'Musician', u'Physicist', u'Actor', u'Guitarist', u'Singer', u'Pianist'], dtype='object')"
       ]
      }
     ],
     "prompt_number": 34
    },
    {
     "cell_type": "code",
     "collapsed": false,
     "input": [
      "from sklearn import neighbors\n",
      "#for i, weights in enumerate(['uniform', 'distance']):\n",
      "knn = neighbors.KNeighborsRegressor(1, weights='uniform')\n",
      "y_ = knn.fit(train_X, train_Y)\n",
      "#print y_\n",
      "knnpredict = y_.predict(test_X)\n",
      "stats(test_Y,knnpredict)\n",
      "    #.predict(T)\n",
      "\n",
      "df_real_32_data = pd.read_csv('../data/celebrities_32_final.csv', error_bad_lines=False)\n",
      "df_real_32_data['LifeExpnAge'] = df_real_32_data['LifeExpectancy']+df_real_32_data['Age']\n",
      "df_real_32_data.columns\n",
      "df_real_32_data_X = df_real_32_data[['DOB','LifeExpnAge','gender','nationality_no', 'Politician', 'Diplomat', 'Evangelist', 'Business magnate', 'Astronaut', 'Musician','Physicist','Actor','Guitarist','Singer','Pianist']]\n",
      "y_pred = y_.predict(df_real_32_data_X)\n",
      "#df_real_32_data.columns\n",
      "df_real_32_data['pred_age'] = y_pred\n",
      "print df_real_32_data[['Name','Age','pred_age','LifeExpnAge','Occupation']].sort(columns='pred_age',ascending=True)"
     ],
     "language": "python",
     "metadata": {},
     "outputs": [
      {
       "output_type": "stream",
       "stream": "stdout",
       "text": [
        "-----------EVALUATION STATISTICS------------\n",
        "Mean absolute Error :  0.931273062731\n",
        "Mean squared Error :  8.59409594096\n",
        "R2 score :  0.988784966883\n",
        "                          Name  Age  pred_age  LifeExpnAge        Occupation\n",
        "11             Bashar al-Assad   49      2008        79.31        Politician\n",
        "21         Olivia de Havilland   98      2010       100.76           Actress\n",
        "6                 Shimon Peres   91      2010        94.70        Politician\n",
        "5                Robert Mugabe   90      2010        93.99        Politician\n",
        "22               Zsa Zsa Gabor   97      2010        99.94           Actress\n",
        "3                 Fidel Castro   88      2013        92.64        Politician\n",
        "20               Dick van Dyke   88      2013        92.64             Actor\n",
        "19                   Doris Day   90      2013        94.80           Actress\n",
        "17              Charles Manson   79      2013        87.63          Musician\n",
        "24              Clint Eastwood   84      2013        90.21             Actor\n",
        "30                  Abe Vigoda   93      2013        96.20             Actor\n",
        "25                Kirk Douglas   97      2013        99.47             Actor\n",
        "29              Keith Richards   70      2013        84.07          Musician\n",
        "0           Queen Elizabeth II   88      2013        93.56        Politician\n",
        "1   George Herbert Walker Bush   90      2013        93.99        Politician\n",
        "27             Jerry Lee Lewis   79      2013        87.63            Singer\n",
        "9               Helmut Schmidt   95      2013        97.79        Politician\n",
        "7                 Ali Khamenei   75      2013        85.89        Politician\n",
        "2                 Jimmy Carter   90      2013        93.99        Politician\n",
        "12                Lee Kwan Yew   91      2013        94.70        Politician\n",
        "28                 Mick Jagger   71      2014        84.40          Musician\n",
        "23                   B.B. King   89      2014        93.30          Musician\n",
        "26                 Chuck Berry   88      2014        92.64         Guitarist\n",
        "15                 Dick Cheney   73      2014        85.12        Politician\n",
        "16                  John Glenn   93      2014        96.20         Astronaut\n",
        "14              Rupert Murdoch   83      2014        89.65  Business magnate\n",
        "13           Rev. Billy Graham   96      2014        98.62        Evangelist\n",
        "10             Henry Kissinger   91      2014        94.70          Diplomat\n",
        "8                Hosni Mubarak   86      2014        91.38        Politician\n",
        "4                Pope Benedict   87      2014        92.00        Pope-elect\n",
        "18             Stephen Hawking   72      2014        84.75         Physicist\n",
        "31                 Fats Domino   86      2014        91.38           Pianist\n"
       ]
      }
     ],
     "prompt_number": 35
    },
    {
     "cell_type": "code",
     "collapsed": false,
     "input": [
      "'''\n",
      "# fit a k-nearest neighbor model to the data\n",
      "model = KNeighborsClassifier()\n",
      "#model.fit(df_all_data, df_all_data['LifeExpectancy'])\n",
      "model.fit(np.array(df_data_X), np.array(df_data_Y))\n",
      "print(model)\n",
      "# make predictions\n",
      "expected = np.array(df_data_Y)\n",
      "predicted = model.predict(np.array(df_data_X))\n",
      "# summarize the fit of the model\n",
      "print(metrics.classification_report(expected, predicted))\n",
      "print(metrics.confusion_matrix(expected, predicted))\n",
      "'''"
     ],
     "language": "python",
     "metadata": {},
     "outputs": [
      {
       "metadata": {},
       "output_type": "pyout",
       "prompt_number": 36,
       "text": [
        "\"\\n# fit a k-nearest neighbor model to the data\\nmodel = KNeighborsClassifier()\\n#model.fit(df_all_data, df_all_data['LifeExpectancy'])\\nmodel.fit(np.array(df_data_X), np.array(df_data_Y))\\nprint(model)\\n# make predictions\\nexpected = np.array(df_data_Y)\\npredicted = model.predict(np.array(df_data_X))\\n# summarize the fit of the model\\nprint(metrics.classification_report(expected, predicted))\\nprint(metrics.confusion_matrix(expected, predicted))\\n\""
       ]
      }
     ],
     "prompt_number": 36
    },
    {
     "cell_type": "code",
     "collapsed": false,
     "input": [
      "from sklearn import neighbors\n",
      "for i, weights in enumerate(['uniform', 'distance']):\n",
      "    knn = neighbors.KNeighborsRegressor(5, weights=weights)\n",
      "    y_ = knn.fit(df_train_X, df_train_Y)\n",
      "    #.predict(T)\n",
      "#stats()\n",
      "    "
     ],
     "language": "python",
     "metadata": {},
     "outputs": [
      {
       "ename": "NameError",
       "evalue": "name 'df_train_X' is not defined",
       "output_type": "pyerr",
       "traceback": [
        "\u001b[0;31m---------------------------------------------------------------------------\u001b[0m\n\u001b[0;31mNameError\u001b[0m                                 Traceback (most recent call last)",
        "\u001b[0;32m<ipython-input-37-33e1cd09ff24>\u001b[0m in \u001b[0;36m<module>\u001b[0;34m()\u001b[0m\n\u001b[1;32m      2\u001b[0m \u001b[0;32mfor\u001b[0m \u001b[0mi\u001b[0m\u001b[0;34m,\u001b[0m \u001b[0mweights\u001b[0m \u001b[0;32min\u001b[0m \u001b[0menumerate\u001b[0m\u001b[0;34m(\u001b[0m\u001b[0;34m[\u001b[0m\u001b[0;34m'uniform'\u001b[0m\u001b[0;34m,\u001b[0m \u001b[0;34m'distance'\u001b[0m\u001b[0;34m]\u001b[0m\u001b[0;34m)\u001b[0m\u001b[0;34m:\u001b[0m\u001b[0;34m\u001b[0m\u001b[0m\n\u001b[1;32m      3\u001b[0m     \u001b[0mknn\u001b[0m \u001b[0;34m=\u001b[0m \u001b[0mneighbors\u001b[0m\u001b[0;34m.\u001b[0m\u001b[0mKNeighborsRegressor\u001b[0m\u001b[0;34m(\u001b[0m\u001b[0;36m5\u001b[0m\u001b[0;34m,\u001b[0m \u001b[0mweights\u001b[0m\u001b[0;34m=\u001b[0m\u001b[0mweights\u001b[0m\u001b[0;34m)\u001b[0m\u001b[0;34m\u001b[0m\u001b[0m\n\u001b[0;32m----> 4\u001b[0;31m     \u001b[0my_\u001b[0m \u001b[0;34m=\u001b[0m \u001b[0mknn\u001b[0m\u001b[0;34m.\u001b[0m\u001b[0mfit\u001b[0m\u001b[0;34m(\u001b[0m\u001b[0mdf_train_X\u001b[0m\u001b[0;34m,\u001b[0m \u001b[0mdf_train_Y\u001b[0m\u001b[0;34m)\u001b[0m\u001b[0;34m\u001b[0m\u001b[0m\n\u001b[0m\u001b[1;32m      5\u001b[0m     \u001b[0;31m#.predict(T)\u001b[0m\u001b[0;34m\u001b[0m\u001b[0;34m\u001b[0m\u001b[0m\n\u001b[1;32m      6\u001b[0m \u001b[0;31m#stats()\u001b[0m\u001b[0;34m\u001b[0m\u001b[0;34m\u001b[0m\u001b[0m\n",
        "\u001b[0;31mNameError\u001b[0m: name 'df_train_X' is not defined"
       ]
      }
     ],
     "prompt_number": 37
    },
    {
     "cell_type": "code",
     "collapsed": false,
     "input": [
      "plt.subplot(2, 1, i + 1)\n",
      "    plt.scatter(X, y, c='k', label='data')\n",
      "    plt.plot(T, y_, c='g', label='prediction')\n",
      "    plt.axis('tight')\n",
      "    plt.legend()\n",
      "    plt.title(\"KNeighborsRegressor (k = %i, weights = '%s')\" % (n_neighbors,\n",
      "                                                                weights))\n",
      "\n",
      "plt.show()"
     ],
     "language": "python",
     "metadata": {},
     "outputs": []
    },
    {
     "cell_type": "code",
     "collapsed": false,
     "input": [
      "from sklearn.neighbors import KNeighborsRegressor"
     ],
     "language": "python",
     "metadata": {},
     "outputs": []
    },
    {
     "cell_type": "code",
     "collapsed": false,
     "input": [
      "neigh = KNeighborsRegressor(n_neighbors=10,weights='distance',p=1)\n",
      "#neigh = SVR(kernel='linear', C=1e3, gamma=0.1)\n",
      "neigh.fit(train_X.values, train_Y.values)\n",
      "test=np.array(test_X.values)\n",
      "predictions = np.zeros(len(test))\n",
      "diff = np.zeros(len(test))\n",
      "for i in range(0,len(test)):\n",
      "    predictions[i] = neigh.predict(test[i])\n",
      "    predictions[i] = np.power(10,predictions[i])\n",
      "    print predictions[i]\n",
      "    #val[i] = np.power(10,val[i])\n",
      "    #diff[i] = ((predictions[i] - val[i])/val[i])*100"
     ],
     "language": "python",
     "metadata": {},
     "outputs": []
    },
    {
     "cell_type": "code",
     "collapsed": false,
     "input": [
      "neigh.predict(test_X)"
     ],
     "language": "python",
     "metadata": {},
     "outputs": []
    },
    {
     "cell_type": "code",
     "collapsed": false,
     "input": [],
     "language": "python",
     "metadata": {},
     "outputs": []
    }
   ],
   "metadata": {}
  }
 ]
}