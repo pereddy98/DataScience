{
 "metadata": {
  "name": "",
  "signature": "sha256:ef3adfe97d1d1beadddc816b84b7a88328ea953d85e01cd16a725de3fe471130"
 },
 "nbformat": 3,
 "nbformat_minor": 0,
 "worksheets": [
  {
   "cells": [
    {
     "cell_type": "code",
     "collapsed": false,
     "input": [
      "import pandas as pd\n",
      "from pandas import Series, DataFrame\n",
      "import numpy as np\n",
      "import pylab as pl\n",
      "import numpy as np"
     ],
     "language": "python",
     "metadata": {},
     "outputs": []
    },
    {
     "cell_type": "code",
     "collapsed": false,
     "input": [
      "df_alive = pd.read_csv('../data/eval1_alive.csv')\n",
      "df_dead = pd.read_csv('../data/eval1_dead.csv')\n",
      "\n",
      "female_prob = pd.read_csv('../data/Period_Life_Table_Female_2010.csv')\n",
      "male_prob = pd.read_csv('../data/Period_Life_Table_Male_2010.csv')\n",
      "\n",
      "# #Death Probability dataframes\n",
      "df_male_prob = pd.DataFrame(male_prob)\n",
      "df_female_prob = pd.DataFrame(female_prob)\n",
      "\n",
      "#Renaming columns\n",
      "df_male_prob.columns = ['Age', 'Death Prob']\n",
      "df_female_prob.columns = ['Age', 'Death Prob']\n",
      "# df_alive = df_alive[['Name', '/people/deceased_person/date_of_death','/people/person/date_of_birth','/people/person/gender']]\n",
      "# df_alive.columns = ['Name', 'Death Date', 'Birth Date', 'Gender']\n",
      "# df_alive['Birth Year'] = 0"
     ],
     "language": "python",
     "metadata": {},
     "outputs": []
    },
    {
     "cell_type": "code",
     "collapsed": false,
     "input": [
      "# #If the gender is None, removed the records - Df_dead\n",
      "# removed_gender_None = df_alive['Gender'].isin(['None'])\n",
      "# df_alive = df_alive[~removed_gender_None]"
     ],
     "language": "python",
     "metadata": {},
     "outputs": []
    },
    {
     "cell_type": "code",
     "collapsed": false,
     "input": [
      "# removed_bod_None = df_alive['Birth Date'].isin(['None'])\n",
      "# df_alive = df_alive[~removed_bod_None]\n"
     ],
     "language": "python",
     "metadata": {},
     "outputs": []
    },
    {
     "cell_type": "code",
     "collapsed": false,
     "input": [
      "# dod_None = df_alive['Death Date'].isin(['None'])\n",
      "# df_dead = df_alive[~dod_None]\n",
      "# df_alive = df_alive[dod_None]\n",
      "# df_dead['Birth Year'] = 0\n",
      "# df_dead['Death Year'] = 0\n",
      "\n",
      "# #Reindexing the df_dead \n",
      "# df_dead = df_dead.reset_index(drop=True)\n",
      "\n",
      "# #Reindexing the df_alive\n",
      "# df_alive = df_alive.reset_index(drop=True)\n",
      "\n",
      "\n",
      "# # test_dead = df_dead.loc[0]\n",
      "\n",
      "# # #Test data - Df_alive\n",
      "# # test_alive = df_alive.loc[:4,]\n"
     ],
     "language": "python",
     "metadata": {},
     "outputs": []
    },
    {
     "cell_type": "code",
     "collapsed": false,
     "input": [
      "# for index, row in df_dead.iterrows():\n",
      "#     dob=row['Birth Date']\n",
      "#     dod=row['Death Date']\n",
      "#     if \"-\" in dob:\n",
      "#         dob1=(dob.split('-')[0])\n",
      "#     else :\n",
      "#         dob1=(dob)\n",
      "#     if \"-\" in dod:\n",
      "#         dod1=(dod.split('-')[0])\n",
      "#     else :\n",
      "#         dod1=(dod)\n",
      "#     if len(dob1) >0 and len(dod1)>0:\n",
      "#         if int(dob1) < 1900:\n",
      "#             df_dead.loc[index,'Age'] = 0\n",
      "#         else:  \n",
      "#             df_dead.loc[index,'Age'] = int(dod1)-int(dob1)"
     ],
     "language": "python",
     "metadata": {},
     "outputs": []
    },
    {
     "cell_type": "code",
     "collapsed": false,
     "input": [
      "# age_None = df_dead['Age'] == 0\n",
      "# df_dead = df_dead[~age_None]"
     ],
     "language": "python",
     "metadata": {},
     "outputs": []
    },
    {
     "cell_type": "code",
     "collapsed": false,
     "input": [
      "# for index, row in df_alive.iterrows():\n",
      "#     dob=row['Birth Date']\n",
      "#     if \"-\" in dob:\n",
      "#         dob1=(dob.split('-')[0])\n",
      "#     else :\n",
      "#         dob1=(dob)\n",
      "#     if len(dob1) >0:\n",
      "#         if int(dob1) < 1900:\n",
      "#             df_alive.loc[index,'Age'] = 0\n",
      "#         else:  \n",
      "#             df_alive.loc[index,'Age'] = 2014 -int(dob1)"
     ],
     "language": "python",
     "metadata": {},
     "outputs": []
    },
    {
     "cell_type": "code",
     "collapsed": false,
     "input": [
      "# age_None = df_alive['Age'] == 0\n",
      "# df_alive= df_alive[~age_None]"
     ],
     "language": "python",
     "metadata": {},
     "outputs": []
    },
    {
     "cell_type": "code",
     "collapsed": false,
     "input": [
      "# test_data_dead = df_dead.loc[:6,]\n",
      "\n",
      "columns = ['Name', 'Gender', 'Age', 'Prediction_Prob', 'Is_dead']\n",
      "eval_df = pd.DataFrame(columns=columns) \n",
      "\n",
      "df_dead"
     ],
     "language": "python",
     "metadata": {},
     "outputs": []
    },
    {
     "cell_type": "code",
     "collapsed": false,
     "input": [
      "\n",
      "# i is the index\n",
      "i = 0\n",
      "\n",
      "#Iterating through the transpose of the test data - Df_dead\n",
      "for index, row in df_dead.iterrows():\n",
      "    age_count = 0\n",
      "    while age_count <= row['Age']:\n",
      "        name = row['Name']\n",
      "        gender = row['Gender']\n",
      "        age = age_count\n",
      "        if gender == 'Male' :\n",
      "            pred_prob = df_male_prob['Death Prob'].loc[age]\n",
      "        else:\n",
      "            pred_prob = df_female_prob['Death Prob'].loc[age]\n",
      "        if age_count < row['Age']:\n",
      "            is_dead = 'N'\n",
      "        else:\n",
      "            is_dead = 'Y'\n",
      "        age_count += 1\n",
      "        data = np.array([name, gender, age, pred_prob, is_dead])\n",
      "#         print data\n",
      "        eval_df.loc[i] = data\n",
      "        i += 1"
     ],
     "language": "python",
     "metadata": {},
     "outputs": []
    },
    {
     "cell_type": "code",
     "collapsed": false,
     "input": [
      "eval_df.shape"
     ],
     "language": "python",
     "metadata": {},
     "outputs": [
      {
       "metadata": {},
       "output_type": "pyout",
       "prompt_number": 79,
       "text": [
        "(178987, 5)"
       ]
      }
     ],
     "prompt_number": 79
    },
    {
     "cell_type": "code",
     "collapsed": false,
     "input": [],
     "language": "python",
     "metadata": {},
     "outputs": []
    }
   ],
   "metadata": {}
  }
 ]
}