{
 "metadata": {
  "name": "",
  "signature": "sha256:b76e6dc568f9b243c38703159a89d5e6805ec8ab27f6795a7f8c2407e555f0f5"
 },
 "nbformat": 3,
 "nbformat_minor": 0,
 "worksheets": [
  {
   "cells": [
    {
     "cell_type": "code",
     "collapsed": false,
     "input": [
      "%matplotlib inline\n",
      "import pandas as pd\n",
      "from pandas import Series, DataFrame\n",
      "import numpy as np\n",
      "import pylab as pl\n",
      "import numpy as np\n",
      "from sklearn import datasets, linear_model\n",
      "import matplotlib.pyplot as plt\n",
      "import statsmodels.api as sm\n",
      "def stats(y_true,y_pred):\n",
      "    \n",
      "    from sklearn.metrics import mean_absolute_error,mean_squared_error,r2_score\n",
      "    print \"-----------EVALUATION STATISTICS------------\"\n",
      "    print 'Mean absolute Error : ', mean_absolute_error(test_Y.values, y_pred)\n",
      "    print 'Mean squared Error : ', mean_squared_error(y_true, y_pred)\n",
      "    print 'R2 score : ', r2_score(y_true, y_pred)"
     ],
     "language": "python",
     "metadata": {},
     "outputs": [],
     "prompt_number": 1
    },
    {
     "cell_type": "code",
     "collapsed": false,
     "input": [
      "df_data2 = pd.read_csv('../data/../data/finaldata_profession_corrected_dob.csv', error_bad_lines=False, delimiter='~')\n",
      "df_data = pd.read_csv('../data/freebasedata_profession.csv', error_bad_lines=False, delimiter='~')\n",
      "df_data2['LifeExpnAge'] = df_data2['LifeExpectancy']+df_data2['Age']"
     ],
     "language": "python",
     "metadata": {},
     "outputs": [],
     "prompt_number": 2
    },
    {
     "cell_type": "code",
     "collapsed": false,
     "input": [
      "print df_data2.shape\n",
      "print df_data2.columns\n",
      "#remving Nans and NOnes\n",
      "df_data2 = df_data2.replace('unknown', np.nan)\n",
      "df_data2 = df_data2.replace('none', np.nan)\n",
      "df_data2=df_data2.fillna(df_data2.median())\n",
      "print df_data2.shape\n",
      "print df_data2.columns"
     ],
     "language": "python",
     "metadata": {},
     "outputs": [
      {
       "output_type": "stream",
       "stream": "stdout",
       "text": [
        "(167480, 77)\n",
        "Index([u'Unnamed: 0', u'Unnamed: 0.1', u'Unnamed: 0.1', u'Name', u'/people/cause_of_death/parent_cause_of_death', u'/people/cause_of_death/includes_causes_of_death', u'/people/cause_of_death/people', u'DOD', u'/people/deceased_person/place_of_death', u'/people/deceased_person/cause_of_death', u'/people/deceased_person/date_of_cremation', u'/people/deceased_person/place_of_cremation', u'/people/deceased_person/date_of_burial', u'/people/deceased_person/place_of_burial', u'/people/ethnicity/included_in_group', u'/people/ethnicity/includes_groups', u'/people/ethnicity/geographic_distribution', u'/people/ethnicity/languages_spoken', u'/people/ethnicity/population', u'/people/ethnicity/people', u'/people/family_name/people_with_this_family_name', u'/people/group/member', u'/people/measured_person/measurements', u'/people/measured_person/sizes', u'DOB', u'/people/person/place_of_birth', u'/people/person/nationality', u'/people/person/gender', u'/people/person/profession', u'/people/person/religion', u'/people/person/ethnicity', u'/people/person/parents', u'/people/person/children', u'/people/person/sibling_s', u'/people/person/spouse_s', u'/people/person/employment_history', u'/people/person/education', u'/people/person/metaweb_user_s', u'/people/person/signature', u'/people/person/height_meters', u'/people/person/weight_kg', u'/people/person/quotations', u'/people/person/places_lived', u'/people/person/quotationsbook_id', u'/people/person/age', u'/people/person/tvrage_id', u'/people/person/notable_professions', u'/people/person/languages', u'/people/person/group', u'/people/professional_field/professions_in_this_field', u'/people/profession/people_with_this_profession', u'/people/profession/specialization_of', u'/people/profession/specializations', u'/people/profession/part_of_professional_field', u'Unnamed: 51', u'LifeExpectancy', u'Age', u'Probability', u'profession', u'gender', u'nationality', u'nationality_no', u'Politician', u'Pope-elect', u'Diplomat', u'Evangelist', u'Business magnate', u'Astronaut', u'Musician', u'Physicist', u'Actress', u'Actor', u'Guitarist', u'Singer', u'Pianist', u'DOB1', u'LifeExpnAge'], dtype='object')\n",
        "(167480, 77)"
       ]
      },
      {
       "output_type": "stream",
       "stream": "stdout",
       "text": [
        "\n",
        "Index([u'Unnamed: 0', u'Unnamed: 0.1', u'Unnamed: 0.1', u'Name', u'/people/cause_of_death/parent_cause_of_death', u'/people/cause_of_death/includes_causes_of_death', u'/people/cause_of_death/people', u'DOD', u'/people/deceased_person/place_of_death', u'/people/deceased_person/cause_of_death', u'/people/deceased_person/date_of_cremation', u'/people/deceased_person/place_of_cremation', u'/people/deceased_person/date_of_burial', u'/people/deceased_person/place_of_burial', u'/people/ethnicity/included_in_group', u'/people/ethnicity/includes_groups', u'/people/ethnicity/geographic_distribution', u'/people/ethnicity/languages_spoken', u'/people/ethnicity/population', u'/people/ethnicity/people', u'/people/family_name/people_with_this_family_name', u'/people/group/member', u'/people/measured_person/measurements', u'/people/measured_person/sizes', u'DOB', u'/people/person/place_of_birth', u'/people/person/nationality', u'/people/person/gender', u'/people/person/profession', u'/people/person/religion', u'/people/person/ethnicity', u'/people/person/parents', u'/people/person/children', u'/people/person/sibling_s', u'/people/person/spouse_s', u'/people/person/employment_history', u'/people/person/education', u'/people/person/metaweb_user_s', u'/people/person/signature', u'/people/person/height_meters', u'/people/person/weight_kg', u'/people/person/quotations', u'/people/person/places_lived', u'/people/person/quotationsbook_id', u'/people/person/age', u'/people/person/tvrage_id', u'/people/person/notable_professions', u'/people/person/languages', u'/people/person/group', u'/people/professional_field/professions_in_this_field', u'/people/profession/people_with_this_profession', u'/people/profession/specialization_of', u'/people/profession/specializations', u'/people/profession/part_of_professional_field', u'Unnamed: 51', u'LifeExpectancy', u'Age', u'Probability', u'profession', u'gender', u'nationality', u'nationality_no', u'Politician', u'Pope-elect', u'Diplomat', u'Evangelist', u'Business magnate', u'Astronaut', u'Musician', u'Physicist', u'Actress', u'Actor', u'Guitarist', u'Singer', u'Pianist', u'DOB1', u'LifeExpnAge'], dtype='object')\n"
       ]
      }
     ],
     "prompt_number": 3
    },
    {
     "cell_type": "code",
     "collapsed": false,
     "input": [
      "#removing NaN values\n",
      "df_data2 = df_data2.replace('unknown', np.nan)\n",
      "df_data2 = df_data2.replace('none', np.nan)\n",
      "df_data2 = df_data2.fillna(df_data2.median())"
     ],
     "language": "python",
     "metadata": {},
     "outputs": [],
     "prompt_number": 4
    },
    {
     "cell_type": "code",
     "collapsed": false,
     "input": [
      "#extracting fields for regression model\n",
      "df_data_X=pd.concat([df_data2['LifeExpnAge'],df_data2['gender'],df_data2['nationality_no'],df_data2['Politician'],df_data2['Pope-elect'],df_data2['Diplomat'],df_data2['Evangelist'],df_data2['Business magnate'],df_data2['Astronaut'],df_data2['Musician'],df_data2['Physicist'],df_data2['Actress'],df_data2['Actor'],df_data2['Guitarist'],df_data2['Singer'],df_data2['Pianist']],axis=1)\n",
      "df_data_Y=pd.concat([df_data2['Age']],axis=1)"
     ],
     "language": "python",
     "metadata": {},
     "outputs": [],
     "prompt_number": 5
    },
    {
     "cell_type": "code",
     "collapsed": false,
     "input": [
      "msk = np.random.rand(len(df_data2)) < 0.8\n",
      "train_X = df_data_X[msk]\n",
      "test_X = df_data_X[~msk]\n",
      "train_Y = df_data_Y[msk]\n",
      "test_Y = df_data_Y[~msk]\n",
      "train_X = train_X.replace('unknown', np.nan)\n",
      "train_X = train_X.replace('none', np.nan)\n",
      "train_X=train_X.fillna(train_X.median())\n",
      "test_X = test_X.replace('unknown', np.nan)\n",
      "test_X = test_X.replace('none', np.nan)\n",
      "test_X= test_X.fillna(test_X.median())\n",
      "test_Y = test_Y.replace('unknown', np.nan)\n",
      "test_Y = test_Y.replace('none', np.nan)\n",
      "test_Y= test_Y.fillna(test_Y.median())\n",
      "train_Y = train_Y.replace('unknown', np.nan)\n",
      "train_Y = train_Y.replace('none', np.nan)\n",
      "train_Y=train_Y.fillna(train_Y.median())\n",
      "print train_X.shape\n",
      "print train_Y.shape\n",
      "test_X.columns"
     ],
     "language": "python",
     "metadata": {},
     "outputs": [
      {
       "output_type": "stream",
       "stream": "stdout",
       "text": [
        "(134197, 16)\n",
        "(134197, 1)\n"
       ]
      },
      {
       "metadata": {},
       "output_type": "pyout",
       "prompt_number": 6,
       "text": [
        "Index([u'LifeExpnAge', u'gender', u'nationality_no', u'Politician', u'Pope-elect', u'Diplomat', u'Evangelist', u'Business magnate', u'Astronaut', u'Musician', u'Physicist', u'Actress', u'Actor', u'Guitarist', u'Singer', u'Pianist'], dtype='object')"
       ]
      }
     ],
     "prompt_number": 6
    },
    {
     "cell_type": "code",
     "collapsed": false,
     "input": [
      "#print X_train.columns\n",
      "#Index([u'LifeExpectancy', u'gender', u'nationality_no', u'profession1'], dtype='object')\n",
      "#Pope-elect +\n",
      "#Business magnate + \n",
      "'''\n",
      "fml = \"Age ~ 0 + gender + nationality_no + Politician + Diplomat + Evangelist + Astronaut + Musician + Physicist + Actress + Actor + Guitarist + Singer + Pianist+ LifeExpectancy\"\n",
      "mod = sm.OLS.from_formula(fml, train)\n",
      "rslt = mod.fit() # Linear reg\n",
      "#rslt = sm.OLS(train_X, train_Y).fit()\n",
      "#rslt.predict\n",
      "print rslt.summary()\n",
      "y_pred = rslt.predict(test_X)\n",
      "def stats(y_true,y_pred):\n",
      "    \n",
      "    from sklearn.metrics import mean_absolute_error,mean_squared_error,r2_score\n",
      "    print \"-----------EVALUATION STATISTICS------------\"\n",
      "    print 'Mean absolute Error : ', mean_absolute_error(test_Y.values, y_pred)\n",
      "    print 'Mean squared Error : ', mean_squared_error(y_true, y_pred)\n",
      "    print 'R2 score : ', r2_score(y_true, y_pred)\n",
      "stats(test_Y.values, y_pred)\n",
      "'''"
     ],
     "language": "python",
     "metadata": {},
     "outputs": [
      {
       "metadata": {},
       "output_type": "pyout",
       "prompt_number": 7,
       "text": [
        "'\\nfml = \"Age ~ 0 + gender + nationality_no + Politician + Diplomat + Evangelist + Astronaut + Musician + Physicist + Actress + Actor + Guitarist + Singer + Pianist+ LifeExpectancy\"\\nmod = sm.OLS.from_formula(fml, train)\\nrslt = mod.fit() # Linear reg\\n#rslt = sm.OLS(train_X, train_Y).fit()\\n#rslt.predict\\nprint rslt.summary()\\ny_pred = rslt.predict(test_X)\\ndef stats(y_true,y_pred):\\n    \\n    from sklearn.metrics import mean_absolute_error,mean_squared_error,r2_score\\n    print \"-----------EVALUATION STATISTICS------------\"\\n    print \\'Mean absolute Error : \\', mean_absolute_error(test_Y.values, y_pred)\\n    print \\'Mean squared Error : \\', mean_squared_error(y_true, y_pred)\\n    print \\'R2 score : \\', r2_score(y_true, y_pred)\\nstats(test_Y.values, y_pred)\\n'"
       ]
      }
     ],
     "prompt_number": 7
    },
    {
     "cell_type": "code",
     "collapsed": false,
     "input": [
      "#plots\n",
      "fig = plt.figure(figsize=(12,8))\n",
      "fig = sm.graphics.plot_partregress_grid(rslt, fig=fig)"
     ],
     "language": "python",
     "metadata": {},
     "outputs": [
      {
       "ename": "NameError",
       "evalue": "name 'rslt' is not defined",
       "output_type": "pyerr",
       "traceback": [
        "\u001b[0;31m---------------------------------------------------------------------------\u001b[0m\n\u001b[0;31mNameError\u001b[0m                                 Traceback (most recent call last)",
        "\u001b[0;32m<ipython-input-8-706b0f16b74b>\u001b[0m in \u001b[0;36m<module>\u001b[0;34m()\u001b[0m\n\u001b[1;32m      1\u001b[0m \u001b[0;31m#plots\u001b[0m\u001b[0;34m\u001b[0m\u001b[0;34m\u001b[0m\u001b[0m\n\u001b[1;32m      2\u001b[0m \u001b[0mfig\u001b[0m \u001b[0;34m=\u001b[0m \u001b[0mplt\u001b[0m\u001b[0;34m.\u001b[0m\u001b[0mfigure\u001b[0m\u001b[0;34m(\u001b[0m\u001b[0mfigsize\u001b[0m\u001b[0;34m=\u001b[0m\u001b[0;34m(\u001b[0m\u001b[0;36m12\u001b[0m\u001b[0;34m,\u001b[0m\u001b[0;36m8\u001b[0m\u001b[0;34m)\u001b[0m\u001b[0;34m)\u001b[0m\u001b[0;34m\u001b[0m\u001b[0m\n\u001b[0;32m----> 3\u001b[0;31m \u001b[0mfig\u001b[0m \u001b[0;34m=\u001b[0m \u001b[0msm\u001b[0m\u001b[0;34m.\u001b[0m\u001b[0mgraphics\u001b[0m\u001b[0;34m.\u001b[0m\u001b[0mplot_partregress_grid\u001b[0m\u001b[0;34m(\u001b[0m\u001b[0mrslt\u001b[0m\u001b[0;34m,\u001b[0m \u001b[0mfig\u001b[0m\u001b[0;34m=\u001b[0m\u001b[0mfig\u001b[0m\u001b[0;34m)\u001b[0m\u001b[0;34m\u001b[0m\u001b[0m\n\u001b[0m",
        "\u001b[0;31mNameError\u001b[0m: name 'rslt' is not defined"
       ]
      },
      {
       "metadata": {},
       "output_type": "display_data",
       "text": [
        "<matplotlib.figure.Figure at 0x106e242d0>"
       ]
      }
     ],
     "prompt_number": 8
    },
    {
     "cell_type": "code",
     "collapsed": false,
     "input": [
      "#fig = plt.figure(figsize=(12,8))\n",
      "#fig = sm.graphics.influence_plot(rslt, fig=fig)"
     ],
     "language": "python",
     "metadata": {},
     "outputs": []
    },
    {
     "cell_type": "code",
     "collapsed": false,
     "input": [
      "train_X = sm.add_constant(train_X)\n",
      "res = sm.OLS(train_Y, train_X).fit()# Linear reg\n",
      "print res.summary()\n",
      "y_pred = res.predict(test_X)\n",
      "stats(test_Y.values, y_pred)"
     ],
     "language": "python",
     "metadata": {},
     "outputs": [
      {
       "output_type": "stream",
       "stream": "stdout",
       "text": [
        "                            OLS Regression Results                            \n",
        "==============================================================================\n",
        "Dep. Variable:                    Age   R-squared:                       0.965\n",
        "Model:                            OLS   Adj. R-squared:                  0.965\n",
        "Method:                 Least Squares   F-statistic:                 2.656e+05\n",
        "Date:                Thu, 13 Nov 2014   Prob (F-statistic):               0.00\n",
        "Time:                        01:22:50   Log-Likelihood:            -5.3781e+05\n",
        "No. Observations:              134197   AIC:                         1.076e+06\n",
        "Df Residuals:                  134183   BIC:                         1.076e+06\n",
        "Df Model:                          14                                         \n",
        "Covariance Type:            nonrobust                                         \n",
        "====================================================================================\n",
        "                       coef    std err          t      P>|t|      [95.0% Conf. Int.]\n",
        "------------------------------------------------------------------------------------\n",
        "LifeExpnAge          0.8363      0.000   1693.537      0.000         0.835     0.837\n",
        "gender              -4.1330      0.129    -32.139      0.000        -4.385    -3.881\n",
        "nationality_no      -0.0071      0.000    -20.681      0.000        -0.008    -0.006\n",
        "Politician          -0.2632      0.167     -1.578      0.114        -0.590     0.064\n",
        "Pope-elect        1.554e-15   8.64e-16      1.799      0.072     -1.39e-16  3.25e-15\n",
        "Diplomat             1.1440      0.636      1.800      0.072        -0.102     2.390\n",
        "Evangelist          -4.1905      3.558     -1.178      0.239       -11.165     2.784\n",
        "Business magnate     1.5389      2.055      0.749      0.454        -2.488     5.566\n",
        "Astronaut          -10.2366      1.812     -5.648      0.000       -13.789    -6.684\n",
        "Musician            -5.4533      0.459    -11.881      0.000        -6.353    -4.554\n",
        "Physicist            1.5532      0.512      3.035      0.002         0.550     2.556\n",
        "Actress           7.868e-16   3.43e-16      2.292      0.022      1.14e-16  1.46e-15\n",
        "Actor                0.2689      0.139      1.933      0.053        -0.004     0.541\n",
        "Guitarist           -8.4102      1.141     -7.369      0.000       -10.647    -6.173\n",
        "Singer              -1.9070      0.342     -5.575      0.000        -2.577    -1.236\n",
        "Pianist             -0.1166      0.669     -0.174      0.862        -1.429     1.195\n",
        "==============================================================================\n",
        "Omnibus:                    36396.359   Durbin-Watson:                   1.824\n",
        "Prob(Omnibus):                  0.000   Jarque-Bera (JB):           291819.782\n",
        "Skew:                          -1.084   Prob(JB):                         0.00\n",
        "Kurtosis:                       9.891   Cond. No.                     1.25e+20\n",
        "==============================================================================\n",
        "\n",
        "Warnings:\n",
        "[1] Standard Errors assume that the covariance matrix of the errors is correctly specified.\n",
        "[2] The smallest eigenvalue is 1.14e-31. This might indicate that there are\n",
        "strong multicollinearity problems or that the design matrix is singular.\n",
        "-----------EVALUATION STATISTICS------------\n",
        "Mean absolute Error :  10.0376106215\n",
        "Mean squared Error :  173.830861781\n",
        "R2 score :  0.510887632121\n"
       ]
      }
     ],
     "prompt_number": 11
    },
    {
     "cell_type": "code",
     "collapsed": false,
     "input": [
      "df_real_32_data = pd.read_csv('../data/celebrities_32_final.csv', error_bad_lines=False)\n",
      "df_real_32_data['LifeExpnAge'] = df_real_32_data['LifeExpectancy']+df_real_32_data['Age']\n",
      "df_real_32_data.columns\n",
      "df_real_32_data_X = df_real_32_data[['LifeExpnAge','gender','nationality_no', 'Politician', 'Pope-elect', 'Diplomat', 'Evangelist', 'Business magnate', 'Astronaut', 'Musician','Physicist','Actress','Actor','Guitarist','Singer','Pianist']]\n",
      "y_pred = res.predict(df_real_32_data_X)\n",
      "#df_real_32_data.columns\n",
      "df_real_32_data['pred_age'] = y_pred\n",
      "print df_real_32_data[['Name','Age','pred_age','LifeExpnAge']].sort(columns='pred_age',ascending=True)"
     ],
     "language": "python",
     "metadata": {},
     "outputs": [
      {
       "output_type": "stream",
       "stream": "stdout",
       "text": [
        "                          Name  Age   pred_age  LifeExpnAge\n",
        "11             Bashar al-Assad   49  64.642705        79.31\n",
        "29              Keith Richards   70  64.823057        84.07\n",
        "28                 Mick Jagger   71  65.099051        84.40\n",
        "17              Charles Manson   79  67.828661        87.63\n",
        "26                 Chuck Berry   88  69.061893        92.64\n",
        "16                  John Glenn   93  70.212859        96.20\n",
        "15                 Dick Cheney   73  70.919533        85.12\n",
        "27             Jerry Lee Lewis   79  71.374964        87.63\n",
        "7                 Ali Khamenei   75  71.542361        85.89\n",
        "18             Stephen Hawking   72  72.398259        84.75\n",
        "23                   B.B. King   89  72.570743        93.30\n",
        "0           Queen Elizabeth II   88  73.817102        93.56\n",
        "22               Zsa Zsa Gabor   97  74.528433        99.94\n",
        "19                   Doris Day   90  75.145572        94.80\n",
        "21         Olivia de Havilland   98  75.312979       100.76\n",
        "24              Clint Eastwood   84  75.708582        90.21\n",
        "8                Hosni Mubarak   86  75.809461        91.38\n",
        "31                 Fats Domino   86  76.301614        91.38\n",
        "14              Rupert Murdoch   83  76.496205        89.65\n",
        "3                 Fidel Castro   88  76.567030        92.64\n",
        "5                Robert Mugabe   90  76.729833        93.99\n",
        "4                Pope Benedict   87  76.929730        92.00\n",
        "20               Dick van Dyke   88  77.740903        92.64\n",
        "13           Rev. Billy Graham   96  78.282854        98.62\n",
        "2                 Jimmy Carter   90  78.337923        93.99\n",
        "1   George Herbert Walker Bush   90  78.337923        93.99\n",
        "6                 Shimon Peres   91  78.381592        94.70\n",
        "12                Lee Kwan Yew   91  78.677819        94.70\n",
        "10             Henry Kissinger   91  80.331851        94.70\n",
        "30                  Abe Vigoda   93  80.718295        96.20\n",
        "9               Helmut Schmidt   95  81.508985        97.79\n",
        "25                Kirk Douglas   97  83.453146        99.47\n"
       ]
      }
     ],
     "prompt_number": 13
    },
    {
     "cell_type": "code",
     "collapsed": false,
     "input": [
      "df_dummy = pd.read_csv('../data/finaldata_profession_corrected_dob.csv', delimiter='~')\n",
      "df_dummy = df_dummy[df_dummy.DOB1 > 1900]\n",
      "print df_dummy.shape"
     ],
     "language": "python",
     "metadata": {},
     "outputs": []
    },
    {
     "cell_type": "code",
     "collapsed": false,
     "input": [
      "df_data_test = pd.read_csv('../data/celebrities_32_final.csv', error_bad_lines=False)\n",
      "#print df_data_test\n",
      "\n",
      "df_data_test['profession1'] = Series(1, index=df_data_test.index)\n",
      "df_data_test['gender']=Series(None, index=df_data_test.index)\n",
      "for index, row in df_data_test.iterrows():\n",
      "    if row['Gender']=='Male':\n",
      "        df_data2.loc[index,'gender1']=0\n",
      "    if row['Gender']=='Female':\n",
      "        df_data2.loc[index,'gender1']=1\n",
      "#df_data_test\n",
      "#df_test=pd.concat([df_data_test['LifeExpectancy'],df_data_test['gender'],df_data_test['nationality_no'],df_data_test['profession1']],axis=1)\n",
      "print df_data_test\n",
      "#print 24.2059*df_data_test['LifeExpectancy']+0.0599*df_data_test['nationality_no']+35.3053*df_data_test['profession1']+1.7473 *df_data_test['LifeExpectancy']\n",
      "data_results=rslt.predict(df_data_test)\n",
      "print data_results\n",
      "\n",
      "#df_data_Y=pd.concat([df_data2['Age']],axis=1)\n",
      "#df_data_test\n"
     ],
     "language": "python",
     "metadata": {},
     "outputs": []
    },
    {
     "cell_type": "code",
     "collapsed": false,
     "input": [
      "# load the boston housing dataset - median house values in the Boston area\n",
      "df = pd.read_csv('http://vincentarelbundock.github.io/Rdatasets/csv/MASS/Boston.csv')\n",
      "\n",
      "# plot lstat (% lower status of the population) against median value\n",
      "plt.figure(figsize=(6 * 1.618, 6))\n",
      "plt.scatter(df.lstat, df.medv, s=10, alpha=0.3)\n",
      "plt.xlabel('lstat')\n",
      "plt.ylabel('medv')\n",
      "\n",
      "# points linearlyd space on lstats\n",
      "x = pd.DataFrame({'lstat': np.linspace(df.lstat.min(), df.lstat.max(), 100)})\n",
      "\n",
      "# 1-st order polynomial\n",
      "poly_1 = smf.ols(formula='medv ~ 1 + lstat', data=df).fit()\n",
      "plt.plot(x.lstat, poly_1.predict(x), 'b-', label='Poly n=1 $R^2$=%.2f' % poly_1.rsquared, \n",
      "         alpha=0.9)\n",
      "\n",
      "# 2-nd order polynomial\n",
      "poly_2 = smf.ols(formula='medv ~ 1 + lstat + I(lstat ** 2.0)', data=df).fit()\n",
      "plt.plot(x.lstat, poly_2.predict(x), 'g-', label='Poly n=2 $R^2$=%.2f' % poly_2.rsquared, \n",
      "         alpha=0.9)\n",
      "\n",
      "# 3-rd order polynomial\n",
      "poly_3 = smf.ols(formula='medv ~ 1 + lstat + I(lstat ** 2.0) + I(lstat ** 3.0)', data=df).fit()\n",
      "plt.plot(x.lstat, poly_3.predict(x), 'r-', alpha=0.9,\n",
      "         label='Poly n=3 $R^2$=%.2f' % poly_3.rsquared)\n",
      "\n",
      "plt.legend()"
     ],
     "language": "python",
     "metadata": {},
     "outputs": []
    }
   ],
   "metadata": {}
  }
 ]
}