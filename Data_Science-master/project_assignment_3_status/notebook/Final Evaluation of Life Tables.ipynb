{
 "metadata": {
  "name": "",
  "signature": "sha256:28d70150168cc39f6ab421c8aab6fce3b9e950d865102e3b0d421c7b6a8a4093"
 },
 "nbformat": 3,
 "nbformat_minor": 0,
 "worksheets": [
  {
   "cells": [
    {
     "cell_type": "code",
     "collapsed": false,
     "input": [
      "import pandas as pd\n",
      "from pandas import Series, DataFrame\n",
      "import numpy as np\n",
      "import datetime"
     ],
     "language": "python",
     "metadata": {},
     "outputs": [],
     "prompt_number": 13
    },
    {
     "cell_type": "code",
     "collapsed": false,
     "input": [
      "df = pd.read_csv('../data/shuffled.csv', error_bad_lines=False)\n",
      "\n",
      "#Probabilities of death based on gender\n",
      "female_prob = pd.read_csv('../data/Period_Life_Table_Female_2010.csv')\n",
      "male_prob = pd.read_csv('../data/Period_Life_Table_Male_2010.csv')\n",
      "\n",
      "#Death Probability dataframes\n",
      "df_male_prob = pd.DataFrame(male_prob)\n",
      "df_female_prob = pd.DataFrame(female_prob)\n",
      "\n",
      "#Renaming columns\n",
      "df_male_prob.columns = ['Age', 'Death Prob']\n",
      "df_female_prob.columns = ['Age', 'Death Prob']"
     ],
     "language": "python",
     "metadata": {},
     "outputs": [],
     "prompt_number": 14
    },
    {
     "cell_type": "code",
     "collapsed": false,
     "input": [
      "#To create a new DataFrame - For dead people\n",
      "columns = ['Name', 'Gender', 'Age', 'Prediction_Prob', 'Is_dead']\n",
      "eval_df = pd.DataFrame(columns=columns) \n",
      "\n",
      "\n",
      "#*****************************************************************************************#\n",
      "#Test data - 11 records - Df_dead\n",
      "test = df.loc[45003:50000]\n",
      "#*****************************************************************************************#"
     ],
     "language": "python",
     "metadata": {},
     "outputs": [],
     "prompt_number": 15
    },
    {
     "cell_type": "code",
     "collapsed": false,
     "input": [
      "# j is the index\n",
      "j = 0\n",
      "\n",
      "#Iterating through the transpose of the test data - Df_alive\n",
      "for val, row in test.T.iteritems():\n",
      "    age_count = 0\n",
      "    while age_count <= row['Age']:\n",
      "        name = row['Name']\n",
      "        gender = row['Gender']\n",
      "        age = age_count\n",
      "        if gender == 'Male' :\n",
      "            pred_prob = df_male_prob['Death Prob'].loc[age]\n",
      "        else:\n",
      "            pred_prob = df_female_prob['Death Prob'].loc[age]\n",
      "        if row['Age'] != age:\n",
      "            is_dead = 'N'\n",
      "        elif row['Age'] == age and row['Death_Date'] == \"None\":\n",
      "            is_dead = 'N'\n",
      "        else:\n",
      "            is_dead = 'Y'\n",
      "        age_count += 1\n",
      "        data = np.array([name, gender, age, pred_prob, is_dead])\n",
      "        eval_df.loc[j] = data\n",
      "        j += 1\n",
      "\n",
      "#To convert Age from object to int type\n",
      "eval_df['Age'] = eval_df['Age'].astype(int)\n",
      "eval_df['Prediction_Prob'] = eval_df['Prediction_Prob'].astype(float)\n",
      "eval_df = eval_df.sort(['Prediction_Prob', 'Is_dead'])"
     ],
     "language": "python",
     "metadata": {},
     "outputs": [],
     "prompt_number": 16
    },
    {
     "cell_type": "code",
     "collapsed": false,
     "input": [
      "# eval_df.to_csv('../data/evaluation_data/all_10.csv')"
     ],
     "language": "python",
     "metadata": {},
     "outputs": [],
     "prompt_number": 24
    },
    {
     "cell_type": "code",
     "collapsed": false,
     "input": [
      "#Probability categories\n",
      "cat1 = 'less than 0.0002'\n",
      "cat2 = '0.0002 <= x < 0.0004'\n",
      "cat3 = '0.0004 <= x < 0.0006'\n",
      "cat4 = '0.0006 <= x < 0.0010'\n",
      "cat5 = '0.0010 <= x < 0.0020'\n",
      "cat6 = '0.0020 <= x < 0.0040'\n",
      "cat7 = '0.0040 <= x < 0.0060'\n",
      "cat8 = '0.0060 <= x < 0.0100'\n",
      "cat9 = '0.0100 <= x < 0.0200'\n",
      "cat10 = '0.0200 <= x < 0.0400'\n",
      "cat11 = '0.0400 <= x < 0.0600'\n",
      "cat12 = '0.0600 <= x < 0.1000'\n",
      "cat13 = '0.1000 <= x < 0.2000'\n",
      "cat14 = '0.2000 <= x < 0.4000'\n",
      "cat15 = '0.4000 <= x < 0.6000'\n",
      "cat16 = '0.6000 <= x < 0.8000'\n",
      "cat17 = '0.8000 <= x < 1.0000'\n",
      "\n",
      "#Df_dead\n",
      "#Creating a dataframe to keep track of the count of people whose death probabilities is in the above range\n",
      "col = ['Ranges', 'Num_people_alive', 'Num_people_dead']\n",
      "cat_df = pd.DataFrame(columns=col)\n",
      "cat_df['Ranges'] = pd.Series([cat1,cat2,cat3,cat4,cat5,cat6,cat7,cat8,cat9,cat10,cat11,cat12,cat13,cat14,cat15,cat16,cat17])\n",
      "cat_df['Num_people_dead'] = pd.Series([0,0,0,0,0,0,0,0,0,0,0,0,0,0,0,0,0])\n",
      "cat_df['Num_people_alive'] = pd.Series([0,0,0,0,0,0,0,0,0,0,0,0,0,0,0,0,0])\n",
      "cat_df['Total_num_people'] = pd.Series([0,0,0,0,0,0,0,0,0,0,0,0,0,0,0,0,0])\n",
      "cat_df['Num_people_dead/Total'] = pd.Series([0,0,0,0,0,0,0,0,0,0,0,0,0,0,0,0,0])"
     ],
     "language": "python",
     "metadata": {},
     "outputs": [],
     "prompt_number": 18
    },
    {
     "cell_type": "code",
     "collapsed": false,
     "input": [
      "count_alive_cat1 = 0\n",
      "count_dead_cat1 = 0\n",
      "\n",
      "count_alive_cat2 = 0\n",
      "count_dead_cat2 = 0\n",
      "\n",
      "count_alive_cat3 = 0\n",
      "count_dead_cat3 = 0\n",
      "\n",
      "count_alive_cat4 = 0\n",
      "count_dead_cat4 = 0\n",
      "\n",
      "count_alive_cat5 = 0\n",
      "count_dead_cat5 = 0\n",
      "\n",
      "count_alive_cat6 = 0\n",
      "count_dead_cat6 = 0\n",
      "\n",
      "count_alive_cat7 = 0\n",
      "count_dead_cat7 = 0\n",
      "\n",
      "count_alive_cat8 = 0\n",
      "count_dead_cat8 = 0\n",
      "\n",
      "count_alive_cat9 = 0\n",
      "count_dead_cat9 = 0\n",
      "\n",
      "count_alive_cat10 = 0\n",
      "count_dead_cat10 = 0\n",
      "\n",
      "count_alive_cat11 = 0\n",
      "count_dead_cat11 = 0\n",
      "\n",
      "count_alive_cat12 = 0\n",
      "count_dead_cat12 = 0\n",
      "\n",
      "count_alive_cat13 = 0\n",
      "count_dead_cat13 = 0\n",
      "\n",
      "count_alive_cat14 = 0\n",
      "count_dead_cat14 = 0\n",
      "\n",
      "count_alive_cat15 = 0\n",
      "count_dead_cat15 = 0\n",
      "\n",
      "count_alive_cat16 = 0\n",
      "count_dead_cat16 = 0\n",
      "\n",
      "count_alive_cat17 = 0\n",
      "count_dead_cat17 = 0"
     ],
     "language": "python",
     "metadata": {},
     "outputs": [],
     "prompt_number": 19
    },
    {
     "cell_type": "code",
     "collapsed": false,
     "input": [
      "#Df_dead\n",
      "for i in eval_df.index:\n",
      "    if eval_df['Prediction_Prob'].loc[i] < 0.0002 and eval_df['Is_dead'].loc[i] == 'N':\n",
      "       count_alive_cat1 += 1\n",
      "       cat_df['Num_people_alive'].loc[0] = count_alive_cat1\n",
      "    elif eval_df['Prediction_Prob'].loc[i] < 0.0002 and eval_df['Is_dead'].loc[i] == 'Y':\n",
      "        count_dead_cat1 += 1\n",
      "        cat_df['Num_people_dead'].loc[0] = count_dead_cat1 \n",
      "    elif (eval_df['Prediction_Prob'].loc[i] >= 0.0002  and eval_df['Prediction_Prob'].loc[i] < 0.0004) and eval_df['Is_dead'].loc[i] == 'N':\n",
      "       count_alive_cat2 += 1\n",
      "       cat_df['Num_people_alive'].loc[1] = count_alive_cat2\n",
      "    elif (eval_df['Prediction_Prob'].loc[i] >= 0.0002  and eval_df['Prediction_Prob'].loc[i] < 0.0004) and eval_df['Is_dead'].loc[i] == 'Y':\n",
      "        count_dead_cat2 += 1\n",
      "        cat_df['Num_people_dead'].loc[1] = count_dead_cat2  \n",
      "    elif (eval_df['Prediction_Prob'].loc[i] >= 0.0004  and eval_df['Prediction_Prob'].loc[i] < 0.0006) and eval_df['Is_dead'].loc[i] == 'N':\n",
      "       count_alive_cat3 += 1\n",
      "       cat_df['Num_people_alive'].loc[2] = count_alive_cat3\n",
      "    elif (eval_df['Prediction_Prob'].loc[i] >= 0.0002  and eval_df['Prediction_Prob'].loc[i] < 0.0004) and eval_df['Is_dead'].loc[i] == 'Y':\n",
      "        count_dead_cat3 += 1\n",
      "        cat_df['Num_people_dead'].loc[2] = count_dead_cat3   \n",
      "    elif (eval_df['Prediction_Prob'].loc[i] >= 0.0006  and eval_df['Prediction_Prob'].loc[i] < 0.0010) and eval_df['Is_dead'].loc[i] == 'N':\n",
      "       count_alive_cat4 += 1\n",
      "       cat_df['Num_people_alive'].loc[3] = count_alive_cat4\n",
      "    elif (eval_df['Prediction_Prob'].loc[i] >= 0.0006  and eval_df['Prediction_Prob'].loc[i] < 0.0010) and eval_df['Is_dead'].loc[i] == 'Y':\n",
      "        count_dead_cat4 += 1\n",
      "        cat_df['Num_people_dead'].loc[3] = count_dead_cat4 \n",
      "    elif (eval_df['Prediction_Prob'].loc[i] >= 0.0010  and eval_df['Prediction_Prob'].loc[i] < 0.0020) and eval_df['Is_dead'].loc[i] == 'N':\n",
      "       count_alive_cat5 += 1\n",
      "       cat_df['Num_people_alive'].loc[4] = count_alive_cat5\n",
      "    elif (eval_df['Prediction_Prob'].loc[i] >= 0.0010  and eval_df['Prediction_Prob'].loc[i] < 0.0020) and eval_df['Is_dead'].loc[i] == 'Y':\n",
      "        count_dead_cat5 += 1\n",
      "        cat_df['Num_people_dead'].loc[4] = count_dead_cat5 \n",
      "    elif (eval_df['Prediction_Prob'].loc[i] >= 0.0020  and eval_df['Prediction_Prob'].loc[i] < 0.0040) and eval_df['Is_dead'].loc[i] == 'N':\n",
      "       count_alive_cat6 += 1\n",
      "       cat_df['Num_people_alive'].loc[5] = count_alive_cat6\n",
      "    elif (eval_df['Prediction_Prob'].loc[i] >= 0.0020  and eval_df['Prediction_Prob'].loc[i] < 0.0040) and eval_df['Is_dead'].loc[i] == 'Y':\n",
      "        count_dead_cat6 += 1\n",
      "        cat_df['Num_people_dead'].loc[5] = count_dead_cat6  \n",
      "    elif (eval_df['Prediction_Prob'].loc[i] >= 0.0040  and eval_df['Prediction_Prob'].loc[i] < 0.0060) and eval_df['Is_dead'].loc[i] == 'N':\n",
      "       count_alive_cat7 += 1\n",
      "       cat_df['Num_people_alive'].loc[6] = count_alive_cat7\n",
      "    elif (eval_df['Prediction_Prob'].loc[i] >= 0.0040  and eval_df['Prediction_Prob'].loc[i] < 0.0060) and eval_df['Is_dead'].loc[i] == 'Y':\n",
      "        count_dead_cat7 += 1\n",
      "        cat_df['Num_people_dead'].loc[6] = count_dead_cat7 \n",
      "    elif (eval_df['Prediction_Prob'].loc[i] >= 0.0060  and eval_df['Prediction_Prob'].loc[i] < 0.0100) and eval_df['Is_dead'].loc[i] == 'N':\n",
      "       count_alive_cat8 += 1\n",
      "       cat_df['Num_people_alive'].loc[7] = count_alive_cat8\n",
      "    elif (eval_df['Prediction_Prob'].loc[i] >= 0.0060  and eval_df['Prediction_Prob'].loc[i] < 0.0100) and eval_df['Is_dead'].loc[i] == 'Y':\n",
      "        count_dead_cat8 += 1\n",
      "        cat_df['Num_people_dead'].loc[7] = count_dead_cat8 \n",
      "    elif (eval_df['Prediction_Prob'].loc[i] >= 0.0100  and eval_df['Prediction_Prob'].loc[i] < 0.0200) and eval_df['Is_dead'].loc[i] == 'N':\n",
      "       count_alive_cat9 += 1\n",
      "       cat_df['Num_people_alive'].loc[8] = count_alive_cat9\n",
      "    elif (eval_df['Prediction_Prob'].loc[i] >= 0.0100  and eval_df['Prediction_Prob'].loc[i] < 0.0200) and eval_df['Is_dead'].loc[i] == 'Y':\n",
      "        count_dead_cat9 += 1\n",
      "        cat_df['Num_people_dead'].loc[8] = count_dead_cat9  \n",
      "    elif (eval_df['Prediction_Prob'].loc[i] >= 0.0200  and eval_df['Prediction_Prob'].loc[i] < 0.0400) and eval_df['Is_dead'].loc[i] == 'N':\n",
      "       count_alive_cat10 += 1\n",
      "       cat_df['Num_people_alive'].loc[9] = count_alive_cat10\n",
      "    elif (eval_df['Prediction_Prob'].loc[i] >= 0.0200  and eval_df['Prediction_Prob'].loc[i] < 0.0400) and eval_df['Is_dead'].loc[i] == 'Y':\n",
      "        count_dead_cat10 += 1\n",
      "        cat_df['Num_people_dead'].loc[9] = count_dead_cat10\n",
      "    elif (eval_df['Prediction_Prob'].loc[i] >= 0.0400  and eval_df['Prediction_Prob'].loc[i] < 0.0600) and eval_df['Is_dead'].loc[i] == 'N':\n",
      "       count_alive_cat11 += 1\n",
      "       cat_df['Num_people_alive'].loc[10] = count_alive_cat11\n",
      "    elif (eval_df['Prediction_Prob'].loc[i] >= 0.0400  and eval_df['Prediction_Prob'].loc[i] < 0.0600) and eval_df['Is_dead'].loc[i] == 'Y':\n",
      "        count_dead_cat11 += 1\n",
      "        cat_df['Num_people_dead'].loc[10] = count_dead_cat11\n",
      "    elif (eval_df['Prediction_Prob'].loc[i] >= 0.0600  and eval_df['Prediction_Prob'].loc[i] < 0.1000) and eval_df['Is_dead'].loc[i] == 'N':\n",
      "       count_alive_cat12 += 1\n",
      "       cat_df['Num_people_alive'].loc[11] = count_alive_cat12\n",
      "    elif (eval_df['Prediction_Prob'].loc[i] >= 0.0600  and eval_df['Prediction_Prob'].loc[i] < 0.1000) and eval_df['Is_dead'].loc[i] == 'Y':\n",
      "        count_dead_cat12 += 1\n",
      "        cat_df['Num_people_dead'].loc[11] = count_dead_cat12  \n",
      "    elif (eval_df['Prediction_Prob'].loc[i] >= 0.1000  and eval_df['Prediction_Prob'].loc[i] < 0.2000) and eval_df['Is_dead'].loc[i] == 'N':\n",
      "       count_alive_cat13 += 1\n",
      "       cat_df['Num_people_alive'].loc[12] = count_alive_cat13\n",
      "    elif (eval_df['Prediction_Prob'].loc[i] >= 0.1000  and eval_df['Prediction_Prob'].loc[i] < 0.2000) and eval_df['Is_dead'].loc[i] == 'Y':\n",
      "        count_dead_cat13 += 1\n",
      "        cat_df['Num_people_dead'].loc[12] = count_dead_cat13\n",
      "    elif (eval_df['Prediction_Prob'].loc[i] >= 0.2000  and eval_df['Prediction_Prob'].loc[i] < 0.4000) and eval_df['Is_dead'].loc[i] == 'N':\n",
      "       count_alive_cat14 += 1\n",
      "       cat_df['Num_people_alive'].loc[13] = count_alive_cat14\n",
      "    elif (eval_df['Prediction_Prob'].loc[i] >= 0.2000  and eval_df['Prediction_Prob'].loc[i] < 0.4000) and eval_df['Is_dead'].loc[i] == 'Y':\n",
      "        count_dead_cat14 += 1\n",
      "        cat_df['Num_people_dead'].loc[13] = count_dead_cat14  \n",
      "    elif (eval_df['Prediction_Prob'].loc[i] >= 0.4000  and eval_df['Prediction_Prob'].loc[i] < 0.6000) and eval_df['Is_dead'].loc[i] == 'N':\n",
      "       count_alive_cat15 += 1\n",
      "       cat_df['Num_people_alive'].loc[14] = count_alive_cat15\n",
      "    elif (eval_df['Prediction_Prob'].loc[i] >= 0.4000  and eval_df['Prediction_Prob'].loc[i] < 0.6000) and eval_df['Is_dead'].loc[i] == 'Y':\n",
      "        count_dead_cat15 += 1\n",
      "        cat_df['Num_people_dead'].loc[14] = count_dead_cat15  \n",
      "    elif (eval_df['Prediction_Prob'].loc[i] >= 0.6000  and eval_df['Prediction_Prob'].loc[i] < 0.8000) and eval_df['Is_dead'].loc[i] == 'N':\n",
      "       count_alive_cat16 += 1\n",
      "       cat_df['Num_people_alive'].loc[15] = count_alive_cat16\n",
      "    elif (eval_df['Prediction_Prob'].loc[i] >= 0.6000  and eval_df['Prediction_Prob'].loc[i] < 0.8000) and eval_df['Is_dead'].loc[i] == 'Y':\n",
      "        count_dead_cat16 += 1\n",
      "        cat_df['Num_people_dead'].loc[15] = count_dead_cat16  \n",
      "    elif (eval_df['Prediction_Prob'].loc[i] >= 0.8000  and eval_df['Prediction_Prob'].loc[i] < 1.0000) and eval_df['Is_dead'].loc[i] == 'N':\n",
      "       count_alive_cat17 += 1\n",
      "       cat_df['Num_people_alive'].loc[16] = count_alive_cat17\n",
      "    elif (eval_df['Prediction_Prob'].loc[i] >= 0.8000  and eval_df['Prediction_Prob'].loc[i] < 1.0000) and eval_df['Is_dead'].loc[i] == 'Y':\n",
      "        count_dead_cat17 += 1\n",
      "        cat_df['Num_people_dead'].loc[16] = count_dead_cat17  "
     ],
     "language": "python",
     "metadata": {},
     "outputs": [],
     "prompt_number": 20
    },
    {
     "cell_type": "code",
     "collapsed": false,
     "input": [
      "cat_df['Total_num_people'] = cat_df['Num_people_alive'] + cat_df['Num_people_dead']\n",
      "cat_df['Num_people_alive/Total'] = cat_df['Num_people_alive']/cat_df['Total_num_people']"
     ],
     "language": "python",
     "metadata": {},
     "outputs": [],
     "prompt_number": 21
    },
    {
     "cell_type": "code",
     "collapsed": false,
     "input": [
      "cat_df"
     ],
     "language": "python",
     "metadata": {},
     "outputs": [
      {
       "html": [
        "<div style=\"max-height:1000px;max-width:1500px;overflow:auto;\">\n",
        "<table border=\"1\" class=\"dataframe\">\n",
        "  <thead>\n",
        "    <tr style=\"text-align: right;\">\n",
        "      <th></th>\n",
        "      <th>Ranges</th>\n",
        "      <th>Num_people_alive</th>\n",
        "      <th>Num_people_dead</th>\n",
        "      <th>Total_num_people</th>\n",
        "      <th>Num_people_dead/Total</th>\n",
        "      <th>Num_people_alive/Total</th>\n",
        "    </tr>\n",
        "  </thead>\n",
        "  <tbody>\n",
        "    <tr>\n",
        "      <th>0 </th>\n",
        "      <td>     less than 0.0002</td>\n",
        "      <td> 46813</td>\n",
        "      <td>   1</td>\n",
        "      <td> 46814</td>\n",
        "      <td> 0</td>\n",
        "      <td> 0.999979</td>\n",
        "    </tr>\n",
        "    <tr>\n",
        "      <th>1 </th>\n",
        "      <td> 0.0002 &lt;= x &lt; 0.0004</td>\n",
        "      <td> 17786</td>\n",
        "      <td>   1</td>\n",
        "      <td> 17787</td>\n",
        "      <td> 0</td>\n",
        "      <td> 0.999944</td>\n",
        "    </tr>\n",
        "    <tr>\n",
        "      <th>2 </th>\n",
        "      <td> 0.0004 &lt;= x &lt; 0.0006</td>\n",
        "      <td> 22968</td>\n",
        "      <td>   0</td>\n",
        "      <td> 22968</td>\n",
        "      <td> 0</td>\n",
        "      <td> 1.000000</td>\n",
        "    </tr>\n",
        "    <tr>\n",
        "      <th>3 </th>\n",
        "      <td> 0.0006 &lt;= x &lt; 0.0010</td>\n",
        "      <td> 16820</td>\n",
        "      <td>   1</td>\n",
        "      <td> 16821</td>\n",
        "      <td> 0</td>\n",
        "      <td> 0.999941</td>\n",
        "    </tr>\n",
        "    <tr>\n",
        "      <th>4 </th>\n",
        "      <td> 0.0010 &lt;= x &lt; 0.0020</td>\n",
        "      <td> 76899</td>\n",
        "      <td>  69</td>\n",
        "      <td> 76968</td>\n",
        "      <td> 0</td>\n",
        "      <td> 0.999104</td>\n",
        "    </tr>\n",
        "    <tr>\n",
        "      <th>5 </th>\n",
        "      <td> 0.0020 &lt;= x &lt; 0.0040</td>\n",
        "      <td> 30501</td>\n",
        "      <td>  73</td>\n",
        "      <td> 30574</td>\n",
        "      <td> 0</td>\n",
        "      <td> 0.997612</td>\n",
        "    </tr>\n",
        "    <tr>\n",
        "      <th>6 </th>\n",
        "      <td> 0.0040 &lt;= x &lt; 0.0060</td>\n",
        "      <td> 23506</td>\n",
        "      <td>  67</td>\n",
        "      <td> 23573</td>\n",
        "      <td> 0</td>\n",
        "      <td> 0.997158</td>\n",
        "    </tr>\n",
        "    <tr>\n",
        "      <th>7 </th>\n",
        "      <td> 0.0060 &lt;= x &lt; 0.0100</td>\n",
        "      <td> 14167</td>\n",
        "      <td>  86</td>\n",
        "      <td> 14253</td>\n",
        "      <td> 0</td>\n",
        "      <td> 0.993966</td>\n",
        "    </tr>\n",
        "    <tr>\n",
        "      <th>8 </th>\n",
        "      <td> 0.0100 &lt;= x &lt; 0.0200</td>\n",
        "      <td> 13240</td>\n",
        "      <td> 135</td>\n",
        "      <td> 13375</td>\n",
        "      <td> 0</td>\n",
        "      <td> 0.989907</td>\n",
        "    </tr>\n",
        "    <tr>\n",
        "      <th>9 </th>\n",
        "      <td> 0.0200 &lt;= x &lt; 0.0400</td>\n",
        "      <td> 10413</td>\n",
        "      <td> 186</td>\n",
        "      <td> 10599</td>\n",
        "      <td> 0</td>\n",
        "      <td> 0.982451</td>\n",
        "    </tr>\n",
        "    <tr>\n",
        "      <th>10</th>\n",
        "      <td> 0.0400 &lt;= x &lt; 0.0600</td>\n",
        "      <td>  3604</td>\n",
        "      <td> 127</td>\n",
        "      <td>  3731</td>\n",
        "      <td> 0</td>\n",
        "      <td> 0.965961</td>\n",
        "    </tr>\n",
        "    <tr>\n",
        "      <th>11</th>\n",
        "      <td> 0.0600 &lt;= x &lt; 0.1000</td>\n",
        "      <td>  3100</td>\n",
        "      <td> 162</td>\n",
        "      <td>  3262</td>\n",
        "      <td> 0</td>\n",
        "      <td> 0.950337</td>\n",
        "    </tr>\n",
        "    <tr>\n",
        "      <th>12</th>\n",
        "      <td> 0.1000 &lt;= x &lt; 0.2000</td>\n",
        "      <td>  2242</td>\n",
        "      <td> 179</td>\n",
        "      <td>  2421</td>\n",
        "      <td> 0</td>\n",
        "      <td> 0.926064</td>\n",
        "    </tr>\n",
        "    <tr>\n",
        "      <th>13</th>\n",
        "      <td> 0.2000 &lt;= x &lt; 0.4000</td>\n",
        "      <td>   883</td>\n",
        "      <td>  86</td>\n",
        "      <td>   969</td>\n",
        "      <td> 0</td>\n",
        "      <td> 0.911249</td>\n",
        "    </tr>\n",
        "    <tr>\n",
        "      <th>14</th>\n",
        "      <td> 0.4000 &lt;= x &lt; 0.6000</td>\n",
        "      <td>   259</td>\n",
        "      <td>   5</td>\n",
        "      <td>   264</td>\n",
        "      <td> 0</td>\n",
        "      <td> 0.981061</td>\n",
        "    </tr>\n",
        "    <tr>\n",
        "      <th>15</th>\n",
        "      <td> 0.6000 &lt;= x &lt; 0.8000</td>\n",
        "      <td>    58</td>\n",
        "      <td>   0</td>\n",
        "      <td>    58</td>\n",
        "      <td> 0</td>\n",
        "      <td> 1.000000</td>\n",
        "    </tr>\n",
        "    <tr>\n",
        "      <th>16</th>\n",
        "      <td> 0.8000 &lt;= x &lt; 1.0000</td>\n",
        "      <td>     0</td>\n",
        "      <td>   0</td>\n",
        "      <td>     0</td>\n",
        "      <td> 0</td>\n",
        "      <td>      inf</td>\n",
        "    </tr>\n",
        "  </tbody>\n",
        "</table>\n",
        "</div>"
       ],
       "metadata": {},
       "output_type": "pyout",
       "prompt_number": 22,
       "text": [
        "                  Ranges  Num_people_alive  Num_people_dead  Total_num_people  \\\n",
        "0       less than 0.0002             46813                1             46814   \n",
        "1   0.0002 <= x < 0.0004             17786                1             17787   \n",
        "2   0.0004 <= x < 0.0006             22968                0             22968   \n",
        "3   0.0006 <= x < 0.0010             16820                1             16821   \n",
        "4   0.0010 <= x < 0.0020             76899               69             76968   \n",
        "5   0.0020 <= x < 0.0040             30501               73             30574   \n",
        "6   0.0040 <= x < 0.0060             23506               67             23573   \n",
        "7   0.0060 <= x < 0.0100             14167               86             14253   \n",
        "8   0.0100 <= x < 0.0200             13240              135             13375   \n",
        "9   0.0200 <= x < 0.0400             10413              186             10599   \n",
        "10  0.0400 <= x < 0.0600              3604              127              3731   \n",
        "11  0.0600 <= x < 0.1000              3100              162              3262   \n",
        "12  0.1000 <= x < 0.2000              2242              179              2421   \n",
        "13  0.2000 <= x < 0.4000               883               86               969   \n",
        "14  0.4000 <= x < 0.6000               259                5               264   \n",
        "15  0.6000 <= x < 0.8000                58                0                58   \n",
        "16  0.8000 <= x < 1.0000                 0                0                 0   \n",
        "\n",
        "    Num_people_dead/Total  Num_people_alive/Total  \n",
        "0                       0                0.999979  \n",
        "1                       0                0.999944  \n",
        "2                       0                1.000000  \n",
        "3                       0                0.999941  \n",
        "4                       0                0.999104  \n",
        "5                       0                0.997612  \n",
        "6                       0                0.997158  \n",
        "7                       0                0.993966  \n",
        "8                       0                0.989907  \n",
        "9                       0                0.982451  \n",
        "10                      0                0.965961  \n",
        "11                      0                0.950337  \n",
        "12                      0                0.926064  \n",
        "13                      0                0.911249  \n",
        "14                      0                0.981061  \n",
        "15                      0                1.000000  \n",
        "16                      0                     inf  "
       ]
      }
     ],
     "prompt_number": 22
    },
    {
     "cell_type": "code",
     "collapsed": false,
     "input": [
      "cat_df.to_csv('../data/evaluation_data/10.csv')"
     ],
     "language": "python",
     "metadata": {},
     "outputs": [],
     "prompt_number": 23
    }
   ],
   "metadata": {}
  }
 ]
}