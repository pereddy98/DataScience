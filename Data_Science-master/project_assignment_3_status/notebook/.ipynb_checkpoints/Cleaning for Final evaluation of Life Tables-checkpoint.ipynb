{
 "metadata": {
  "name": "",
  "signature": "sha256:778c75f7cafb20c3e68e3a9cb9e0fff0187a565ae3d2542986cb58541b4c28b2"
 },
 "nbformat": 3,
 "nbformat_minor": 0,
 "worksheets": [
  {
   "cells": [
    {
     "cell_type": "code",
     "collapsed": false,
     "input": [
      "import pandas as pd\n",
      "from pandas import Series, DataFrame\n",
      "import numpy as np\n",
      "import datetime"
     ],
     "language": "python",
     "metadata": {},
     "outputs": [],
     "prompt_number": 2
    },
    {
     "cell_type": "code",
     "collapsed": false,
     "input": [
      "df1 = pd.read_csv('../data/alldata_1.csv', error_bad_lines=False, delimiter='#')\n",
      "df1 = df1[['Name', '/people/person/gender', '/people/deceased_person/date_of_death', '/people/person/date_of_birth']]\n",
      "df1.columns = ['Name', 'Gender', 'Death_Date', 'Birth_Date']\n",
      "\n",
      "#Second set of data\n",
      "df2 = pd.read_csv('../data/alldata_2.csv', error_bad_lines=False, delimiter='#')\n",
      "df2 = df2[['Name', '/people/person/gender', '/people/deceased_person/date_of_death', '/people/person/date_of_birth']]\n",
      "df2.columns = ['Name', 'Gender', 'Death_Date', 'Birth_Date']\n",
      "\n",
      "#combining both the sets\n",
      "df3 = df1.append(df2)\n",
      "df3 = df3.reset_index(drop=True)"
     ],
     "language": "python",
     "metadata": {},
     "outputs": [
      {
       "output_type": "stream",
       "stream": "stderr",
       "text": [
        "Skipping line 208224: expected 103 fields, saw 104\n",
        "\n"
       ]
      }
     ],
     "prompt_number": 60
    },
    {
     "cell_type": "code",
     "collapsed": false,
     "input": [
      "#Cleaning dataset - Removed None values for gender and Birth Date\n",
      "gender_None = df3['Gender'].isin(['None'])\n",
      "df3 = df3[~gender_None]\n",
      "\n",
      "birthdate_None = df3['Birth_Date'].isin(['None'])\n",
      "df3 = df3[~birthdate_None]\n",
      "\n",
      "df3['Birth_Date'] = df3['Birth_Date'].str.split('-',1)\n",
      "df3['Death_Date'] = df3['Death_Date'].str.split('-',1)\n",
      "\n",
      "df3 = df3.reset_index(drop=True)\n",
      "\n",
      "for i in range(0, df3.shape[0]):\n",
      "    df3['Birth_Date'].loc[i] = df3['Birth_Date'].loc[i][0]\n",
      "    df3['Death_Date'].loc[i] = df3['Death_Date'].loc[i][0]\n",
      "    "
     ],
     "language": "python",
     "metadata": {},
     "outputs": [],
     "prompt_number": 42
    },
    {
     "cell_type": "code",
     "collapsed": false,
     "input": [
      "df4 = pd.read_csv('../data/temp_data.csv', error_bad_lines=False)"
     ],
     "language": "python",
     "metadata": {},
     "outputs": [],
     "prompt_number": 182
    },
    {
     "cell_type": "code",
     "collapsed": false,
     "input": [
      "df4_birth_year = df4['Birth_Date'] < 1900\n",
      "df4 = df4[~df4_birth_year]\n",
      "\n",
      "df4_death_year = df4['Death_Date'] < 1900\n",
      "df4 = df4[~df4_death_year]\n",
      "\n",
      "df4 = df4.reset_index(drop=True)"
     ],
     "language": "python",
     "metadata": {},
     "outputs": [],
     "prompt_number": 183
    },
    {
     "cell_type": "code",
     "collapsed": false,
     "input": [
      "deathdate_None = df4['Death_Date'].isin(['None'])\n",
      "df_alive = df4[deathdate_None]\n",
      "df_dead = df4[~deathdate_None]"
     ],
     "language": "python",
     "metadata": {},
     "outputs": [],
     "prompt_number": 184
    },
    {
     "cell_type": "code",
     "collapsed": false,
     "input": [
      "df_dead['Death_Date'] = df_dead['Death_Date'].astype(float)\n",
      "df_dead['Age'] = df_dead['Death_Date'] - df_dead['Birth_Date']\n",
      "df_alive['Age'] = 2014 - df_alive['Birth_Date']\n",
      "\n",
      "df_dead = df_dead.reset_index(drop=True)\n",
      "df_alive = df_alive.reset_index(drop=True)"
     ],
     "language": "python",
     "metadata": {},
     "outputs": [],
     "prompt_number": 185
    },
    {
     "cell_type": "code",
     "collapsed": false,
     "input": [
      "finaldf = df_dead.append(df_alive)"
     ],
     "language": "python",
     "metadata": {},
     "outputs": [],
     "prompt_number": 186
    }
   ],
   "metadata": {}
  }
 ]
}