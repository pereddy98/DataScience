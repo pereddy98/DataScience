{
 "metadata": {
  "name": "",
  "signature": "sha256:a05ee78dbe7c9aa00e1d678f0e1cde90984bc829c6b6b57b193de389ef949904"
 },
 "nbformat": 3,
 "nbformat_minor": 0,
 "worksheets": [
  {
   "cells": [
    {
     "cell_type": "markdown",
     "metadata": {},
     "source": [
      "Ipython notebook for all that we do, starting 28th Oct 2014"
     ]
    },
    {
     "cell_type": "code",
     "collapsed": false,
     "input": [
      "import pandas as pd\n",
      "from pandas import Series, DataFrame\n",
      "import numpy as np"
     ],
     "language": "python",
     "metadata": {},
     "outputs": [],
     "prompt_number": 2
    },
    {
     "cell_type": "markdown",
     "metadata": {},
     "source": [
      "Loading Life Tables 2010 for both Males and Females"
     ]
    },
    {
     "cell_type": "code",
     "collapsed": false,
     "input": [
      "m_life_df = pd.read_csv('../data/Period_Life_Table_Male_2010.csv')\n",
      "f_life_df = pd.read_csv('../data/Period_Life_Table_Female_2010.csv')\n",
      "#Renaming columns for convinience\n",
      "m_life_df.columns = ['Age', 'Death_Probability']\n",
      "f_life_df.columns = ['Age', 'Death_Probability']\n",
      "df = pd.read_csv('../data/nndb_data.csv')\n",
      "actual_data = pd.read_csv('../data/probabilities.csv')\n",
      "actual_data['New_Death_Probability'] = 0\n",
      "for i in actual_data.index:\n",
      "    if actual_data['GENDER'].loc[i] == 'Male' :\n",
      "        actual_data['New_Death_Probability'].loc[i] = m_life_df['Death_Probability'].loc[actual_data['AGE'].loc[i]]\n",
      "    else:\n",
      "        actual_data['New_Death_Probability'].loc[i] = f_life_df['Death_Probability'].loc[actual_data['AGE'].loc[i]]\n",
      "print actual_data"
     ],
     "language": "python",
     "metadata": {},
     "outputs": [
      {
       "output_type": "stream",
       "stream": "stdout",
       "text": [
        "                          NAME  GENDER  AGE         COUNTRY  \\\n",
        "0                Robert Mugabe    Male   90        Zimbabwe   \n",
        "1               Helmut Schmidt    Male   96         Germany   \n",
        "2                Zsa Zsa Gabor  Female   97         Austria   \n",
        "3            Rev. Billy Graham    Male   96   United States   \n",
        "4                 Kirk Douglas    Male   98   United States   \n",
        "5              Henry Kissinger    Male   91         Germany   \n",
        "6   George Herbert Walker Bush    Male   90   United States   \n",
        "7                 Jimmy Carter    Male   90   United States   \n",
        "8                   John Glenn    Male   93   United States   \n",
        "9                   Abe Vigoda    Male   93   United States   \n",
        "10                Shimon Peres    Male   91          Poland   \n",
        "11         Olivia De Havilland  Female   98           Japan   \n",
        "12                   Doris Day  Female   90   United States   \n",
        "13                Lee Kuan Yew    Male   91       Singapore   \n",
        "14           Pope Benedict XVI    Male   87         Germany   \n",
        "15               Hosni Mubarak    Male   86           Egypt   \n",
        "16                 Fats Domino    Male   86   United States   \n",
        "17               Dick Van Dyke    Male   89   United States   \n",
        "18                   B.B. King    Male   89   United States   \n",
        "19                 Chuck Berry    Male   87   United States   \n",
        "20                Fidel Castro    Male   88            Cuba   \n",
        "21          Queen Elizabeth II  Female   88  United Kingdom   \n",
        "22              Charles Manson    Male   80   United States   \n",
        "23              Clint Eastwood    Male   84   United States   \n",
        "24                Ali Khamenei    Male   75            Iran   \n",
        "25              Rupert Murdoch    Male   83       Australia   \n",
        "26             Jerry Lee Lewis    Male   79   United States   \n",
        "27                 Dick Cheney    Male   73   United States   \n",
        "28                 Mick Jagger    Male   71   United States   \n",
        "29              Keith Richards    Male   71   United States   \n",
        "30             Stephen Hawking    Male   72  United Kingdom   \n",
        "31             Bashar Al-Assad    Male   49           Syria   \n",
        "\n",
        "    PROBABILITY OF DEATH  CONTINENT  New_Death_Probability  \n",
        "0                  0.847     Africa                0.19307  \n",
        "1                  0.817     Europe                0.31547  \n",
        "2                  0.814     Europe                0.28359  \n",
        "3                  0.811   Americas                0.31547  \n",
        "4                  0.811   Americas                0.35496  \n",
        "5                  0.688     Europe                0.21141  \n",
        "6                  0.680   Americas                0.19307  \n",
        "7                  0.680   Americas                0.19307  \n",
        "8                  0.680   Americas                0.25138  \n",
        "9                  0.680   Americas                0.25138  \n",
        "10                 0.656     Europe                0.21141  \n",
        "11                 0.649       Asia                0.30287  \n",
        "12                 0.594   Americas                0.14886  \n",
        "13                 0.537       Asia                0.21141  \n",
        "14                 0.492     Europe                0.14473  \n",
        "15                 0.485     Africa                0.13083  \n",
        "16                 0.485   Americas                0.13083  \n",
        "17                 0.485   Americas                0.17584  \n",
        "18                 0.485   Americas                0.17584  \n",
        "19                 0.485   Americas                0.14473  \n",
        "20                 0.458   Americas                0.15973  \n",
        "21                 0.381     Europe                0.11955  \n",
        "22                 0.318   Americas                0.06978  \n",
        "23                 0.318   Americas                0.10625  \n",
        "24                 0.295       Asia                0.04299  \n",
        "25                 0.283  Australia                0.09557  \n",
        "26                 0.206   Americas                0.06305  \n",
        "27                 0.137   Americas                0.03633  \n",
        "28                 0.137   Americas                0.03059  \n",
        "29                 0.137   Americas                0.03059  \n",
        "30                 0.123     Europe                0.03343  \n",
        "31                 0.038       Asia                0.00457  \n"
       ]
      },
      {
       "output_type": "stream",
       "stream": "stderr",
       "text": [
        "C:\\Users\\Varsha\\User\\lib\\site-packages\\pandas\\core\\indexing.py:121: SettingWithCopyWarning: \n",
        "A value is trying to be set on a copy of a slice from a DataFrame\n",
        "\n",
        "See the the caveats in the documentation: http://pandas.pydata.org/pandas-docs/stable/indexing.html#indexing-view-versus-copy\n",
        "  self._setitem_with_indexer(indexer, value)\n"
       ]
      }
     ],
     "prompt_number": 3
    },
    {
     "cell_type": "markdown",
     "metadata": {},
     "source": [
      "Selecting only certain attributes from the entire dataset"
     ]
    },
    {
     "cell_type": "code",
     "collapsed": false,
     "input": [
      "all_data = df[['Name','gender','is alive', 'age']]\n",
      "all_data['gender'] = all_data['gender'].map(str.strip)"
     ],
     "language": "python",
     "metadata": {},
     "outputs": [
      {
       "output_type": "stream",
       "stream": "stderr",
       "text": [
        "-c:2: SettingWithCopyWarning: \n",
        "A value is trying to be set on a copy of a slice from a DataFrame.\n",
        "Try using .loc[row_indexer,col_indexer] = value instead\n",
        "\n",
        "See the the caveats in the documentation: http://pandas.pydata.org/pandas-docs/stable/indexing.html#indexing-view-versus-copy\n"
       ]
      }
     ],
     "prompt_number": 4
    },
    {
     "cell_type": "code",
     "collapsed": false,
     "input": [
      "#all_data"
     ],
     "language": "python",
     "metadata": {},
     "outputs": [],
     "prompt_number": 5
    },
    {
     "cell_type": "code",
     "collapsed": false,
     "input": [
      "males_data = all_data[all_data['gender']=='Male']\n",
      "females_data = all_data[all_data['gender']=='Female']"
     ],
     "language": "python",
     "metadata": {},
     "outputs": [],
     "prompt_number": 6
    },
    {
     "cell_type": "code",
     "collapsed": false,
     "input": [
      "#males_data\n",
      "males_data['Death_Probability'] = 0\n",
      "#males_data['Death_Probability']= m_life_df['Death_Probability'].where(m_life_df['Age']==males_data['age'])\n",
      "#males_data['Death_Probability'] = males_data['age'].map(m_life_df['Death_Probability'])\n",
      "#males_data['Death_Probability']=males_data['Death_Probability'].map((lambda x : m_life_df['Death_Probability'].loc[x]))\n",
      "#males_data['Death_Probability'] = m_life_df['Death_Probability'].loc[males_data['age']]\n",
      "#males_data\n",
      "for i in males_data.index:\n",
      "    males_data['Death_Probability'].loc[i] = m_life_df['Death_Probability'].loc[males_data['age'].loc[i]]\n",
      "print males_data"
     ],
     "language": "python",
     "metadata": {},
     "outputs": [
      {
       "ename": "KeyboardInterrupt",
       "evalue": "",
       "output_type": "pyerr",
       "traceback": [
        "\u001b[1;31m---------------------------------------------------------------------------\u001b[0m\n\u001b[1;31mKeyboardInterrupt\u001b[0m                         Traceback (most recent call last)",
        "\u001b[1;32m<ipython-input-8-443fd5267eb9>\u001b[0m in \u001b[0;36m<module>\u001b[1;34m()\u001b[0m\n\u001b[0;32m      7\u001b[0m \u001b[1;31m#males_data\u001b[0m\u001b[1;33m\u001b[0m\u001b[1;33m\u001b[0m\u001b[0m\n\u001b[0;32m      8\u001b[0m \u001b[1;32mfor\u001b[0m \u001b[0mi\u001b[0m \u001b[1;32min\u001b[0m \u001b[0mmales_data\u001b[0m\u001b[1;33m.\u001b[0m\u001b[0mindex\u001b[0m\u001b[1;33m:\u001b[0m\u001b[1;33m\u001b[0m\u001b[0m\n\u001b[1;32m----> 9\u001b[1;33m     \u001b[0mmales_data\u001b[0m\u001b[1;33m[\u001b[0m\u001b[1;34m'Death_Probability'\u001b[0m\u001b[1;33m]\u001b[0m\u001b[1;33m.\u001b[0m\u001b[0mloc\u001b[0m\u001b[1;33m[\u001b[0m\u001b[0mi\u001b[0m\u001b[1;33m]\u001b[0m \u001b[1;33m=\u001b[0m \u001b[0mm_life_df\u001b[0m\u001b[1;33m[\u001b[0m\u001b[1;34m'Death_Probability'\u001b[0m\u001b[1;33m]\u001b[0m\u001b[1;33m.\u001b[0m\u001b[0mloc\u001b[0m\u001b[1;33m[\u001b[0m\u001b[0mmales_data\u001b[0m\u001b[1;33m[\u001b[0m\u001b[1;34m'age'\u001b[0m\u001b[1;33m]\u001b[0m\u001b[1;33m.\u001b[0m\u001b[0mloc\u001b[0m\u001b[1;33m[\u001b[0m\u001b[0mi\u001b[0m\u001b[1;33m]\u001b[0m\u001b[1;33m]\u001b[0m\u001b[1;33m\u001b[0m\u001b[0m\n\u001b[0m\u001b[0;32m     10\u001b[0m \u001b[1;32mprint\u001b[0m \u001b[0mmales_data\u001b[0m\u001b[1;33m\u001b[0m\u001b[0m\n",
        "\u001b[1;32mC:\\Users\\Varsha\\User\\lib\\site-packages\\pandas\\core\\indexing.pyc\u001b[0m in \u001b[0;36m__setitem__\u001b[1;34m(self, key, value)\u001b[0m\n\u001b[0;32m    119\u001b[0m                 \u001b[0mindexer\u001b[0m \u001b[1;33m=\u001b[0m \u001b[0mself\u001b[0m\u001b[1;33m.\u001b[0m\u001b[0m_convert_to_indexer\u001b[0m\u001b[1;33m(\u001b[0m\u001b[0mkey\u001b[0m\u001b[1;33m,\u001b[0m \u001b[0mis_setter\u001b[0m\u001b[1;33m=\u001b[0m\u001b[0mTrue\u001b[0m\u001b[1;33m)\u001b[0m\u001b[1;33m\u001b[0m\u001b[0m\n\u001b[0;32m    120\u001b[0m \u001b[1;33m\u001b[0m\u001b[0m\n\u001b[1;32m--> 121\u001b[1;33m         \u001b[0mself\u001b[0m\u001b[1;33m.\u001b[0m\u001b[0m_setitem_with_indexer\u001b[0m\u001b[1;33m(\u001b[0m\u001b[0mindexer\u001b[0m\u001b[1;33m,\u001b[0m \u001b[0mvalue\u001b[0m\u001b[1;33m)\u001b[0m\u001b[1;33m\u001b[0m\u001b[0m\n\u001b[0m\u001b[0;32m    122\u001b[0m \u001b[1;33m\u001b[0m\u001b[0m\n\u001b[0;32m    123\u001b[0m     \u001b[1;32mdef\u001b[0m \u001b[0m_has_valid_type\u001b[0m\u001b[1;33m(\u001b[0m\u001b[0mself\u001b[0m\u001b[1;33m,\u001b[0m \u001b[0mk\u001b[0m\u001b[1;33m,\u001b[0m \u001b[0maxis\u001b[0m\u001b[1;33m)\u001b[0m\u001b[1;33m:\u001b[0m\u001b[1;33m\u001b[0m\u001b[0m\n",
        "\u001b[1;32mC:\\Users\\Varsha\\User\\lib\\site-packages\\pandas\\core\\indexing.pyc\u001b[0m in \u001b[0;36m_setitem_with_indexer\u001b[1;34m(self, indexer, value)\u001b[0m\n\u001b[0;32m    497\u001b[0m             \u001b[1;31m# actually do the set\u001b[0m\u001b[1;33m\u001b[0m\u001b[1;33m\u001b[0m\u001b[0m\n\u001b[0;32m    498\u001b[0m             \u001b[0mself\u001b[0m\u001b[1;33m.\u001b[0m\u001b[0mobj\u001b[0m\u001b[1;33m.\u001b[0m\u001b[0m_data\u001b[0m \u001b[1;33m=\u001b[0m \u001b[0mself\u001b[0m\u001b[1;33m.\u001b[0m\u001b[0mobj\u001b[0m\u001b[1;33m.\u001b[0m\u001b[0m_data\u001b[0m\u001b[1;33m.\u001b[0m\u001b[0msetitem\u001b[0m\u001b[1;33m(\u001b[0m\u001b[0mindexer\u001b[0m\u001b[1;33m=\u001b[0m\u001b[0mindexer\u001b[0m\u001b[1;33m,\u001b[0m \u001b[0mvalue\u001b[0m\u001b[1;33m=\u001b[0m\u001b[0mvalue\u001b[0m\u001b[1;33m)\u001b[0m\u001b[1;33m\u001b[0m\u001b[0m\n\u001b[1;32m--> 499\u001b[1;33m             \u001b[0mself\u001b[0m\u001b[1;33m.\u001b[0m\u001b[0mobj\u001b[0m\u001b[1;33m.\u001b[0m\u001b[0m_maybe_update_cacher\u001b[0m\u001b[1;33m(\u001b[0m\u001b[0mclear\u001b[0m\u001b[1;33m=\u001b[0m\u001b[0mTrue\u001b[0m\u001b[1;33m)\u001b[0m\u001b[1;33m\u001b[0m\u001b[0m\n\u001b[0m\u001b[0;32m    500\u001b[0m \u001b[1;33m\u001b[0m\u001b[0m\n\u001b[0;32m    501\u001b[0m     \u001b[1;32mdef\u001b[0m \u001b[0m_align_series\u001b[0m\u001b[1;33m(\u001b[0m\u001b[0mself\u001b[0m\u001b[1;33m,\u001b[0m \u001b[0mindexer\u001b[0m\u001b[1;33m,\u001b[0m \u001b[0mser\u001b[0m\u001b[1;33m)\u001b[0m\u001b[1;33m:\u001b[0m\u001b[1;33m\u001b[0m\u001b[0m\n",
        "\u001b[1;32mC:\\Users\\Varsha\\User\\lib\\site-packages\\pandas\\core\\generic.pyc\u001b[0m in \u001b[0;36m_maybe_update_cacher\u001b[1;34m(self, clear, verify_is_copy)\u001b[0m\n\u001b[0;32m   1139\u001b[0m \u001b[1;33m\u001b[0m\u001b[0m\n\u001b[0;32m   1140\u001b[0m         \u001b[1;32mif\u001b[0m \u001b[0mverify_is_copy\u001b[0m\u001b[1;33m:\u001b[0m\u001b[1;33m\u001b[0m\u001b[0m\n\u001b[1;32m-> 1141\u001b[1;33m             \u001b[0mself\u001b[0m\u001b[1;33m.\u001b[0m\u001b[0m_check_setitem_copy\u001b[0m\u001b[1;33m(\u001b[0m\u001b[0mstacklevel\u001b[0m\u001b[1;33m=\u001b[0m\u001b[1;36m5\u001b[0m\u001b[1;33m,\u001b[0m \u001b[0mt\u001b[0m\u001b[1;33m=\u001b[0m\u001b[1;34m'referant'\u001b[0m\u001b[1;33m)\u001b[0m\u001b[1;33m\u001b[0m\u001b[0m\n\u001b[0m\u001b[0;32m   1142\u001b[0m \u001b[1;33m\u001b[0m\u001b[0m\n\u001b[0;32m   1143\u001b[0m         \u001b[1;32mif\u001b[0m \u001b[0mclear\u001b[0m\u001b[1;33m:\u001b[0m\u001b[1;33m\u001b[0m\u001b[0m\n",
        "\u001b[1;32mC:\\Users\\Varsha\\User\\lib\\site-packages\\pandas\\core\\generic.pyc\u001b[0m in \u001b[0;36m_check_setitem_copy\u001b[1;34m(self, stacklevel, t, force)\u001b[0m\n\u001b[0;32m   1267\u001b[0m                 \u001b[1;32mraise\u001b[0m \u001b[0mSettingWithCopyError\u001b[0m\u001b[1;33m(\u001b[0m\u001b[0mt\u001b[0m\u001b[1;33m)\u001b[0m\u001b[1;33m\u001b[0m\u001b[0m\n\u001b[0;32m   1268\u001b[0m             \u001b[1;32melif\u001b[0m \u001b[0mvalue\u001b[0m \u001b[1;33m==\u001b[0m \u001b[1;34m'warn'\u001b[0m\u001b[1;33m:\u001b[0m\u001b[1;33m\u001b[0m\u001b[0m\n\u001b[1;32m-> 1269\u001b[1;33m                 \u001b[0mwarnings\u001b[0m\u001b[1;33m.\u001b[0m\u001b[0mwarn\u001b[0m\u001b[1;33m(\u001b[0m\u001b[0mt\u001b[0m\u001b[1;33m,\u001b[0m \u001b[0mSettingWithCopyWarning\u001b[0m\u001b[1;33m,\u001b[0m \u001b[0mstacklevel\u001b[0m\u001b[1;33m=\u001b[0m\u001b[0mstacklevel\u001b[0m\u001b[1;33m)\u001b[0m\u001b[1;33m\u001b[0m\u001b[0m\n\u001b[0m\u001b[0;32m   1270\u001b[0m \u001b[1;33m\u001b[0m\u001b[0m\n\u001b[0;32m   1271\u001b[0m     \u001b[1;32mdef\u001b[0m \u001b[0m__delitem__\u001b[0m\u001b[1;33m(\u001b[0m\u001b[0mself\u001b[0m\u001b[1;33m,\u001b[0m \u001b[0mkey\u001b[0m\u001b[1;33m)\u001b[0m\u001b[1;33m:\u001b[0m\u001b[1;33m\u001b[0m\u001b[0m\n",
        "\u001b[1;31mKeyboardInterrupt\u001b[0m: "
       ]
      }
     ],
     "prompt_number": 8
    },
    {
     "cell_type": "code",
     "collapsed": false,
     "input": [
      "females_data['Death_Probability'] = 0\n",
      "for i in females_data.index:\n",
      "    females_data['Death_Probability'].loc[i] = f_life_df['Death_Probability'].loc[females_data['age'].loc[i]]\n",
      "print females_data"
     ],
     "language": "python",
     "metadata": {},
     "outputs": []
    },
    {
     "cell_type": "code",
     "collapsed": false,
     "input": [
      "#write to CSV\n",
      "males_data.to_csv('../data/males_data.csv')\n",
      "females_data.to_csv('../data/females_data.csv')"
     ],
     "language": "python",
     "metadata": {},
     "outputs": []
    },
    {
     "cell_type": "markdown",
     "metadata": {},
     "source": [
      "Got death probabilities for each of the 25867(NNDB) persons ! Based on SSA Life tables."
     ]
    },
    {
     "cell_type": "code",
     "collapsed": false,
     "input": [
      "#evaluate\n",
      "path_to_csv_for_eval_males= \"../data/males_data.csv\"\n",
      "path_to_csv_for_eval_females= \"../data/females_data.csv\"\n",
      "#def evaluate(path_to_csv):\n",
      "    "
     ],
     "language": "python",
     "metadata": {},
     "outputs": []
    },
    {
     "cell_type": "code",
     "collapsed": false,
     "input": [
      "df_males_data = pd.read_csv('../data/males_data.csv')\n",
      "df_females_data = pd.read_csv('../data/females_data.csv')\n",
      "arr = np.array(df_males_data['Death_Probability'])\n",
      "sum_prob = arr.sum()\n",
      "final = []\n",
      "\n",
      "for i in arr:\n",
      "    val = i/sum_prob\n",
      "    final.append(val)\n",
      "\n",
      "normalized = np.asarray(final)\n",
      "#s = normalized.sum().round(2)\n",
      "#print s\n",
      "\n",
      "df_males_data['Normalized'] = normalized\n",
      "df_males_data[['Name','Normalized']]\n",
      "#print actual_data['Normalized'].sum()"
     ],
     "language": "python",
     "metadata": {},
     "outputs": []
    },
    {
     "cell_type": "code",
     "collapsed": false,
     "input": [
      "arr = np.array(actual_data['New_Death_Probability'])\n",
      "sum_prob = arr.sum()\n",
      "final = []\n",
      "\n",
      "for i in arr:\n",
      "    val = i/sum_prob\n",
      "    final.append(val)\n",
      "\n",
      "normalized = np.asarray(final)\n",
      "#s = normalized.sum().round(2)\n",
      "#print s\n",
      "\n",
      "actual_data['Normalized'] = normalized\n",
      "actual_data['Percentage'] = actual_data['Normalized'] * 100\n",
      "actual_data = actual_data.sort('Percentage',ascending=False)\n",
      "actual_data.to_csv('../data/normalized_actual_data.csv')\n",
      "actual_data[['NAME','Normalized','Percentage']]\n",
      "actual_data[['NAME','Percentage']].to_csv('../data/improved_predictions_for_halloween.csv', index=False)\n",
      "#print actual_data['Normalized'].sum()"
     ],
     "language": "python",
     "metadata": {},
     "outputs": []
    },
    {
     "cell_type": "code",
     "collapsed": false,
     "input": [
      "#need to make a data frame out of the personalities data we got from FreeBase\n",
      "# better to use a path variable for addr of file.\n",
      "freebase_persons = pd.read_csv('../data/personalities_data_1_aashray_freebase.csv', error_bad_lines=False)# some lines have more \n",
      "#fields than others\n",
      "# can also you skip rows to skip n rows till the row that is more representative"
     ],
     "language": "python",
     "metadata": {},
     "outputs": [],
     "prompt_number": 4
    },
    {
     "cell_type": "code",
     "collapsed": false,
     "input": [
      "freebase_persons"
     ],
     "language": "python",
     "metadata": {},
     "outputs": [
      {
       "html": [
        "<div style=\"max-height:1000px;max-width:1500px;overflow:auto;\">\n",
        "<table border=\"1\" class=\"dataframe\">\n",
        "  <thead>\n",
        "    <tr style=\"text-align: right;\">\n",
        "      <th></th>\n",
        "      <th>NAME</th>\n",
        "      <th>DOB</th>\n",
        "      <th>Gender</th>\n",
        "      <th>Country</th>\n",
        "      <th>Country 2</th>\n",
        "      <th>DOD</th>\n",
        "      <th>COD</th>\n",
        "      <th>COD 2</th>\n",
        "      <th>Unnamed: 8</th>\n",
        "      <th>Unnamed: 9</th>\n",
        "      <th>Unnamed: 10</th>\n",
        "      <th>Unnamed: 11</th>\n",
        "      <th>Unnamed: 12</th>\n",
        "      <th>Unnamed: 13</th>\n",
        "    </tr>\n",
        "  </thead>\n",
        "  <tbody>\n",
        "    <tr>\n",
        "      <th>0     </th>\n",
        "      <td>             Jack Abramoff</td>\n",
        "      <td>           2/28/58</td>\n",
        "      <td>       Male</td>\n",
        "      <td> [u'United States of America']</td>\n",
        "      <td>                            []</td>\n",
        "      <td>       None</td>\n",
        "      <td>                         []</td>\n",
        "      <td>                 []</td>\n",
        "      <td> NaN</td>\n",
        "      <td> NaN</td>\n",
        "      <td> NaN</td>\n",
        "      <td> NaN</td>\n",
        "      <td> NaN</td>\n",
        "      <td> NaN</td>\n",
        "    </tr>\n",
        "    <tr>\n",
        "      <th>1     </th>\n",
        "      <td>                   Bob Ney</td>\n",
        "      <td>            7/5/54</td>\n",
        "      <td>       Male</td>\n",
        "      <td> [u'United States of America']</td>\n",
        "      <td>                            []</td>\n",
        "      <td>       None</td>\n",
        "      <td>                         []</td>\n",
        "      <td>                 []</td>\n",
        "      <td> NaN</td>\n",
        "      <td> NaN</td>\n",
        "      <td> NaN</td>\n",
        "      <td> NaN</td>\n",
        "      <td> NaN</td>\n",
        "      <td> NaN</td>\n",
        "    </tr>\n",
        "    <tr>\n",
        "      <th>2     </th>\n",
        "      <td>            David Safavian</td>\n",
        "      <td>            8/4/67</td>\n",
        "      <td>       Male</td>\n",
        "      <td> [u'United States of America']</td>\n",
        "      <td>                            []</td>\n",
        "      <td>       None</td>\n",
        "      <td>                         []</td>\n",
        "      <td>                 []</td>\n",
        "      <td> NaN</td>\n",
        "      <td> NaN</td>\n",
        "      <td> NaN</td>\n",
        "      <td> NaN</td>\n",
        "      <td> NaN</td>\n",
        "      <td> NaN</td>\n",
        "    </tr>\n",
        "    <tr>\n",
        "      <th>3     </th>\n",
        "      <td>          K\u0334re Kristiansen</td>\n",
        "      <td>           3/11/20</td>\n",
        "      <td>       Male</td>\n",
        "      <td>                   [u'Norway']</td>\n",
        "      <td>                            []</td>\n",
        "      <td>    12/3/05</td>\n",
        "      <td>                         []</td>\n",
        "      <td>                 []</td>\n",
        "      <td> NaN</td>\n",
        "      <td> NaN</td>\n",
        "      <td> NaN</td>\n",
        "      <td> NaN</td>\n",
        "      <td> NaN</td>\n",
        "      <td> NaN</td>\n",
        "    </tr>\n",
        "    <tr>\n",
        "      <th>4     </th>\n",
        "      <td>             Adam Murimuth</td>\n",
        "      <td>              1274</td>\n",
        "      <td>       Male</td>\n",
        "      <td>                  [u'England']</td>\n",
        "      <td>                            []</td>\n",
        "      <td>       1347</td>\n",
        "      <td>                         []</td>\n",
        "      <td>                 []</td>\n",
        "      <td> NaN</td>\n",
        "      <td> NaN</td>\n",
        "      <td> NaN</td>\n",
        "      <td> NaN</td>\n",
        "      <td> NaN</td>\n",
        "      <td> NaN</td>\n",
        "    </tr>\n",
        "    <tr>\n",
        "      <th>5     </th>\n",
        "      <td>            Carlos Bernard</td>\n",
        "      <td>          10/12/62</td>\n",
        "      <td>       Male</td>\n",
        "      <td> [u'United States of America']</td>\n",
        "      <td>                            []</td>\n",
        "      <td>       None</td>\n",
        "      <td>                         []</td>\n",
        "      <td>                 []</td>\n",
        "      <td> NaN</td>\n",
        "      <td> NaN</td>\n",
        "      <td> NaN</td>\n",
        "      <td> NaN</td>\n",
        "      <td> NaN</td>\n",
        "      <td> NaN</td>\n",
        "    </tr>\n",
        "    <tr>\n",
        "      <th>6     </th>\n",
        "      <td>     Christopher Eccleston</td>\n",
        "      <td>           2/16/64</td>\n",
        "      <td>       Male</td>\n",
        "      <td>           [u'United Kingdom']</td>\n",
        "      <td>                            []</td>\n",
        "      <td>       None</td>\n",
        "      <td>                         []</td>\n",
        "      <td>                 []</td>\n",
        "      <td> NaN</td>\n",
        "      <td> NaN</td>\n",
        "      <td> NaN</td>\n",
        "      <td> NaN</td>\n",
        "      <td> NaN</td>\n",
        "      <td> NaN</td>\n",
        "    </tr>\n",
        "    <tr>\n",
        "      <th>7     </th>\n",
        "      <td>   Chenganoor Raman Pillai</td>\n",
        "      <td>        1886-01-16</td>\n",
        "      <td>       Male</td>\n",
        "      <td>                    [u'India']</td>\n",
        "      <td>                            []</td>\n",
        "      <td>   11/11/80</td>\n",
        "      <td>                         []</td>\n",
        "      <td>                 []</td>\n",
        "      <td> NaN</td>\n",
        "      <td> NaN</td>\n",
        "      <td> NaN</td>\n",
        "      <td> NaN</td>\n",
        "      <td> NaN</td>\n",
        "      <td> NaN</td>\n",
        "    </tr>\n",
        "    <tr>\n",
        "      <th>8     </th>\n",
        "      <td>         Francisco Pizarro</td>\n",
        "      <td>              None</td>\n",
        "      <td>       Male</td>\n",
        "      <td>                     [u'Spain'</td>\n",
        "      <td>            u'Spanish Empire']</td>\n",
        "      <td>         []</td>\n",
        "      <td>                 1541-06-26</td>\n",
        "      <td> [u'Assassination']</td>\n",
        "      <td>  []</td>\n",
        "      <td> NaN</td>\n",
        "      <td> NaN</td>\n",
        "      <td> NaN</td>\n",
        "      <td> NaN</td>\n",
        "      <td> NaN</td>\n",
        "    </tr>\n",
        "    <tr>\n",
        "      <th>9     </th>\n",
        "      <td>             William Hoare</td>\n",
        "      <td>              1707</td>\n",
        "      <td>       Male</td>\n",
        "      <td>                  [u'England']</td>\n",
        "      <td>                            []</td>\n",
        "      <td> 1792-12-12</td>\n",
        "      <td>                         []</td>\n",
        "      <td>                 []</td>\n",
        "      <td> NaN</td>\n",
        "      <td> NaN</td>\n",
        "      <td> NaN</td>\n",
        "      <td> NaN</td>\n",
        "      <td> NaN</td>\n",
        "      <td> NaN</td>\n",
        "    </tr>\n",
        "    <tr>\n",
        "      <th>10    </th>\n",
        "      <td>         William Beresford</td>\n",
        "      <td>        1797-04-17</td>\n",
        "      <td>       Male</td>\n",
        "      <td>           [u'United Kingdom']</td>\n",
        "      <td>                            []</td>\n",
        "      <td> 1883-10-06</td>\n",
        "      <td>                         []</td>\n",
        "      <td>                 []</td>\n",
        "      <td> NaN</td>\n",
        "      <td> NaN</td>\n",
        "      <td> NaN</td>\n",
        "      <td> NaN</td>\n",
        "      <td> NaN</td>\n",
        "      <td> NaN</td>\n",
        "    </tr>\n",
        "    <tr>\n",
        "      <th>11    </th>\n",
        "      <td>             Julia Alvarez</td>\n",
        "      <td>           3/27/50</td>\n",
        "      <td>     Female</td>\n",
        "      <td>        [u'Dominican Republic'</td>\n",
        "      <td>  u'United States of America']</td>\n",
        "      <td>         []</td>\n",
        "      <td>                       None</td>\n",
        "      <td>                 []</td>\n",
        "      <td>  []</td>\n",
        "      <td> NaN</td>\n",
        "      <td> NaN</td>\n",
        "      <td> NaN</td>\n",
        "      <td> NaN</td>\n",
        "      <td> NaN</td>\n",
        "    </tr>\n",
        "    <tr>\n",
        "      <th>12    </th>\n",
        "      <td>             Craig Parnham</td>\n",
        "      <td>           7/13/73</td>\n",
        "      <td>       Male</td>\n",
        "      <td>                  [u'England']</td>\n",
        "      <td>                            []</td>\n",
        "      <td>       None</td>\n",
        "      <td>                         []</td>\n",
        "      <td>                 []</td>\n",
        "      <td> NaN</td>\n",
        "      <td> NaN</td>\n",
        "      <td> NaN</td>\n",
        "      <td> NaN</td>\n",
        "      <td> NaN</td>\n",
        "      <td> NaN</td>\n",
        "    </tr>\n",
        "    <tr>\n",
        "      <th>13    </th>\n",
        "      <td>        Shmuel Yosef Agnon</td>\n",
        "      <td>        1888-07-17</td>\n",
        "      <td>       Male</td>\n",
        "      <td>                   [u'Israel']</td>\n",
        "      <td>                            []</td>\n",
        "      <td>    2/17/70</td>\n",
        "      <td>                         []</td>\n",
        "      <td>                 []</td>\n",
        "      <td> NaN</td>\n",
        "      <td> NaN</td>\n",
        "      <td> NaN</td>\n",
        "      <td> NaN</td>\n",
        "      <td> NaN</td>\n",
        "      <td> NaN</td>\n",
        "    </tr>\n",
        "    <tr>\n",
        "      <th>14    </th>\n",
        "      <td>              Martin Adams</td>\n",
        "      <td>            6/4/56</td>\n",
        "      <td>       Male</td>\n",
        "      <td>                  [u'England']</td>\n",
        "      <td>                            []</td>\n",
        "      <td>       None</td>\n",
        "      <td>                         []</td>\n",
        "      <td>                 []</td>\n",
        "      <td> NaN</td>\n",
        "      <td> NaN</td>\n",
        "      <td> NaN</td>\n",
        "      <td> NaN</td>\n",
        "      <td> NaN</td>\n",
        "      <td> NaN</td>\n",
        "    </tr>\n",
        "    <tr>\n",
        "      <th>15    </th>\n",
        "      <td>            MarTay Jenkins</td>\n",
        "      <td>           2/28/75</td>\n",
        "      <td>       Male</td>\n",
        "      <td> [u'United States of America']</td>\n",
        "      <td>                            []</td>\n",
        "      <td>       None</td>\n",
        "      <td>                         []</td>\n",
        "      <td>                 []</td>\n",
        "      <td> NaN</td>\n",
        "      <td> NaN</td>\n",
        "      <td> NaN</td>\n",
        "      <td> NaN</td>\n",
        "      <td> NaN</td>\n",
        "      <td> NaN</td>\n",
        "    </tr>\n",
        "    <tr>\n",
        "      <th>16    </th>\n",
        "      <td>                 Adam Bomb</td>\n",
        "      <td>              1963</td>\n",
        "      <td>       Male</td>\n",
        "      <td> [u'United States of America']</td>\n",
        "      <td>                            []</td>\n",
        "      <td>       None</td>\n",
        "      <td>                         []</td>\n",
        "      <td>                 []</td>\n",
        "      <td> NaN</td>\n",
        "      <td> NaN</td>\n",
        "      <td> NaN</td>\n",
        "      <td> NaN</td>\n",
        "      <td> NaN</td>\n",
        "      <td> NaN</td>\n",
        "    </tr>\n",
        "    <tr>\n",
        "      <th>17    </th>\n",
        "      <td>              Michael Bush</td>\n",
        "      <td>           6/16/84</td>\n",
        "      <td>       Male</td>\n",
        "      <td> [u'United States of America']</td>\n",
        "      <td>                            []</td>\n",
        "      <td>       None</td>\n",
        "      <td>                         []</td>\n",
        "      <td>                 []</td>\n",
        "      <td> NaN</td>\n",
        "      <td> NaN</td>\n",
        "      <td> NaN</td>\n",
        "      <td> NaN</td>\n",
        "      <td> NaN</td>\n",
        "      <td> NaN</td>\n",
        "    </tr>\n",
        "    <tr>\n",
        "      <th>18    </th>\n",
        "      <td>             Tim Alexander</td>\n",
        "      <td>           4/10/65</td>\n",
        "      <td>       Male</td>\n",
        "      <td> [u'United States of America']</td>\n",
        "      <td>                            []</td>\n",
        "      <td>       None</td>\n",
        "      <td>                         []</td>\n",
        "      <td>                 []</td>\n",
        "      <td> NaN</td>\n",
        "      <td> NaN</td>\n",
        "      <td> NaN</td>\n",
        "      <td> NaN</td>\n",
        "      <td> NaN</td>\n",
        "      <td> NaN</td>\n",
        "    </tr>\n",
        "    <tr>\n",
        "      <th>19    </th>\n",
        "      <td>          Inge Hammarstr\u0326m</td>\n",
        "      <td>           1/20/48</td>\n",
        "      <td>       Male</td>\n",
        "      <td>                   [u'Sweden']</td>\n",
        "      <td>                            []</td>\n",
        "      <td>       None</td>\n",
        "      <td>                         []</td>\n",
        "      <td>                 []</td>\n",
        "      <td> NaN</td>\n",
        "      <td> NaN</td>\n",
        "      <td> NaN</td>\n",
        "      <td> NaN</td>\n",
        "      <td> NaN</td>\n",
        "      <td> NaN</td>\n",
        "    </tr>\n",
        "    <tr>\n",
        "      <th>20    </th>\n",
        "      <td>                Per Eklund</td>\n",
        "      <td>           6/26/46</td>\n",
        "      <td>       Male</td>\n",
        "      <td>                   [u'Sweden']</td>\n",
        "      <td>                            []</td>\n",
        "      <td>       None</td>\n",
        "      <td>                         []</td>\n",
        "      <td>                 []</td>\n",
        "      <td> NaN</td>\n",
        "      <td> NaN</td>\n",
        "      <td> NaN</td>\n",
        "      <td> NaN</td>\n",
        "      <td> NaN</td>\n",
        "      <td> NaN</td>\n",
        "    </tr>\n",
        "    <tr>\n",
        "      <th>21    </th>\n",
        "      <td>             Richard Noble</td>\n",
        "      <td>            3/6/46</td>\n",
        "      <td>       Male</td>\n",
        "      <td>                            []</td>\n",
        "      <td>                            []</td>\n",
        "      <td>       None</td>\n",
        "      <td>                         []</td>\n",
        "      <td>                 []</td>\n",
        "      <td> NaN</td>\n",
        "      <td> NaN</td>\n",
        "      <td> NaN</td>\n",
        "      <td> NaN</td>\n",
        "      <td> NaN</td>\n",
        "      <td> NaN</td>\n",
        "    </tr>\n",
        "    <tr>\n",
        "      <th>22    </th>\n",
        "      <td>              Sadie Irvine</td>\n",
        "      <td>              1887</td>\n",
        "      <td>     Female</td>\n",
        "      <td> [u'United States of America']</td>\n",
        "      <td>                            []</td>\n",
        "      <td>       1970</td>\n",
        "      <td>                         []</td>\n",
        "      <td>                 []</td>\n",
        "      <td> NaN</td>\n",
        "      <td> NaN</td>\n",
        "      <td> NaN</td>\n",
        "      <td> NaN</td>\n",
        "      <td> NaN</td>\n",
        "      <td> NaN</td>\n",
        "    </tr>\n",
        "    <tr>\n",
        "      <th>23    </th>\n",
        "      <td> Justine Frangouli-Argyris</td>\n",
        "      <td>              1959</td>\n",
        "      <td>     Female</td>\n",
        "      <td>                   [u'Greece']</td>\n",
        "      <td>                            []</td>\n",
        "      <td>       None</td>\n",
        "      <td>                         []</td>\n",
        "      <td>                 []</td>\n",
        "      <td> NaN</td>\n",
        "      <td> NaN</td>\n",
        "      <td> NaN</td>\n",
        "      <td> NaN</td>\n",
        "      <td> NaN</td>\n",
        "      <td> NaN</td>\n",
        "    </tr>\n",
        "    <tr>\n",
        "      <th>24    </th>\n",
        "      <td>            H\ufffd\ufffdj\ufffd\ufffd Ujikuni</td>\n",
        "      <td>              1541</td>\n",
        "      <td>       Male</td>\n",
        "      <td>                            []</td>\n",
        "      <td>                            []</td>\n",
        "      <td>       1597</td>\n",
        "      <td>                         []</td>\n",
        "      <td>                 []</td>\n",
        "      <td> NaN</td>\n",
        "      <td> NaN</td>\n",
        "      <td> NaN</td>\n",
        "      <td> NaN</td>\n",
        "      <td> NaN</td>\n",
        "      <td> NaN</td>\n",
        "    </tr>\n",
        "    <tr>\n",
        "      <th>25    </th>\n",
        "      <td>                 Kent Baer</td>\n",
        "      <td>            5/2/51</td>\n",
        "      <td>       Male</td>\n",
        "      <td> [u'United States of America']</td>\n",
        "      <td>                            []</td>\n",
        "      <td>       None</td>\n",
        "      <td>                         []</td>\n",
        "      <td>                 []</td>\n",
        "      <td> NaN</td>\n",
        "      <td> NaN</td>\n",
        "      <td> NaN</td>\n",
        "      <td> NaN</td>\n",
        "      <td> NaN</td>\n",
        "      <td> NaN</td>\n",
        "    </tr>\n",
        "    <tr>\n",
        "      <th>26    </th>\n",
        "      <td>             Samuel Lister</td>\n",
        "      <td>  1st Baron Masham</td>\n",
        "      <td> 1815-01-01</td>\n",
        "      <td>                          Male</td>\n",
        "      <td>                  [u'England']</td>\n",
        "      <td>         []</td>\n",
        "      <td>                     2/2/06</td>\n",
        "      <td>                 []</td>\n",
        "      <td>  []</td>\n",
        "      <td> NaN</td>\n",
        "      <td> NaN</td>\n",
        "      <td> NaN</td>\n",
        "      <td> NaN</td>\n",
        "      <td> NaN</td>\n",
        "    </tr>\n",
        "    <tr>\n",
        "      <th>27    </th>\n",
        "      <td>            Eddie Guardado</td>\n",
        "      <td>           10/2/70</td>\n",
        "      <td>       Male</td>\n",
        "      <td> [u'United States of America']</td>\n",
        "      <td>                            []</td>\n",
        "      <td>       None</td>\n",
        "      <td>                         []</td>\n",
        "      <td>                 []</td>\n",
        "      <td> NaN</td>\n",
        "      <td> NaN</td>\n",
        "      <td> NaN</td>\n",
        "      <td> NaN</td>\n",
        "      <td> NaN</td>\n",
        "      <td> NaN</td>\n",
        "    </tr>\n",
        "    <tr>\n",
        "      <th>28    </th>\n",
        "      <td>                Red Hickey</td>\n",
        "      <td>           2/14/17</td>\n",
        "      <td>       Male</td>\n",
        "      <td> [u'United States of America']</td>\n",
        "      <td>                            []</td>\n",
        "      <td>    3/30/06</td>\n",
        "      <td>                         []</td>\n",
        "      <td>                 []</td>\n",
        "      <td> NaN</td>\n",
        "      <td> NaN</td>\n",
        "      <td> NaN</td>\n",
        "      <td> NaN</td>\n",
        "      <td> NaN</td>\n",
        "      <td> NaN</td>\n",
        "    </tr>\n",
        "    <tr>\n",
        "      <th>29    </th>\n",
        "      <td>          Serhiy Kovalenko</td>\n",
        "      <td>           5/10/84</td>\n",
        "      <td>       Male</td>\n",
        "      <td>             [u'Soviet Union']</td>\n",
        "      <td>                            []</td>\n",
        "      <td>       None</td>\n",
        "      <td>                         []</td>\n",
        "      <td>                 []</td>\n",
        "      <td> NaN</td>\n",
        "      <td> NaN</td>\n",
        "      <td> NaN</td>\n",
        "      <td> NaN</td>\n",
        "      <td> NaN</td>\n",
        "      <td> NaN</td>\n",
        "    </tr>\n",
        "    <tr>\n",
        "      <th>...</th>\n",
        "      <td>...</td>\n",
        "      <td>...</td>\n",
        "      <td>...</td>\n",
        "      <td>...</td>\n",
        "      <td>...</td>\n",
        "      <td>...</td>\n",
        "      <td>...</td>\n",
        "      <td>...</td>\n",
        "      <td>...</td>\n",
        "      <td>...</td>\n",
        "      <td>...</td>\n",
        "      <td>...</td>\n",
        "      <td>...</td>\n",
        "      <td>...</td>\n",
        "    </tr>\n",
        "    <tr>\n",
        "      <th>190127</th>\n",
        "      <td>          Zanobi Acciaioli</td>\n",
        "      <td>        1461-05-25</td>\n",
        "      <td>       Male</td>\n",
        "      <td>                            []</td>\n",
        "      <td>                            []</td>\n",
        "      <td> 1519-07-27</td>\n",
        "      <td>                         []</td>\n",
        "      <td>                 []</td>\n",
        "      <td> NaN</td>\n",
        "      <td> NaN</td>\n",
        "      <td> NaN</td>\n",
        "      <td> NaN</td>\n",
        "      <td> NaN</td>\n",
        "      <td> NaN</td>\n",
        "    </tr>\n",
        "    <tr>\n",
        "      <th>190128</th>\n",
        "      <td>             John C. Meyer</td>\n",
        "      <td>            4/3/19</td>\n",
        "      <td>       Male</td>\n",
        "      <td> [u'United States of America']</td>\n",
        "      <td>                            []</td>\n",
        "      <td>    12/2/75</td>\n",
        "      <td>                         []</td>\n",
        "      <td>                 []</td>\n",
        "      <td> NaN</td>\n",
        "      <td> NaN</td>\n",
        "      <td> NaN</td>\n",
        "      <td> NaN</td>\n",
        "      <td> NaN</td>\n",
        "      <td> NaN</td>\n",
        "    </tr>\n",
        "    <tr>\n",
        "      <th>190129</th>\n",
        "      <td>                Al Grassby</td>\n",
        "      <td>           7/12/26</td>\n",
        "      <td>       Male</td>\n",
        "      <td>                [u'Australia']</td>\n",
        "      <td>                            []</td>\n",
        "      <td>    4/23/05</td>\n",
        "      <td> [u'Myocardial infarction']</td>\n",
        "      <td>                 []</td>\n",
        "      <td> NaN</td>\n",
        "      <td> NaN</td>\n",
        "      <td> NaN</td>\n",
        "      <td> NaN</td>\n",
        "      <td> NaN</td>\n",
        "      <td> NaN</td>\n",
        "    </tr>\n",
        "    <tr>\n",
        "      <th>190130</th>\n",
        "      <td>            Renato Birolli</td>\n",
        "      <td>          12/10/05</td>\n",
        "      <td>       Male</td>\n",
        "      <td>                    [u'Italy']</td>\n",
        "      <td>                            []</td>\n",
        "      <td>     5/3/59</td>\n",
        "      <td>                         []</td>\n",
        "      <td>                 []</td>\n",
        "      <td> NaN</td>\n",
        "      <td> NaN</td>\n",
        "      <td> NaN</td>\n",
        "      <td> NaN</td>\n",
        "      <td> NaN</td>\n",
        "      <td> NaN</td>\n",
        "    </tr>\n",
        "    <tr>\n",
        "      <th>190131</th>\n",
        "      <td>   Jean-Jacques Dessalines</td>\n",
        "      <td>        1758-09-20</td>\n",
        "      <td>       Male</td>\n",
        "      <td>                            []</td>\n",
        "      <td>                            []</td>\n",
        "      <td> 1806-10-17</td>\n",
        "      <td>                 [u'Murder'</td>\n",
        "      <td>  u'Assassination']</td>\n",
        "      <td>  []</td>\n",
        "      <td> NaN</td>\n",
        "      <td> NaN</td>\n",
        "      <td> NaN</td>\n",
        "      <td> NaN</td>\n",
        "      <td> NaN</td>\n",
        "    </tr>\n",
        "    <tr>\n",
        "      <th>190132</th>\n",
        "      <td>              John Slidell</td>\n",
        "      <td>              1793</td>\n",
        "      <td>       Male</td>\n",
        "      <td> [u'United States of America']</td>\n",
        "      <td>                            []</td>\n",
        "      <td> 1871-07-26</td>\n",
        "      <td>                         []</td>\n",
        "      <td>                 []</td>\n",
        "      <td> NaN</td>\n",
        "      <td> NaN</td>\n",
        "      <td> NaN</td>\n",
        "      <td> NaN</td>\n",
        "      <td> NaN</td>\n",
        "      <td> NaN</td>\n",
        "    </tr>\n",
        "    <tr>\n",
        "      <th>190133</th>\n",
        "      <td>       Billie Mae Richards</td>\n",
        "      <td>          11/21/21</td>\n",
        "      <td>     Female</td>\n",
        "      <td>                   [u'Canada']</td>\n",
        "      <td>                            []</td>\n",
        "      <td>    9/10/10</td>\n",
        "      <td>                [u'Stroke']</td>\n",
        "      <td>                 []</td>\n",
        "      <td> NaN</td>\n",
        "      <td> NaN</td>\n",
        "      <td> NaN</td>\n",
        "      <td> NaN</td>\n",
        "      <td> NaN</td>\n",
        "      <td> NaN</td>\n",
        "    </tr>\n",
        "    <tr>\n",
        "      <th>190134</th>\n",
        "      <td>         Baldwin of Ibelin</td>\n",
        "      <td>              1130</td>\n",
        "      <td>       Male</td>\n",
        "      <td>                            []</td>\n",
        "      <td>                            []</td>\n",
        "      <td>       1180</td>\n",
        "      <td>                         []</td>\n",
        "      <td>                 []</td>\n",
        "      <td> NaN</td>\n",
        "      <td> NaN</td>\n",
        "      <td> NaN</td>\n",
        "      <td> NaN</td>\n",
        "      <td> NaN</td>\n",
        "      <td> NaN</td>\n",
        "    </tr>\n",
        "    <tr>\n",
        "      <th>190135</th>\n",
        "      <td>             David Kidwell</td>\n",
        "      <td>           4/23/77</td>\n",
        "      <td>       Male</td>\n",
        "      <td>              [u'New Zealand']</td>\n",
        "      <td>                            []</td>\n",
        "      <td>       None</td>\n",
        "      <td>                         []</td>\n",
        "      <td>                 []</td>\n",
        "      <td> NaN</td>\n",
        "      <td> NaN</td>\n",
        "      <td> NaN</td>\n",
        "      <td> NaN</td>\n",
        "      <td> NaN</td>\n",
        "      <td> NaN</td>\n",
        "    </tr>\n",
        "    <tr>\n",
        "      <th>190136</th>\n",
        "      <td>             John Troutman</td>\n",
        "      <td>              1983</td>\n",
        "      <td>       Male</td>\n",
        "      <td>                            []</td>\n",
        "      <td>                            []</td>\n",
        "      <td>       None</td>\n",
        "      <td>                         []</td>\n",
        "      <td>                 []</td>\n",
        "      <td> NaN</td>\n",
        "      <td> NaN</td>\n",
        "      <td> NaN</td>\n",
        "      <td> NaN</td>\n",
        "      <td> NaN</td>\n",
        "      <td> NaN</td>\n",
        "    </tr>\n",
        "    <tr>\n",
        "      <th>190137</th>\n",
        "      <td>            Jonathan Swift</td>\n",
        "      <td>        1667-11-30</td>\n",
        "      <td>       Male</td>\n",
        "      <td>       [u'Republic of Ireland'</td>\n",
        "      <td>            u'United Kingdom']</td>\n",
        "      <td>         []</td>\n",
        "      <td>                 1745-10-19</td>\n",
        "      <td>                 []</td>\n",
        "      <td>  []</td>\n",
        "      <td> NaN</td>\n",
        "      <td> NaN</td>\n",
        "      <td> NaN</td>\n",
        "      <td> NaN</td>\n",
        "      <td> NaN</td>\n",
        "    </tr>\n",
        "    <tr>\n",
        "      <th>190138</th>\n",
        "      <td>           Anton Reichenow</td>\n",
        "      <td>        1847-08-01</td>\n",
        "      <td>       Male</td>\n",
        "      <td>                            []</td>\n",
        "      <td>                            []</td>\n",
        "      <td>     7/6/41</td>\n",
        "      <td>                         []</td>\n",
        "      <td>                 []</td>\n",
        "      <td> NaN</td>\n",
        "      <td> NaN</td>\n",
        "      <td> NaN</td>\n",
        "      <td> NaN</td>\n",
        "      <td> NaN</td>\n",
        "      <td> NaN</td>\n",
        "    </tr>\n",
        "    <tr>\n",
        "      <th>190139</th>\n",
        "      <td>           Michael Boogerd</td>\n",
        "      <td>           5/28/72</td>\n",
        "      <td>       Male</td>\n",
        "      <td>              [u'Netherlands']</td>\n",
        "      <td>                            []</td>\n",
        "      <td>       None</td>\n",
        "      <td>                         []</td>\n",
        "      <td>                 []</td>\n",
        "      <td> NaN</td>\n",
        "      <td> NaN</td>\n",
        "      <td> NaN</td>\n",
        "      <td> NaN</td>\n",
        "      <td> NaN</td>\n",
        "      <td> NaN</td>\n",
        "    </tr>\n",
        "    <tr>\n",
        "      <th>190140</th>\n",
        "      <td>             Joan Bakewell</td>\n",
        "      <td>           4/16/33</td>\n",
        "      <td>     Female</td>\n",
        "      <td>           [u'United Kingdom']</td>\n",
        "      <td>                            []</td>\n",
        "      <td>       None</td>\n",
        "      <td>                         []</td>\n",
        "      <td>                 []</td>\n",
        "      <td> NaN</td>\n",
        "      <td> NaN</td>\n",
        "      <td> NaN</td>\n",
        "      <td> NaN</td>\n",
        "      <td> NaN</td>\n",
        "      <td> NaN</td>\n",
        "    </tr>\n",
        "    <tr>\n",
        "      <th>190141</th>\n",
        "      <td>   Rafael Cordero Santiago</td>\n",
        "      <td>          10/24/42</td>\n",
        "      <td>       Male</td>\n",
        "      <td>                            []</td>\n",
        "      <td>                            []</td>\n",
        "      <td>    1/17/04</td>\n",
        "      <td>   [u'Cerebral hemorrhage']</td>\n",
        "      <td>                 []</td>\n",
        "      <td> NaN</td>\n",
        "      <td> NaN</td>\n",
        "      <td> NaN</td>\n",
        "      <td> NaN</td>\n",
        "      <td> NaN</td>\n",
        "      <td> NaN</td>\n",
        "    </tr>\n",
        "    <tr>\n",
        "      <th>190142</th>\n",
        "      <td>           Adam MacDougall</td>\n",
        "      <td>            5/8/75</td>\n",
        "      <td>       Male</td>\n",
        "      <td>                [u'Australia']</td>\n",
        "      <td>                            []</td>\n",
        "      <td>       None</td>\n",
        "      <td>                         []</td>\n",
        "      <td>                 []</td>\n",
        "      <td> NaN</td>\n",
        "      <td> NaN</td>\n",
        "      <td> NaN</td>\n",
        "      <td> NaN</td>\n",
        "      <td> NaN</td>\n",
        "      <td> NaN</td>\n",
        "    </tr>\n",
        "    <tr>\n",
        "      <th>190143</th>\n",
        "      <td>           Bertalan Farkas</td>\n",
        "      <td>            8/2/49</td>\n",
        "      <td>       Male</td>\n",
        "      <td>                  [u'Hungary']</td>\n",
        "      <td>                            []</td>\n",
        "      <td>       None</td>\n",
        "      <td>                         []</td>\n",
        "      <td>                 []</td>\n",
        "      <td> NaN</td>\n",
        "      <td> NaN</td>\n",
        "      <td> NaN</td>\n",
        "      <td> NaN</td>\n",
        "      <td> NaN</td>\n",
        "      <td> NaN</td>\n",
        "    </tr>\n",
        "    <tr>\n",
        "      <th>190144</th>\n",
        "      <td>              Susan of Mar</td>\n",
        "      <td>   Mistress of Mar</td>\n",
        "      <td>    5/31/63</td>\n",
        "      <td>                        Female</td>\n",
        "      <td>                            []</td>\n",
        "      <td>         []</td>\n",
        "      <td>                       None</td>\n",
        "      <td>                 []</td>\n",
        "      <td>  []</td>\n",
        "      <td> NaN</td>\n",
        "      <td> NaN</td>\n",
        "      <td> NaN</td>\n",
        "      <td> NaN</td>\n",
        "      <td> NaN</td>\n",
        "    </tr>\n",
        "    <tr>\n",
        "      <th>190145</th>\n",
        "      <td>            Denise Restout</td>\n",
        "      <td>          11/24/15</td>\n",
        "      <td>     Female</td>\n",
        "      <td>                   [u'France']</td>\n",
        "      <td>                            []</td>\n",
        "      <td>     3/9/04</td>\n",
        "      <td>                         []</td>\n",
        "      <td>                 []</td>\n",
        "      <td> NaN</td>\n",
        "      <td> NaN</td>\n",
        "      <td> NaN</td>\n",
        "      <td> NaN</td>\n",
        "      <td> NaN</td>\n",
        "      <td> NaN</td>\n",
        "    </tr>\n",
        "    <tr>\n",
        "      <th>190146</th>\n",
        "      <td>              Andy Landers</td>\n",
        "      <td>           10/8/52</td>\n",
        "      <td>       Male</td>\n",
        "      <td> [u'United States of America']</td>\n",
        "      <td>                            []</td>\n",
        "      <td>       None</td>\n",
        "      <td>                         []</td>\n",
        "      <td>                 []</td>\n",
        "      <td> NaN</td>\n",
        "      <td> NaN</td>\n",
        "      <td> NaN</td>\n",
        "      <td> NaN</td>\n",
        "      <td> NaN</td>\n",
        "      <td> NaN</td>\n",
        "    </tr>\n",
        "    <tr>\n",
        "      <th>190147</th>\n",
        "      <td>       Hermann von Siemens</td>\n",
        "      <td>        1885-08-09</td>\n",
        "      <td>       Male</td>\n",
        "      <td>                  [u'Germany']</td>\n",
        "      <td>                            []</td>\n",
        "      <td>   10/13/86</td>\n",
        "      <td>                         []</td>\n",
        "      <td>                 []</td>\n",
        "      <td> NaN</td>\n",
        "      <td> NaN</td>\n",
        "      <td> NaN</td>\n",
        "      <td> NaN</td>\n",
        "      <td> NaN</td>\n",
        "      <td> NaN</td>\n",
        "    </tr>\n",
        "    <tr>\n",
        "      <th>190148</th>\n",
        "      <td>         Rachele Mussolini</td>\n",
        "      <td>        1890-04-11</td>\n",
        "      <td>     Female</td>\n",
        "      <td>                    [u'Italy']</td>\n",
        "      <td>                            []</td>\n",
        "      <td>   10/30/79</td>\n",
        "      <td>                         []</td>\n",
        "      <td>                 []</td>\n",
        "      <td> NaN</td>\n",
        "      <td> NaN</td>\n",
        "      <td> NaN</td>\n",
        "      <td> NaN</td>\n",
        "      <td> NaN</td>\n",
        "      <td> NaN</td>\n",
        "    </tr>\n",
        "    <tr>\n",
        "      <th>190149</th>\n",
        "      <td>               Henry Green</td>\n",
        "      <td>          10/29/05</td>\n",
        "      <td>       Male</td>\n",
        "      <td>                  [u'England']</td>\n",
        "      <td>                            []</td>\n",
        "      <td>   12/13/73</td>\n",
        "      <td>                         []</td>\n",
        "      <td>                 []</td>\n",
        "      <td> NaN</td>\n",
        "      <td> NaN</td>\n",
        "      <td> NaN</td>\n",
        "      <td> NaN</td>\n",
        "      <td> NaN</td>\n",
        "      <td> NaN</td>\n",
        "    </tr>\n",
        "    <tr>\n",
        "      <th>190150</th>\n",
        "      <td>        Frances de la Tour</td>\n",
        "      <td>           7/30/44</td>\n",
        "      <td>     Female</td>\n",
        "      <td>           [u'United Kingdom']</td>\n",
        "      <td>                            []</td>\n",
        "      <td>       None</td>\n",
        "      <td>                         []</td>\n",
        "      <td>                 []</td>\n",
        "      <td> NaN</td>\n",
        "      <td> NaN</td>\n",
        "      <td> NaN</td>\n",
        "      <td> NaN</td>\n",
        "      <td> NaN</td>\n",
        "      <td> NaN</td>\n",
        "    </tr>\n",
        "    <tr>\n",
        "      <th>190151</th>\n",
        "      <td>                Viggo Brun</td>\n",
        "      <td>        1885-10-13</td>\n",
        "      <td>       Male</td>\n",
        "      <td>                            []</td>\n",
        "      <td>                            []</td>\n",
        "      <td>    8/15/78</td>\n",
        "      <td>                         []</td>\n",
        "      <td>                 []</td>\n",
        "      <td> NaN</td>\n",
        "      <td> NaN</td>\n",
        "      <td> NaN</td>\n",
        "      <td> NaN</td>\n",
        "      <td> NaN</td>\n",
        "      <td> NaN</td>\n",
        "    </tr>\n",
        "    <tr>\n",
        "      <th>190152</th>\n",
        "      <td>           James Kilbourne</td>\n",
        "      <td>        1770-10-19</td>\n",
        "      <td>       Male</td>\n",
        "      <td> [u'United States of America']</td>\n",
        "      <td>                            []</td>\n",
        "      <td> 1850-04-09</td>\n",
        "      <td>                         []</td>\n",
        "      <td>                 []</td>\n",
        "      <td> NaN</td>\n",
        "      <td> NaN</td>\n",
        "      <td> NaN</td>\n",
        "      <td> NaN</td>\n",
        "      <td> NaN</td>\n",
        "      <td> NaN</td>\n",
        "    </tr>\n",
        "    <tr>\n",
        "      <th>190153</th>\n",
        "      <td>        Nikolaus Selnecker</td>\n",
        "      <td>        1532-12-05</td>\n",
        "      <td>       Male</td>\n",
        "      <td>                  [u'Germany']</td>\n",
        "      <td>                            []</td>\n",
        "      <td> 1592-05-24</td>\n",
        "      <td>                         []</td>\n",
        "      <td>                 []</td>\n",
        "      <td> NaN</td>\n",
        "      <td> NaN</td>\n",
        "      <td> NaN</td>\n",
        "      <td> NaN</td>\n",
        "      <td> NaN</td>\n",
        "      <td> NaN</td>\n",
        "    </tr>\n",
        "    <tr>\n",
        "      <th>190154</th>\n",
        "      <td>           Pope Clement XI</td>\n",
        "      <td>        1649-07-23</td>\n",
        "      <td>       Male</td>\n",
        "      <td>                            []</td>\n",
        "      <td>                            []</td>\n",
        "      <td> 1721-03-19</td>\n",
        "      <td>                         []</td>\n",
        "      <td>                 []</td>\n",
        "      <td> NaN</td>\n",
        "      <td> NaN</td>\n",
        "      <td> NaN</td>\n",
        "      <td> NaN</td>\n",
        "      <td> NaN</td>\n",
        "      <td> NaN</td>\n",
        "    </tr>\n",
        "    <tr>\n",
        "      <th>190155</th>\n",
        "      <td>             Bobby Sheehan</td>\n",
        "      <td>           6/12/68</td>\n",
        "      <td>       Male</td>\n",
        "      <td> [u'United States of America']</td>\n",
        "      <td>                            []</td>\n",
        "      <td>    8/20/99</td>\n",
        "      <td>         [u'Drug overdose']</td>\n",
        "      <td>                 []</td>\n",
        "      <td> NaN</td>\n",
        "      <td> NaN</td>\n",
        "      <td> NaN</td>\n",
        "      <td> NaN</td>\n",
        "      <td> NaN</td>\n",
        "      <td> NaN</td>\n",
        "    </tr>\n",
        "    <tr>\n",
        "      <th>190156</th>\n",
        "      <td>             Isaiah Rankin</td>\n",
        "      <td>           5/22/78</td>\n",
        "      <td>       Male</td>\n",
        "      <td>                     [u'Englan</td>\n",
        "      <td>                           NaN</td>\n",
        "      <td>        NaN</td>\n",
        "      <td>                        NaN</td>\n",
        "      <td>                NaN</td>\n",
        "      <td> NaN</td>\n",
        "      <td> NaN</td>\n",
        "      <td> NaN</td>\n",
        "      <td> NaN</td>\n",
        "      <td> NaN</td>\n",
        "      <td> NaN</td>\n",
        "    </tr>\n",
        "  </tbody>\n",
        "</table>\n",
        "<p>190157 rows \u00d7 14 columns</p>\n",
        "</div>"
       ],
       "metadata": {},
       "output_type": "pyout",
       "prompt_number": 5,
       "text": [
        "                             NAME                DOB      Gender  \\\n",
        "0                   Jack Abramoff            2/28/58        Male   \n",
        "1                         Bob Ney             7/5/54        Male   \n",
        "2                  David Safavian             8/4/67        Male   \n",
        "3                K\u0334re Kristiansen            3/11/20        Male   \n",
        "4                   Adam Murimuth               1274        Male   \n",
        "5                  Carlos Bernard           10/12/62        Male   \n",
        "6           Christopher Eccleston            2/16/64        Male   \n",
        "7         Chenganoor Raman Pillai         1886-01-16        Male   \n",
        "8               Francisco Pizarro               None        Male   \n",
        "9                   William Hoare               1707        Male   \n",
        "10              William Beresford         1797-04-17        Male   \n",
        "11                  Julia Alvarez            3/27/50      Female   \n",
        "12                  Craig Parnham            7/13/73        Male   \n",
        "13             Shmuel Yosef Agnon         1888-07-17        Male   \n",
        "14                   Martin Adams             6/4/56        Male   \n",
        "15                 MarTay Jenkins            2/28/75        Male   \n",
        "16                      Adam Bomb               1963        Male   \n",
        "17                   Michael Bush            6/16/84        Male   \n",
        "18                  Tim Alexander            4/10/65        Male   \n",
        "19               Inge Hammarstr\u0326m            1/20/48        Male   \n",
        "20                     Per Eklund            6/26/46        Male   \n",
        "21                  Richard Noble             3/6/46        Male   \n",
        "22                   Sadie Irvine               1887      Female   \n",
        "23      Justine Frangouli-Argyris               1959      Female   \n",
        "24                 H\ufffd\ufffdj\ufffd\ufffd Ujikuni               1541        Male   \n",
        "25                      Kent Baer             5/2/51        Male   \n",
        "26                  Samuel Lister   1st Baron Masham  1815-01-01   \n",
        "27                 Eddie Guardado            10/2/70        Male   \n",
        "28                     Red Hickey            2/14/17        Male   \n",
        "29               Serhiy Kovalenko            5/10/84        Male   \n",
        "...                           ...                ...         ...   \n",
        "190127           Zanobi Acciaioli         1461-05-25        Male   \n",
        "190128              John C. Meyer             4/3/19        Male   \n",
        "190129                 Al Grassby            7/12/26        Male   \n",
        "190130             Renato Birolli           12/10/05        Male   \n",
        "190131    Jean-Jacques Dessalines         1758-09-20        Male   \n",
        "190132               John Slidell               1793        Male   \n",
        "190133        Billie Mae Richards           11/21/21      Female   \n",
        "190134          Baldwin of Ibelin               1130        Male   \n",
        "190135              David Kidwell            4/23/77        Male   \n",
        "190136              John Troutman               1983        Male   \n",
        "190137             Jonathan Swift         1667-11-30        Male   \n",
        "190138            Anton Reichenow         1847-08-01        Male   \n",
        "190139            Michael Boogerd            5/28/72        Male   \n",
        "190140              Joan Bakewell            4/16/33      Female   \n",
        "190141    Rafael Cordero Santiago           10/24/42        Male   \n",
        "190142            Adam MacDougall             5/8/75        Male   \n",
        "190143            Bertalan Farkas             8/2/49        Male   \n",
        "190144               Susan of Mar    Mistress of Mar     5/31/63   \n",
        "190145             Denise Restout           11/24/15      Female   \n",
        "190146               Andy Landers            10/8/52        Male   \n",
        "190147        Hermann von Siemens         1885-08-09        Male   \n",
        "190148          Rachele Mussolini         1890-04-11      Female   \n",
        "190149                Henry Green           10/29/05        Male   \n",
        "190150         Frances de la Tour            7/30/44      Female   \n",
        "190151                 Viggo Brun         1885-10-13        Male   \n",
        "190152            James Kilbourne         1770-10-19        Male   \n",
        "190153         Nikolaus Selnecker         1532-12-05        Male   \n",
        "190154            Pope Clement XI         1649-07-23        Male   \n",
        "190155              Bobby Sheehan            6/12/68        Male   \n",
        "190156              Isaiah Rankin            5/22/78        Male   \n",
        "\n",
        "                              Country                      Country 2  \\\n",
        "0       [u'United States of America']                             []   \n",
        "1       [u'United States of America']                             []   \n",
        "2       [u'United States of America']                             []   \n",
        "3                         [u'Norway']                             []   \n",
        "4                        [u'England']                             []   \n",
        "5       [u'United States of America']                             []   \n",
        "6                 [u'United Kingdom']                             []   \n",
        "7                          [u'India']                             []   \n",
        "8                           [u'Spain'             u'Spanish Empire']   \n",
        "9                        [u'England']                             []   \n",
        "10                [u'United Kingdom']                             []   \n",
        "11             [u'Dominican Republic'   u'United States of America']   \n",
        "12                       [u'England']                             []   \n",
        "13                        [u'Israel']                             []   \n",
        "14                       [u'England']                             []   \n",
        "15      [u'United States of America']                             []   \n",
        "16      [u'United States of America']                             []   \n",
        "17      [u'United States of America']                             []   \n",
        "18      [u'United States of America']                             []   \n",
        "19                        [u'Sweden']                             []   \n",
        "20                        [u'Sweden']                             []   \n",
        "21                                 []                             []   \n",
        "22      [u'United States of America']                             []   \n",
        "23                        [u'Greece']                             []   \n",
        "24                                 []                             []   \n",
        "25      [u'United States of America']                             []   \n",
        "26                               Male                   [u'England']   \n",
        "27      [u'United States of America']                             []   \n",
        "28      [u'United States of America']                             []   \n",
        "29                  [u'Soviet Union']                             []   \n",
        "...                               ...                            ...   \n",
        "190127                             []                             []   \n",
        "190128  [u'United States of America']                             []   \n",
        "190129                 [u'Australia']                             []   \n",
        "190130                     [u'Italy']                             []   \n",
        "190131                             []                             []   \n",
        "190132  [u'United States of America']                             []   \n",
        "190133                    [u'Canada']                             []   \n",
        "190134                             []                             []   \n",
        "190135               [u'New Zealand']                             []   \n",
        "190136                             []                             []   \n",
        "190137        [u'Republic of Ireland'             u'United Kingdom']   \n",
        "190138                             []                             []   \n",
        "190139               [u'Netherlands']                             []   \n",
        "190140            [u'United Kingdom']                             []   \n",
        "190141                             []                             []   \n",
        "190142                 [u'Australia']                             []   \n",
        "190143                   [u'Hungary']                             []   \n",
        "190144                         Female                             []   \n",
        "190145                    [u'France']                             []   \n",
        "190146  [u'United States of America']                             []   \n",
        "190147                   [u'Germany']                             []   \n",
        "190148                     [u'Italy']                             []   \n",
        "190149                   [u'England']                             []   \n",
        "190150            [u'United Kingdom']                             []   \n",
        "190151                             []                             []   \n",
        "190152  [u'United States of America']                             []   \n",
        "190153                   [u'Germany']                             []   \n",
        "190154                             []                             []   \n",
        "190155  [u'United States of America']                             []   \n",
        "190156                      [u'Englan                            NaN   \n",
        "\n",
        "               DOD                         COD               COD 2 Unnamed: 8  \\\n",
        "0             None                          []                  []        NaN   \n",
        "1             None                          []                  []        NaN   \n",
        "2             None                          []                  []        NaN   \n",
        "3          12/3/05                          []                  []        NaN   \n",
        "4             1347                          []                  []        NaN   \n",
        "5             None                          []                  []        NaN   \n",
        "6             None                          []                  []        NaN   \n",
        "7         11/11/80                          []                  []        NaN   \n",
        "8               []                  1541-06-26  [u'Assassination']         []   \n",
        "9       1792-12-12                          []                  []        NaN   \n",
        "10      1883-10-06                          []                  []        NaN   \n",
        "11              []                        None                  []         []   \n",
        "12            None                          []                  []        NaN   \n",
        "13         2/17/70                          []                  []        NaN   \n",
        "14            None                          []                  []        NaN   \n",
        "15            None                          []                  []        NaN   \n",
        "16            None                          []                  []        NaN   \n",
        "17            None                          []                  []        NaN   \n",
        "18            None                          []                  []        NaN   \n",
        "19            None                          []                  []        NaN   \n",
        "20            None                          []                  []        NaN   \n",
        "21            None                          []                  []        NaN   \n",
        "22            1970                          []                  []        NaN   \n",
        "23            None                          []                  []        NaN   \n",
        "24            1597                          []                  []        NaN   \n",
        "25            None                          []                  []        NaN   \n",
        "26              []                      2/2/06                  []         []   \n",
        "27            None                          []                  []        NaN   \n",
        "28         3/30/06                          []                  []        NaN   \n",
        "29            None                          []                  []        NaN   \n",
        "...            ...                         ...                 ...        ...   \n",
        "190127  1519-07-27                          []                  []        NaN   \n",
        "190128     12/2/75                          []                  []        NaN   \n",
        "190129     4/23/05  [u'Myocardial infarction']                  []        NaN   \n",
        "190130      5/3/59                          []                  []        NaN   \n",
        "190131  1806-10-17                  [u'Murder'   u'Assassination']         []   \n",
        "190132  1871-07-26                          []                  []        NaN   \n",
        "190133     9/10/10                 [u'Stroke']                  []        NaN   \n",
        "190134        1180                          []                  []        NaN   \n",
        "190135        None                          []                  []        NaN   \n",
        "190136        None                          []                  []        NaN   \n",
        "190137          []                  1745-10-19                  []         []   \n",
        "190138      7/6/41                          []                  []        NaN   \n",
        "190139        None                          []                  []        NaN   \n",
        "190140        None                          []                  []        NaN   \n",
        "190141     1/17/04    [u'Cerebral hemorrhage']                  []        NaN   \n",
        "190142        None                          []                  []        NaN   \n",
        "190143        None                          []                  []        NaN   \n",
        "190144          []                        None                  []         []   \n",
        "190145      3/9/04                          []                  []        NaN   \n",
        "190146        None                          []                  []        NaN   \n",
        "190147    10/13/86                          []                  []        NaN   \n",
        "190148    10/30/79                          []                  []        NaN   \n",
        "190149    12/13/73                          []                  []        NaN   \n",
        "190150        None                          []                  []        NaN   \n",
        "190151     8/15/78                          []                  []        NaN   \n",
        "190152  1850-04-09                          []                  []        NaN   \n",
        "190153  1592-05-24                          []                  []        NaN   \n",
        "190154  1721-03-19                          []                  []        NaN   \n",
        "190155     8/20/99          [u'Drug overdose']                  []        NaN   \n",
        "190156         NaN                         NaN                 NaN        NaN   \n",
        "\n",
        "       Unnamed: 9 Unnamed: 10 Unnamed: 11 Unnamed: 12 Unnamed: 13  \n",
        "0             NaN         NaN         NaN         NaN         NaN  \n",
        "1             NaN         NaN         NaN         NaN         NaN  \n",
        "2             NaN         NaN         NaN         NaN         NaN  \n",
        "3             NaN         NaN         NaN         NaN         NaN  \n",
        "4             NaN         NaN         NaN         NaN         NaN  \n",
        "5             NaN         NaN         NaN         NaN         NaN  \n",
        "6             NaN         NaN         NaN         NaN         NaN  \n",
        "7             NaN         NaN         NaN         NaN         NaN  \n",
        "8             NaN         NaN         NaN         NaN         NaN  \n",
        "9             NaN         NaN         NaN         NaN         NaN  \n",
        "10            NaN         NaN         NaN         NaN         NaN  \n",
        "11            NaN         NaN         NaN         NaN         NaN  \n",
        "12            NaN         NaN         NaN         NaN         NaN  \n",
        "13            NaN         NaN         NaN         NaN         NaN  \n",
        "14            NaN         NaN         NaN         NaN         NaN  \n",
        "15            NaN         NaN         NaN         NaN         NaN  \n",
        "16            NaN         NaN         NaN         NaN         NaN  \n",
        "17            NaN         NaN         NaN         NaN         NaN  \n",
        "18            NaN         NaN         NaN         NaN         NaN  \n",
        "19            NaN         NaN         NaN         NaN         NaN  \n",
        "20            NaN         NaN         NaN         NaN         NaN  \n",
        "21            NaN         NaN         NaN         NaN         NaN  \n",
        "22            NaN         NaN         NaN         NaN         NaN  \n",
        "23            NaN         NaN         NaN         NaN         NaN  \n",
        "24            NaN         NaN         NaN         NaN         NaN  \n",
        "25            NaN         NaN         NaN         NaN         NaN  \n",
        "26            NaN         NaN         NaN         NaN         NaN  \n",
        "27            NaN         NaN         NaN         NaN         NaN  \n",
        "28            NaN         NaN         NaN         NaN         NaN  \n",
        "29            NaN         NaN         NaN         NaN         NaN  \n",
        "...           ...         ...         ...         ...         ...  \n",
        "190127        NaN         NaN         NaN         NaN         NaN  \n",
        "190128        NaN         NaN         NaN         NaN         NaN  \n",
        "190129        NaN         NaN         NaN         NaN         NaN  \n",
        "190130        NaN         NaN         NaN         NaN         NaN  \n",
        "190131        NaN         NaN         NaN         NaN         NaN  \n",
        "190132        NaN         NaN         NaN         NaN         NaN  \n",
        "190133        NaN         NaN         NaN         NaN         NaN  \n",
        "190134        NaN         NaN         NaN         NaN         NaN  \n",
        "190135        NaN         NaN         NaN         NaN         NaN  \n",
        "190136        NaN         NaN         NaN         NaN         NaN  \n",
        "190137        NaN         NaN         NaN         NaN         NaN  \n",
        "190138        NaN         NaN         NaN         NaN         NaN  \n",
        "190139        NaN         NaN         NaN         NaN         NaN  \n",
        "190140        NaN         NaN         NaN         NaN         NaN  \n",
        "190141        NaN         NaN         NaN         NaN         NaN  \n",
        "190142        NaN         NaN         NaN         NaN         NaN  \n",
        "190143        NaN         NaN         NaN         NaN         NaN  \n",
        "190144        NaN         NaN         NaN         NaN         NaN  \n",
        "190145        NaN         NaN         NaN         NaN         NaN  \n",
        "190146        NaN         NaN         NaN         NaN         NaN  \n",
        "190147        NaN         NaN         NaN         NaN         NaN  \n",
        "190148        NaN         NaN         NaN         NaN         NaN  \n",
        "190149        NaN         NaN         NaN         NaN         NaN  \n",
        "190150        NaN         NaN         NaN         NaN         NaN  \n",
        "190151        NaN         NaN         NaN         NaN         NaN  \n",
        "190152        NaN         NaN         NaN         NaN         NaN  \n",
        "190153        NaN         NaN         NaN         NaN         NaN  \n",
        "190154        NaN         NaN         NaN         NaN         NaN  \n",
        "190155        NaN         NaN         NaN         NaN         NaN  \n",
        "190156        NaN         NaN         NaN         NaN         NaN  \n",
        "\n",
        "[190157 rows x 14 columns]"
       ]
      }
     ],
     "prompt_number": 5
    },
    {
     "cell_type": "code",
     "collapsed": false,
     "input": [
      "#testing new Data - New Data Stats\n",
      "# How to take not in --->\n",
      "#idx = df['some column'].isin(['this', 'that', 'other'])\n",
      "#df[~idx]\n",
      "freebase_persons = pd.read_table('../scripts/personality_data_aashray_rev_new', sep=\"\\<\\<\\^\\>\\>\")# some lines have more\n",
      "#freebase_persons['/people/person/date_of_birth']=freebase_persons['/people/person/date_of_birth'].astype('datetime64[ns]')\n",
      "freebase_filtered = freebase_persons[['Name','/people/deceased_person/date_of_death','/people/person/gender','/people/person/age','/people/person/date_of_birth']]\n",
      "freebase_filtered_None = freebase_filtered['/people/person/date_of_birth'].isin(['None'])\n",
      "freebase_filtered_NoNone = freebase_filtered[~freebase_filtered_None]\n",
      "freebase_filtered_NoNone['/people/person/date_of_birth'] = pd.to_datetime(freebase_filtered_NoNone['/people/person/date_of_birth'], coerce=True)\n",
      "#print(\"No. of rows with DOBs: \", len(freebase_filtered_NoNone.index))\n",
      "fd = freebase_filtered_NoNone.dropna()"
     ],
     "language": "python",
     "metadata": {},
     "outputs": [
      {
       "html": [
        "<div style=\"max-height:1000px;max-width:1500px;overflow:auto;\">\n",
        "<table border=\"1\" class=\"dataframe\">\n",
        "  <thead>\n",
        "    <tr style=\"text-align: right;\">\n",
        "      <th></th>\n",
        "      <th>Name</th>\n",
        "      <th>/people/deceased_person/date_of_death</th>\n",
        "      <th>/people/person/gender</th>\n",
        "      <th>/people/person/age</th>\n",
        "      <th>/people/person/date_of_birth</th>\n",
        "    </tr>\n",
        "  </thead>\n",
        "  <tbody>\n",
        "    <tr>\n",
        "      <th>5     </th>\n",
        "      <td>                 Yves Chaput</td>\n",
        "      <td> None</td>\n",
        "      <td>   Male</td>\n",
        "      <td> []</td>\n",
        "      <td>       1949</td>\n",
        "    </tr>\n",
        "    <tr>\n",
        "      <th>17    </th>\n",
        "      <td>   Zoya Vladimirovna Pylnova</td>\n",
        "      <td> None</td>\n",
        "      <td> Female</td>\n",
        "      <td> []</td>\n",
        "      <td> 1947-01-29</td>\n",
        "    </tr>\n",
        "    <tr>\n",
        "      <th>34    </th>\n",
        "      <td>         Ward Van den Broeck</td>\n",
        "      <td> None</td>\n",
        "      <td>   Male</td>\n",
        "      <td> []</td>\n",
        "      <td> 1990-01-18</td>\n",
        "    </tr>\n",
        "    <tr>\n",
        "      <th>36    </th>\n",
        "      <td>               Lily Hannigan</td>\n",
        "      <td> None</td>\n",
        "      <td> Female</td>\n",
        "      <td> []</td>\n",
        "      <td> 2010-03-18</td>\n",
        "    </tr>\n",
        "    <tr>\n",
        "      <th>44    </th>\n",
        "      <td>                Thomas Pledl</td>\n",
        "      <td> None</td>\n",
        "      <td>   Male</td>\n",
        "      <td> []</td>\n",
        "      <td> 1994-05-23</td>\n",
        "    </tr>\n",
        "    <tr>\n",
        "      <th>48    </th>\n",
        "      <td>              Sean McCracken</td>\n",
        "      <td> None</td>\n",
        "      <td>   Male</td>\n",
        "      <td> []</td>\n",
        "      <td> 1980-02-21</td>\n",
        "    </tr>\n",
        "    <tr>\n",
        "      <th>50    </th>\n",
        "      <td>                 Baba Rahman</td>\n",
        "      <td> None</td>\n",
        "      <td>   Male</td>\n",
        "      <td> []</td>\n",
        "      <td> 1994-07-02</td>\n",
        "    </tr>\n",
        "    <tr>\n",
        "      <th>51    </th>\n",
        "      <td>              Michael Hefele</td>\n",
        "      <td> None</td>\n",
        "      <td>   Male</td>\n",
        "      <td> []</td>\n",
        "      <td> 1990-09-01</td>\n",
        "    </tr>\n",
        "    <tr>\n",
        "      <th>58    </th>\n",
        "      <td>             Charlton Spinks</td>\n",
        "      <td> None</td>\n",
        "      <td>   None</td>\n",
        "      <td> []</td>\n",
        "      <td>       1877</td>\n",
        "    </tr>\n",
        "    <tr>\n",
        "      <th>60    </th>\n",
        "      <td>           Leonard Appleyard</td>\n",
        "      <td> None</td>\n",
        "      <td>   Male</td>\n",
        "      <td> []</td>\n",
        "      <td> 1938-09-02</td>\n",
        "    </tr>\n",
        "    <tr>\n",
        "      <th>70    </th>\n",
        "      <td>              Paul Studholme</td>\n",
        "      <td> None</td>\n",
        "      <td>   None</td>\n",
        "      <td> []</td>\n",
        "      <td> 1930-01-16</td>\n",
        "    </tr>\n",
        "    <tr>\n",
        "      <th>84    </th>\n",
        "      <td>               Nicklas Naess</td>\n",
        "      <td> None</td>\n",
        "      <td>   Male</td>\n",
        "      <td> []</td>\n",
        "      <td> 2000-09-14</td>\n",
        "    </tr>\n",
        "    <tr>\n",
        "      <th>85    </th>\n",
        "      <td>                 Louis Naess</td>\n",
        "      <td> None</td>\n",
        "      <td>   Male</td>\n",
        "      <td> []</td>\n",
        "      <td>    2003-03</td>\n",
        "    </tr>\n",
        "    <tr>\n",
        "      <th>86    </th>\n",
        "      <td>              Camilla Astrup</td>\n",
        "      <td> None</td>\n",
        "      <td> Female</td>\n",
        "      <td> []</td>\n",
        "      <td>       1968</td>\n",
        "    </tr>\n",
        "    <tr>\n",
        "      <th>92    </th>\n",
        "      <td>        Vasiliy Shakhnazarov</td>\n",
        "      <td> None</td>\n",
        "      <td>   Male</td>\n",
        "      <td> []</td>\n",
        "      <td>       1996</td>\n",
        "    </tr>\n",
        "    <tr>\n",
        "      <th>93    </th>\n",
        "      <td>           Ivan Shakhnazarov</td>\n",
        "      <td> None</td>\n",
        "      <td>   Male</td>\n",
        "      <td> []</td>\n",
        "      <td>       1993</td>\n",
        "    </tr>\n",
        "    <tr>\n",
        "      <th>95    </th>\n",
        "      <td>          Anna Shakhnazarova</td>\n",
        "      <td> None</td>\n",
        "      <td> Female</td>\n",
        "      <td> []</td>\n",
        "      <td>       1985</td>\n",
        "    </tr>\n",
        "    <tr>\n",
        "      <th>99    </th>\n",
        "      <td>               Jaden Asamoah</td>\n",
        "      <td> None</td>\n",
        "      <td>   Male</td>\n",
        "      <td> []</td>\n",
        "      <td> 2007-02-26</td>\n",
        "    </tr>\n",
        "    <tr>\n",
        "      <th>100   </th>\n",
        "      <td>                Jada Asamoah</td>\n",
        "      <td> None</td>\n",
        "      <td> Female</td>\n",
        "      <td> []</td>\n",
        "      <td> 2007-02-26</td>\n",
        "    </tr>\n",
        "    <tr>\n",
        "      <th>101   </th>\n",
        "      <td>       Filippa Kumlin D'Orey</td>\n",
        "      <td> None</td>\n",
        "      <td> Female</td>\n",
        "      <td> []</td>\n",
        "      <td>       1941</td>\n",
        "    </tr>\n",
        "    <tr>\n",
        "      <th>108   </th>\n",
        "      <td>      Calloway Lane Kendrick</td>\n",
        "      <td> None</td>\n",
        "      <td> Female</td>\n",
        "      <td> []</td>\n",
        "      <td>    2012-09</td>\n",
        "    </tr>\n",
        "    <tr>\n",
        "      <th>109   </th>\n",
        "      <td>                Andy Sawford</td>\n",
        "      <td> None</td>\n",
        "      <td>   Male</td>\n",
        "      <td> []</td>\n",
        "      <td> 1976-03-15</td>\n",
        "    </tr>\n",
        "    <tr>\n",
        "      <th>116   </th>\n",
        "      <td>                Arthur Papas</td>\n",
        "      <td> None</td>\n",
        "      <td>   Male</td>\n",
        "      <td> []</td>\n",
        "      <td> 1980-03-03</td>\n",
        "    </tr>\n",
        "    <tr>\n",
        "      <th>126   </th>\n",
        "      <td>               Robert Ugrina</td>\n",
        "      <td> None</td>\n",
        "      <td>   Male</td>\n",
        "      <td> []</td>\n",
        "      <td>       1974</td>\n",
        "    </tr>\n",
        "    <tr>\n",
        "      <th>138   </th>\n",
        "      <td>                  Norma Pons</td>\n",
        "      <td> None</td>\n",
        "      <td> Female</td>\n",
        "      <td> []</td>\n",
        "      <td> 1943-08-18</td>\n",
        "    </tr>\n",
        "    <tr>\n",
        "      <th>141   </th>\n",
        "      <td>            Kharaj Mukherjee</td>\n",
        "      <td> None</td>\n",
        "      <td>   Male</td>\n",
        "      <td> []</td>\n",
        "      <td> 1963-07-07</td>\n",
        "    </tr>\n",
        "    <tr>\n",
        "      <th>153   </th>\n",
        "      <td>               Abel Goldfarb</td>\n",
        "      <td> None</td>\n",
        "      <td>   Male</td>\n",
        "      <td> []</td>\n",
        "      <td> 1979-12-19</td>\n",
        "    </tr>\n",
        "    <tr>\n",
        "      <th>157   </th>\n",
        "      <td>                Ayame Goriki</td>\n",
        "      <td> None</td>\n",
        "      <td> Female</td>\n",
        "      <td> []</td>\n",
        "      <td> 1992-08-27</td>\n",
        "    </tr>\n",
        "    <tr>\n",
        "      <th>163   </th>\n",
        "      <td>                   Riley Lau</td>\n",
        "      <td> None</td>\n",
        "      <td>   Male</td>\n",
        "      <td> []</td>\n",
        "      <td> 2012-03-21</td>\n",
        "    </tr>\n",
        "    <tr>\n",
        "      <th>176   </th>\n",
        "      <td>            Hajime Kamoshida</td>\n",
        "      <td> None</td>\n",
        "      <td>   None</td>\n",
        "      <td> []</td>\n",
        "      <td> 1978-04-11</td>\n",
        "    </tr>\n",
        "    <tr>\n",
        "      <th>...</th>\n",
        "      <td>...</td>\n",
        "      <td>...</td>\n",
        "      <td>...</td>\n",
        "      <td>...</td>\n",
        "      <td>...</td>\n",
        "    </tr>\n",
        "    <tr>\n",
        "      <th>110531</th>\n",
        "      <td>                  Nora Kretz</td>\n",
        "      <td> None</td>\n",
        "      <td> Female</td>\n",
        "      <td> []</td>\n",
        "      <td> 1934-08-21</td>\n",
        "    </tr>\n",
        "    <tr>\n",
        "      <th>110534</th>\n",
        "      <td>             Virginia Carter</td>\n",
        "      <td> None</td>\n",
        "      <td> Female</td>\n",
        "      <td> []</td>\n",
        "      <td>       1972</td>\n",
        "    </tr>\n",
        "    <tr>\n",
        "      <th>110535</th>\n",
        "      <td>         Fransjoris de Graaf</td>\n",
        "      <td> None</td>\n",
        "      <td>   Male</td>\n",
        "      <td> []</td>\n",
        "      <td> 1949-02-07</td>\n",
        "    </tr>\n",
        "    <tr>\n",
        "      <th>110541</th>\n",
        "      <td>              Florence Perry</td>\n",
        "      <td> None</td>\n",
        "      <td> Female</td>\n",
        "      <td> []</td>\n",
        "      <td>       1992</td>\n",
        "    </tr>\n",
        "    <tr>\n",
        "      <th>110544</th>\n",
        "      <td>            Kersti Kreismann</td>\n",
        "      <td> None</td>\n",
        "      <td> Female</td>\n",
        "      <td> []</td>\n",
        "      <td> 1947-01-25</td>\n",
        "    </tr>\n",
        "    <tr>\n",
        "      <th>110546</th>\n",
        "      <td>               Arvo Kukum\u00e4gi</td>\n",
        "      <td> None</td>\n",
        "      <td>   Male</td>\n",
        "      <td> []</td>\n",
        "      <td> 1958-08-09</td>\n",
        "    </tr>\n",
        "    <tr>\n",
        "      <th>110556</th>\n",
        "      <td>               Linus O'Brien</td>\n",
        "      <td> None</td>\n",
        "      <td>   Male</td>\n",
        "      <td> []</td>\n",
        "      <td> 1972-05-01</td>\n",
        "    </tr>\n",
        "    <tr>\n",
        "      <th>110558</th>\n",
        "      <td> Maria Magdalena von Oertzen</td>\n",
        "      <td> None</td>\n",
        "      <td> Female</td>\n",
        "      <td> []</td>\n",
        "      <td>       1878</td>\n",
        "    </tr>\n",
        "    <tr>\n",
        "      <th>110559</th>\n",
        "      <td>            Carl von Oertzen</td>\n",
        "      <td> None</td>\n",
        "      <td>   Male</td>\n",
        "      <td> []</td>\n",
        "      <td>       1878</td>\n",
        "    </tr>\n",
        "    <tr>\n",
        "      <th>110560</th>\n",
        "      <td>             Lieneke le Roux</td>\n",
        "      <td> None</td>\n",
        "      <td> Female</td>\n",
        "      <td> []</td>\n",
        "      <td> 1955-03-31</td>\n",
        "    </tr>\n",
        "    <tr>\n",
        "      <th>110561</th>\n",
        "      <td>            Jaak Van Hombeek</td>\n",
        "      <td> None</td>\n",
        "      <td>   Male</td>\n",
        "      <td> []</td>\n",
        "      <td>       1918</td>\n",
        "    </tr>\n",
        "    <tr>\n",
        "      <th>110569</th>\n",
        "      <td>         Caroline van Gastel</td>\n",
        "      <td> None</td>\n",
        "      <td> Female</td>\n",
        "      <td> []</td>\n",
        "      <td> 1947-03-04</td>\n",
        "    </tr>\n",
        "    <tr>\n",
        "      <th>110570</th>\n",
        "      <td>                Flor Decleir</td>\n",
        "      <td> None</td>\n",
        "      <td>   Male</td>\n",
        "      <td> []</td>\n",
        "      <td>       1990</td>\n",
        "    </tr>\n",
        "    <tr>\n",
        "      <th>110571</th>\n",
        "      <td>               Sofie Decleir</td>\n",
        "      <td> None</td>\n",
        "      <td> Female</td>\n",
        "      <td> []</td>\n",
        "      <td>       1975</td>\n",
        "    </tr>\n",
        "    <tr>\n",
        "      <th>110572</th>\n",
        "      <td>               Jenne Decleir</td>\n",
        "      <td> None</td>\n",
        "      <td>   Male</td>\n",
        "      <td> []</td>\n",
        "      <td> 1977-12-05</td>\n",
        "    </tr>\n",
        "    <tr>\n",
        "      <th>110576</th>\n",
        "      <td>           Reinhilde Decleir</td>\n",
        "      <td> None</td>\n",
        "      <td> Female</td>\n",
        "      <td> []</td>\n",
        "      <td> 1948-05-16</td>\n",
        "    </tr>\n",
        "    <tr>\n",
        "      <th>110581</th>\n",
        "      <td>          Chris Lewis-Harris</td>\n",
        "      <td> None</td>\n",
        "      <td>   Male</td>\n",
        "      <td> []</td>\n",
        "      <td> 1989-02-11</td>\n",
        "    </tr>\n",
        "    <tr>\n",
        "      <th>110584</th>\n",
        "      <td>               David Schultz</td>\n",
        "      <td> None</td>\n",
        "      <td>   Male</td>\n",
        "      <td> []</td>\n",
        "      <td> 1980-07-27</td>\n",
        "    </tr>\n",
        "    <tr>\n",
        "      <th>110590</th>\n",
        "      <td>        Boudewijn Tarenskeen</td>\n",
        "      <td> None</td>\n",
        "      <td>   None</td>\n",
        "      <td> []</td>\n",
        "      <td> 1952-12-15</td>\n",
        "    </tr>\n",
        "    <tr>\n",
        "      <th>110593</th>\n",
        "      <td>          Gerardjan Rijnders</td>\n",
        "      <td> None</td>\n",
        "      <td>   Male</td>\n",
        "      <td> []</td>\n",
        "      <td> 1949-06-02</td>\n",
        "    </tr>\n",
        "    <tr>\n",
        "      <th>110609</th>\n",
        "      <td>                 Sheri Hagen</td>\n",
        "      <td> None</td>\n",
        "      <td> Female</td>\n",
        "      <td> []</td>\n",
        "      <td>       1968</td>\n",
        "    </tr>\n",
        "    <tr>\n",
        "      <th>110626</th>\n",
        "      <td>               Jean Frenette</td>\n",
        "      <td> None</td>\n",
        "      <td>   Male</td>\n",
        "      <td> []</td>\n",
        "      <td> 1961-06-03</td>\n",
        "    </tr>\n",
        "    <tr>\n",
        "      <th>110628</th>\n",
        "      <td>                 Glenn Kwann</td>\n",
        "      <td> None</td>\n",
        "      <td>   Male</td>\n",
        "      <td> []</td>\n",
        "      <td> 1947-03-29</td>\n",
        "    </tr>\n",
        "    <tr>\n",
        "      <th>110629</th>\n",
        "      <td>      Martha Josephine Black</td>\n",
        "      <td> None</td>\n",
        "      <td> Female</td>\n",
        "      <td> []</td>\n",
        "      <td>       1933</td>\n",
        "    </tr>\n",
        "    <tr>\n",
        "      <th>110648</th>\n",
        "      <td>   Jamie Maxim Nolst Trenit\u00e9</td>\n",
        "      <td> None</td>\n",
        "      <td>   Male</td>\n",
        "      <td> []</td>\n",
        "      <td> 1990-05-25</td>\n",
        "    </tr>\n",
        "    <tr>\n",
        "      <th>110654</th>\n",
        "      <td>               Lukas Dijkema</td>\n",
        "      <td> None</td>\n",
        "      <td>   Male</td>\n",
        "      <td> []</td>\n",
        "      <td> 1954-02-27</td>\n",
        "    </tr>\n",
        "    <tr>\n",
        "      <th>110655</th>\n",
        "      <td>           Annelieke Bouwers</td>\n",
        "      <td> None</td>\n",
        "      <td> Female</td>\n",
        "      <td> []</td>\n",
        "      <td> 1976-05-04</td>\n",
        "    </tr>\n",
        "    <tr>\n",
        "      <th>110660</th>\n",
        "      <td>          Joseph Nederlander</td>\n",
        "      <td> None</td>\n",
        "      <td>   Male</td>\n",
        "      <td> []</td>\n",
        "      <td>       1928</td>\n",
        "    </tr>\n",
        "    <tr>\n",
        "      <th>110671</th>\n",
        "      <td>           Wouter Van Bemmel</td>\n",
        "      <td> None</td>\n",
        "      <td>   Male</td>\n",
        "      <td> []</td>\n",
        "      <td> 1953-09-22</td>\n",
        "    </tr>\n",
        "    <tr>\n",
        "      <th>110682</th>\n",
        "      <td>                    Jay Lind</td>\n",
        "      <td> None</td>\n",
        "      <td>   Male</td>\n",
        "      <td> []</td>\n",
        "      <td> 1958-10-04</td>\n",
        "    </tr>\n",
        "  </tbody>\n",
        "</table>\n",
        "<p>19343 rows \u00d7 5 columns</p>\n",
        "</div>"
       ],
       "metadata": {},
       "output_type": "pyout",
       "prompt_number": 54,
       "text": [
        "                               Name /people/deceased_person/date_of_death  \\\n",
        "5                       Yves Chaput                                  None   \n",
        "17        Zoya Vladimirovna Pylnova                                  None   \n",
        "34              Ward Van den Broeck                                  None   \n",
        "36                    Lily Hannigan                                  None   \n",
        "44                     Thomas Pledl                                  None   \n",
        "48                   Sean McCracken                                  None   \n",
        "50                      Baba Rahman                                  None   \n",
        "51                   Michael Hefele                                  None   \n",
        "58                  Charlton Spinks                                  None   \n",
        "60                Leonard Appleyard                                  None   \n",
        "70                   Paul Studholme                                  None   \n",
        "84                    Nicklas Naess                                  None   \n",
        "85                      Louis Naess                                  None   \n",
        "86                   Camilla Astrup                                  None   \n",
        "92             Vasiliy Shakhnazarov                                  None   \n",
        "93                Ivan Shakhnazarov                                  None   \n",
        "95               Anna Shakhnazarova                                  None   \n",
        "99                    Jaden Asamoah                                  None   \n",
        "100                    Jada Asamoah                                  None   \n",
        "101           Filippa Kumlin D'Orey                                  None   \n",
        "108          Calloway Lane Kendrick                                  None   \n",
        "109                    Andy Sawford                                  None   \n",
        "116                    Arthur Papas                                  None   \n",
        "126                   Robert Ugrina                                  None   \n",
        "138                      Norma Pons                                  None   \n",
        "141                Kharaj Mukherjee                                  None   \n",
        "153                   Abel Goldfarb                                  None   \n",
        "157                    Ayame Goriki                                  None   \n",
        "163                       Riley Lau                                  None   \n",
        "176                Hajime Kamoshida                                  None   \n",
        "...                             ...                                   ...   \n",
        "110531                   Nora Kretz                                  None   \n",
        "110534              Virginia Carter                                  None   \n",
        "110535          Fransjoris de Graaf                                  None   \n",
        "110541               Florence Perry                                  None   \n",
        "110544             Kersti Kreismann                                  None   \n",
        "110546                Arvo Kukum\u00e4gi                                  None   \n",
        "110556                Linus O'Brien                                  None   \n",
        "110558  Maria Magdalena von Oertzen                                  None   \n",
        "110559             Carl von Oertzen                                  None   \n",
        "110560              Lieneke le Roux                                  None   \n",
        "110561             Jaak Van Hombeek                                  None   \n",
        "110569          Caroline van Gastel                                  None   \n",
        "110570                 Flor Decleir                                  None   \n",
        "110571                Sofie Decleir                                  None   \n",
        "110572                Jenne Decleir                                  None   \n",
        "110576            Reinhilde Decleir                                  None   \n",
        "110581           Chris Lewis-Harris                                  None   \n",
        "110584                David Schultz                                  None   \n",
        "110590         Boudewijn Tarenskeen                                  None   \n",
        "110593           Gerardjan Rijnders                                  None   \n",
        "110609                  Sheri Hagen                                  None   \n",
        "110626                Jean Frenette                                  None   \n",
        "110628                  Glenn Kwann                                  None   \n",
        "110629       Martha Josephine Black                                  None   \n",
        "110648    Jamie Maxim Nolst Trenit\u00e9                                  None   \n",
        "110654                Lukas Dijkema                                  None   \n",
        "110655            Annelieke Bouwers                                  None   \n",
        "110660           Joseph Nederlander                                  None   \n",
        "110671            Wouter Van Bemmel                                  None   \n",
        "110682                     Jay Lind                                  None   \n",
        "\n",
        "       /people/person/gender /people/person/age /people/person/date_of_birth  \n",
        "5                       Male                 []                         1949  \n",
        "17                    Female                 []                   1947-01-29  \n",
        "34                      Male                 []                   1990-01-18  \n",
        "36                    Female                 []                   2010-03-18  \n",
        "44                      Male                 []                   1994-05-23  \n",
        "48                      Male                 []                   1980-02-21  \n",
        "50                      Male                 []                   1994-07-02  \n",
        "51                      Male                 []                   1990-09-01  \n",
        "58                      None                 []                         1877  \n",
        "60                      Male                 []                   1938-09-02  \n",
        "70                      None                 []                   1930-01-16  \n",
        "84                      Male                 []                   2000-09-14  \n",
        "85                      Male                 []                      2003-03  \n",
        "86                    Female                 []                         1968  \n",
        "92                      Male                 []                         1996  \n",
        "93                      Male                 []                         1993  \n",
        "95                    Female                 []                         1985  \n",
        "99                      Male                 []                   2007-02-26  \n",
        "100                   Female                 []                   2007-02-26  \n",
        "101                   Female                 []                         1941  \n",
        "108                   Female                 []                      2012-09  \n",
        "109                     Male                 []                   1976-03-15  \n",
        "116                     Male                 []                   1980-03-03  \n",
        "126                     Male                 []                         1974  \n",
        "138                   Female                 []                   1943-08-18  \n",
        "141                     Male                 []                   1963-07-07  \n",
        "153                     Male                 []                   1979-12-19  \n",
        "157                   Female                 []                   1992-08-27  \n",
        "163                     Male                 []                   2012-03-21  \n",
        "176                     None                 []                   1978-04-11  \n",
        "...                      ...                ...                          ...  \n",
        "110531                Female                 []                   1934-08-21  \n",
        "110534                Female                 []                         1972  \n",
        "110535                  Male                 []                   1949-02-07  \n",
        "110541                Female                 []                         1992  \n",
        "110544                Female                 []                   1947-01-25  \n",
        "110546                  Male                 []                   1958-08-09  \n",
        "110556                  Male                 []                   1972-05-01  \n",
        "110558                Female                 []                         1878  \n",
        "110559                  Male                 []                         1878  \n",
        "110560                Female                 []                   1955-03-31  \n",
        "110561                  Male                 []                         1918  \n",
        "110569                Female                 []                   1947-03-04  \n",
        "110570                  Male                 []                         1990  \n",
        "110571                Female                 []                         1975  \n",
        "110572                  Male                 []                   1977-12-05  \n",
        "110576                Female                 []                   1948-05-16  \n",
        "110581                  Male                 []                   1989-02-11  \n",
        "110584                  Male                 []                   1980-07-27  \n",
        "110590                  None                 []                   1952-12-15  \n",
        "110593                  Male                 []                   1949-06-02  \n",
        "110609                Female                 []                         1968  \n",
        "110626                  Male                 []                   1961-06-03  \n",
        "110628                  Male                 []                   1947-03-29  \n",
        "110629                Female                 []                         1933  \n",
        "110648                  Male                 []                   1990-05-25  \n",
        "110654                  Male                 []                   1954-02-27  \n",
        "110655                Female                 []                   1976-05-04  \n",
        "110660                  Male                 []                         1928  \n",
        "110671                  Male                 []                   1953-09-22  \n",
        "110682                  Male                 []                   1958-10-04  \n",
        "\n",
        "[19343 rows x 5 columns]"
       ]
      }
     ],
     "prompt_number": 54
    },
    {
     "cell_type": "code",
     "collapsed": false,
     "input": [
      "freebase_filtered_NoNone_deadNone = freebase_filtered_NoNone['/people/deceased_person/date_of_death'].isin(['None'])\n",
      "freebase_filtered_NoNone_dead = freebase_filtered_NoNone[~freebase_filtered_NoNone_deadNone]\n",
      "print(\"No. of rows with DOBs and DODs: \", len(freebase_filtered_NoNone_dead.index))\n",
      "##Writing to csv - evaluation data - dead people\n",
      "freebase_filtered_NoNone_dead.to_csv('../data/evaluation_data_dead.csv', sep=',')"
     ],
     "language": "python",
     "metadata": {},
     "outputs": [
      {
       "output_type": "stream",
       "stream": "stdout",
       "text": [
        "('No. of rows with DOBs and DODs: ', 5427)\n"
       ]
      }
     ],
     "prompt_number": 36
    },
    {
     "cell_type": "code",
     "collapsed": false,
     "input": [
      "freebase_filtered_deadNone = freebase_filtered['/people/deceased_person/date_of_death'].isin(['None'])\n",
      "freebase_filtered_dead = freebase_filtered[~freebase_filtered_deadNone]\n",
      "print(\"No. of rows with DODs irrespective of having DOB: \", len(freebase_filtered_dead.index))"
     ],
     "language": "python",
     "metadata": {},
     "outputs": [
      {
       "output_type": "stream",
       "stream": "stdout",
       "text": [
        "('No. of rows with DODs irrespective of having DOB: ', 6598)\n"
       ]
      }
     ],
     "prompt_number": 47
    },
    {
     "cell_type": "code",
     "collapsed": false,
     "input": [
      "freebase_filtered_ageNone = freebase_filtered['/people/person/age'].isin(['None', '[]'])\n",
      "freebase_filtered_age = freebase_filtered[~freebase_filtered_ageNone]\n",
      "print(\"No. of rows with age: \", len(freebase_filtered_age.index))"
     ],
     "language": "python",
     "metadata": {},
     "outputs": [
      {
       "output_type": "stream",
       "stream": "stdout",
       "text": [
        "('No. of rows with age: ', 1)\n"
       ]
      }
     ],
     "prompt_number": 11
    },
    {
     "cell_type": "code",
     "collapsed": false,
     "input": [
      "##To get alive people\n",
      "people_alive = freebase_filtered_NoNone[freebase_filtered_NoNone_deadNone]\n",
      "people_alive.to_csv('../data/evaluation_data_alive.csv', sep=',')"
     ],
     "language": "python",
     "metadata": {},
     "outputs": [],
     "prompt_number": 59
    },
    {
     "cell_type": "code",
     "collapsed": false,
     "input": [],
     "language": "python",
     "metadata": {},
     "outputs": []
    }
   ],
   "metadata": {}
  }
 ]
}