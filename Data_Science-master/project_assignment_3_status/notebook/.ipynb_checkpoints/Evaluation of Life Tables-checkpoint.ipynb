{
 "metadata": {
  "name": "",
  "signature": "sha256:1610833c17c353969e71bf2f852a6c091efd36054e12197a12776661ef5e2cc1"
 },
 "nbformat": 3,
 "nbformat_minor": 0,
 "worksheets": [
  {
   "cells": [
    {
     "cell_type": "code",
     "collapsed": false,
     "input": [
      "import pandas as pd\n",
      "from pandas import Series, DataFrame\n",
      "import numpy as np\n",
      "import datetime"
     ],
     "language": "python",
     "metadata": {},
     "outputs": [],
     "prompt_number": 3
    },
    {
     "cell_type": "code",
     "collapsed": false,
     "input": [
      "#List of dead and alive people\n",
      "dead = pd.read_csv('../data/evaluation_data_dead.csv')\n",
      "alive = pd.read_csv('../data/evaluation_data_alive.csv')\n",
      "\n",
      "#Probabilities of death based on gender\n",
      "female_prob = pd.read_csv('../data/Period_Life_Table_Female_2010.csv')\n",
      "male_prob = pd.read_csv('../data/Period_Life_Table_Male_2010.csv')"
     ],
     "language": "python",
     "metadata": {},
     "outputs": [],
     "prompt_number": 4
    },
    {
     "cell_type": "code",
     "collapsed": false,
     "input": [
      "df_dead = pd.DataFrame(dead)\n",
      "df_alive = pd.DataFrame(alive)\n",
      "\n",
      "#Death Probability dataframes\n",
      "df_male_prob = pd.DataFrame(male_prob)\n",
      "df_female_prob = pd.DataFrame(female_prob)\n",
      "\n",
      "#Renaming columns\n",
      "df_male_prob.columns = ['Age', 'Death Prob']\n",
      "df_female_prob.columns = ['Age', 'Death Prob']"
     ],
     "language": "python",
     "metadata": {},
     "outputs": [],
     "prompt_number": 5
    },
    {
     "cell_type": "code",
     "collapsed": false,
     "input": [
      "#Df_dead\n",
      "df_remove_time = df_dead['Birth Date'].str.split()\n",
      "df_dead['Birth Date'] = df_remove_time.str[0]\n",
      "\n",
      "#Df_alive\n",
      "df_rem_time = df_alive['Birth Date'].str.split()\n",
      "df_alive['Birth Date'] = df_rem_time.str[0]\n",
      "\n",
      "#Formatted the date for year of birth\n",
      "df_dead['Birth Date'] = pd.to_datetime(df_dead['Birth Date'], coerce=True)\n",
      "df_alive['Birth Date'] = pd.to_datetime(df_alive['Birth Date'], coerce=True)"
     ],
     "language": "python",
     "metadata": {},
     "outputs": [],
     "prompt_number": 6
    },
    {
     "cell_type": "code",
     "collapsed": false,
     "input": [
      "#Formatted the date for year of death\n",
      "df_dead['Death Date'] = pd.to_datetime(df_dead['Death Date'], coerce=True)"
     ],
     "language": "python",
     "metadata": {},
     "outputs": [],
     "prompt_number": 7
    },
    {
     "cell_type": "code",
     "collapsed": false,
     "input": [
      "#If the gender is None, removed the records - Df_dead\n",
      "removed_gender_None = df_dead['Gender'].isin(['None'])\n",
      "df_dead = df_dead[~removed_gender_None]\n",
      "\n",
      "#If the gender is None, removed the records - Df_alive\n",
      "rem_gender_None = df_alive['Gender'].isin(['None'])\n",
      "df_alive = df_alive[~rem_gender_None]"
     ],
     "language": "python",
     "metadata": {},
     "outputs": [],
     "prompt_number": 8
    },
    {
     "cell_type": "code",
     "collapsed": false,
     "input": [
      "#Getting only the birth and death years to calculate the age - Df_dead\n",
      "df_dead_new = df_dead['Birth Date'].str.split('-')\n",
      "df_dead['Birth Year'] = pd.DatetimeIndex(df_dead['Birth Date']).year\n",
      "df_dead['Death Year'] = pd.DatetimeIndex(df_dead['Death Date']).year\n",
      "\n",
      "#Getting only the birth and death years to calculate the age - Df_alive\n",
      "df_alive_new = df_alive['Birth Date'].str.split('-')\n",
      "df_alive['Birth Year'] = pd.DatetimeIndex(df_alive['Birth Date']).year"
     ],
     "language": "python",
     "metadata": {},
     "outputs": [],
     "prompt_number": 9
    },
    {
     "cell_type": "code",
     "collapsed": false,
     "input": [
      "#To include only those people born after 1900 - Df_dead\n",
      "df_dead_filtered_birth_year = df_dead['Birth Year'] < 1900\n",
      "df_dead = df_dead[~df_dead_filtered_birth_year]\n",
      "\n",
      "#To include only those people dead after 1900\n",
      "df_dead_filtered_death_year = df_dead['Death Year'] < 1900\n",
      "df_dead = df_dead[~df_dead_filtered_death_year]\n",
      "\n",
      "#To include only those people born after 1900 - Df_alive\n",
      "df_alive_filtered_birth_year = df_alive['Birth Year'] < 1900\n",
      "df_alive = df_alive[~df_alive_filtered_birth_year]"
     ],
     "language": "python",
     "metadata": {},
     "outputs": [],
     "prompt_number": 10
    },
    {
     "cell_type": "code",
     "collapsed": false,
     "input": [
      "#Df_dead\n",
      "df_dead['Age'] = df_dead['Death Year'] - df_dead['Birth Year']\n",
      "\n",
      "#Df_alive\n",
      "df_alive['Age'] = 2014 - df_alive['Birth Year']\n",
      "\n",
      "#Removing people with age = 0 since the Birth Date and Death Date is the same\n",
      "df_dead_age_zero = df_dead['Age'] == 0\n",
      "df_dead = df_dead[~df_dead_age_zero]\n",
      "\n",
      "#Reindexing the df_dead \n",
      "df_dead = df_dead.reset_index(drop=True)\n",
      "\n",
      "#Reindexing the df_alive\n",
      "df_alive = df_alive.reset_index(drop=True)\n",
      "\n",
      "#*****************************************************************************************#\n",
      "#Test data - 11 records - Df_dead\n",
      "test_data_dead = df_dead.loc[:10,]\n",
      "\n",
      "#Test data - Df_alive\n",
      "test_data_alive = df_alive.loc[:10,]\n",
      "#*****************************************************************************************#"
     ],
     "language": "python",
     "metadata": {},
     "outputs": [],
     "prompt_number": 11
    },
    {
     "cell_type": "code",
     "collapsed": false,
     "input": [
      "#To create a new DataFrame - For dead people\n",
      "columns = ['Name', 'Gender', 'Age', 'Prediction_Prob', 'Is_dead']\n",
      "eval_df = pd.DataFrame(columns=columns) \n",
      "\n",
      "#To create a new DataFrame - For alive people\n",
      "eval_dfa = pd.DataFrame(columns=columns) "
     ],
     "language": "python",
     "metadata": {},
     "outputs": [],
     "prompt_number": 12
    },
    {
     "cell_type": "code",
     "collapsed": false,
     "input": [
      "# i is the index\n",
      "i = 0\n",
      "\n",
      "#Iterating through the transpose of the test data - Df_dead\n",
      "for val, row in test_data_dead.T.iteritems():\n",
      "    age_count = 0\n",
      "    while age_count <= row['Age']:\n",
      "        name = row['Name']\n",
      "        gender = row['Gender']\n",
      "        age = age_count\n",
      "        pred_prob = 0\n",
      "        if age_count < row['Age']:\n",
      "            is_dead = 'N'\n",
      "        else:\n",
      "            is_dead = 'Y'\n",
      "        age_count += 1\n",
      "        data = np.array([name, gender, age, pred_prob, is_dead])\n",
      "        eval_df.loc[i] = data\n",
      "        i += 1\n",
      "\n",
      "#To convert Age from object to int type\n",
      "eval_df['Age'] = eval_df['Age'].astype(int)"
     ],
     "language": "python",
     "metadata": {},
     "outputs": [],
     "prompt_number": 13
    },
    {
     "cell_type": "code",
     "collapsed": false,
     "input": [
      "# j is the index\n",
      "j = 0\n",
      "\n",
      "#Iterating through the transpose of the test data - Df_alive\n",
      "for val, row in test_data_alive.T.iteritems():\n",
      "    age_count = 0\n",
      "    while age_count <= 119:\n",
      "        name = row['Name']\n",
      "        gender = row['Gender']\n",
      "        age = age_count\n",
      "        pred_prob = 0\n",
      "        is_dead = 'N'\n",
      "        age_count += 1\n",
      "        data = np.array([name, gender, age, pred_prob, is_dead])\n",
      "        eval_dfa.loc[i] = data\n",
      "        i += 1\n",
      "\n",
      "#To convert Age from object to int type\n",
      "eval_dfa['Age'] = eval_dfa['Age'].astype(int)"
     ],
     "language": "python",
     "metadata": {},
     "outputs": [],
     "prompt_number": 14
    },
    {
     "cell_type": "code",
     "collapsed": false,
     "input": [
      "#Assigning death probabilities for each age of the person - Df_dead\n",
      "for i in eval_df.index:\n",
      "    if eval_df['Gender'].loc[i] == 'Male' :\n",
      "        eval_df['Prediction_Prob'].loc[i] = df_male_prob['Death Prob'].loc[eval_df['Age'].loc[i]]\n",
      "    else:\n",
      "        eval_df['Prediction_Prob'].loc[i] = df_female_prob['Death Prob'].loc[eval_df['Age'].loc[i]]\n",
      "        \n",
      "#To convert Prediction Probability from object to float type\n",
      "eval_df['Prediction_Prob'] = eval_df['Prediction_Prob'].astype(float)"
     ],
     "language": "python",
     "metadata": {},
     "outputs": [
      {
       "output_type": "stream",
       "stream": "stderr",
       "text": [
        "C:\\Users\\Varsha\\User\\lib\\site-packages\\pandas\\core\\indexing.py:121: SettingWithCopyWarning: \n",
        "A value is trying to be set on a copy of a slice from a DataFrame\n",
        "\n",
        "See the the caveats in the documentation: http://pandas.pydata.org/pandas-docs/stable/indexing.html#indexing-view-versus-copy\n",
        "  self._setitem_with_indexer(indexer, value)\n"
       ]
      }
     ],
     "prompt_number": 15
    },
    {
     "cell_type": "code",
     "collapsed": false,
     "input": [
      "#Assigning death probabilities for each age of the person - Df_alive\n",
      "for i in eval_dfa.index:\n",
      "    if eval_dfa['Gender'].loc[i] == 'Male' :\n",
      "        eval_dfa['Prediction_Prob'].loc[i] = df_male_prob['Death Prob'].loc[eval_dfa['Age'].loc[i]]\n",
      "    else:\n",
      "        eval_dfa['Prediction_Prob'].loc[i] = df_female_prob['Death Prob'].loc[eval_dfa['Age'].loc[i]]\n",
      "        \n",
      "#To convert Prediction Probability from object to float type\n",
      "eval_dfa['Prediction_Prob'] = eval_dfa['Prediction_Prob'].astype(float)"
     ],
     "language": "python",
     "metadata": {},
     "outputs": [],
     "prompt_number": 16
    },
    {
     "cell_type": "code",
     "collapsed": false,
     "input": [
      "#Probability categories\n",
      "cat1 = 'less than 0.0002'\n",
      "cat2 = '0.0002 <= x < 0.0004'\n",
      "cat3 = '0.0004 <= x < 0.0006'\n",
      "cat4 = '0.0006 <= x < 0.0010'\n",
      "cat5 = '0.0010 <= x < 0.0020'\n",
      "cat6 = '0.0020 <= x < 0.0040'\n",
      "cat7 = '0.0040 <= x < 0.0060'\n",
      "cat8 = '0.0060 <= x < 0.0100'\n",
      "cat9 = '0.0100 <= x < 0.0200'\n",
      "cat10 = '0.0200 <= x < 0.0400'\n",
      "cat11 = '0.0400 <= x < 0.0600'\n",
      "cat12 = '0.0600 <= x < 0.1000'\n",
      "cat13 = '0.1000 <= x < 0.2000'\n",
      "cat14 = '0.2000 <= x < 0.4000'\n",
      "cat15 = '0.4000 <= x < 0.6000'\n",
      "cat16 = '0.6000 <= x < 0.8000'\n",
      "cat17 = '0.8000 <= x < 1.0000'\n",
      "\n",
      "#Df_dead\n",
      "#Creating a dataframe to keep track of the count of people whose death probabilities is in the above range\n",
      "col = ['Ranges', 'Num_people_alive', 'Num_people_dead']\n",
      "cat_df = pd.DataFrame(columns=col)\n",
      "cat_df['Ranges'] = pd.Series([cat1,cat2,cat3,cat4,cat5,cat6,cat7,cat8,cat9,cat10,cat11,cat12,cat13,cat14,cat15,cat16,cat17])\n",
      "cat_df['Num_people_dead'] = pd.Series([0,0,0,0,0,0,0,0,0,0,0,0,0,0,0,0,0])\n",
      "cat_df['Num_people_alive'] = pd.Series([0,0,0,0,0,0,0,0,0,0,0,0,0,0,0,0,0])\n",
      "\n",
      "#Df_alive\n",
      "#Creating a dataframe to keep track of the count of people whose death probabilities is in the above range\n",
      "cat_dfa = pd.DataFrame(columns=col)\n",
      "cat_dfa['Ranges'] = pd.Series([cat1,cat2,cat3,cat4,cat5,cat6,cat7,cat8,cat9,cat10,cat11,cat12,cat13,cat14,cat15,cat16,cat17])\n",
      "cat_dfa['Num_people_dead'] = pd.Series([0,0,0,0,0,0,0,0,0,0,0,0,0,0,0,0,0])\n",
      "cat_dfa['Num_people_alive'] = pd.Series([0,0,0,0,0,0,0,0,0,0,0,0,0,0,0,0,0])"
     ],
     "language": "python",
     "metadata": {},
     "outputs": [],
     "prompt_number": 17
    },
    {
     "cell_type": "code",
     "collapsed": false,
     "input": [
      "#Bucketing the probabilities based on the ranges above\n",
      "#Df_dead\n",
      "count_alive_cat1 = 0\n",
      "count_dead_cat1 = 0\n",
      "\n",
      "count_alive_cat2 = 0\n",
      "count_dead_cat2 = 0\n",
      "\n",
      "count_alive_cat3 = 0\n",
      "count_dead_cat3 = 0\n",
      "\n",
      "count_alive_cat4 = 0\n",
      "count_dead_cat4 = 0\n",
      "\n",
      "count_alive_cat5 = 0\n",
      "count_dead_cat5 = 0\n",
      "\n",
      "count_alive_cat6 = 0\n",
      "count_dead_cat6 = 0\n",
      "\n",
      "count_alive_cat7 = 0\n",
      "count_dead_cat7 = 0\n",
      "\n",
      "count_alive_cat8 = 0\n",
      "count_dead_cat8 = 0\n",
      "\n",
      "count_alive_cat9 = 0\n",
      "count_dead_cat9 = 0\n",
      "\n",
      "count_alive_cat10 = 0\n",
      "count_dead_cat10 = 0\n",
      "\n",
      "count_alive_cat11 = 0\n",
      "count_dead_cat11 = 0\n",
      "\n",
      "count_alive_cat12 = 0\n",
      "count_dead_cat12 = 0\n",
      "\n",
      "count_alive_cat13 = 0\n",
      "count_dead_cat13 = 0\n",
      "\n",
      "count_alive_cat14 = 0\n",
      "count_dead_cat14 = 0\n",
      "\n",
      "count_alive_cat15 = 0\n",
      "count_dead_cat15 = 0\n",
      "\n",
      "count_alive_cat16 = 0\n",
      "count_dead_cat16 = 0\n",
      "\n",
      "count_alive_cat17 = 0\n",
      "count_dead_cat17 = 0"
     ],
     "language": "python",
     "metadata": {},
     "outputs": [],
     "prompt_number": 18
    },
    {
     "cell_type": "code",
     "collapsed": false,
     "input": [
      "#Df_dead\n",
      "for i in eval_df.index:\n",
      "    if eval_df['Prediction_Prob'].loc[i] < 0.0002 and eval_df['Is_dead'].loc[i] == 'N':\n",
      "       count_alive_cat1 += 1\n",
      "       cat_df['Num_people_alive'].loc[0] = count_alive_cat1\n",
      "    if eval_df['Prediction_Prob'].loc[i] < 0.0002 and eval_df['Is_dead'].loc[i] == 'Y':\n",
      "        count_dead_cat1 += 1\n",
      "        cat_df['Num_people_dead'].loc[0] = count_dead_cat1 \n",
      "    if (eval_df['Prediction_Prob'].loc[i] >= 0.0002  and eval_df['Prediction_Prob'].loc[i] < 0.0004) and eval_df['Is_dead'].loc[i] == 'N':\n",
      "       count_alive_cat2 += 1\n",
      "       cat_df['Num_people_alive'].loc[1] = count_alive_cat2\n",
      "    if (eval_df['Prediction_Prob'].loc[i] >= 0.0002  and eval_df['Prediction_Prob'].loc[i] < 0.0004) and eval_df['Is_dead'].loc[i] == 'Y':\n",
      "        count_dead_cat2 += 1\n",
      "        cat_df['Num_people_dead'].loc[1] = count_dead_cat2  \n",
      "    if (eval_df['Prediction_Prob'].loc[i] >= 0.0004  and eval_df['Prediction_Prob'].loc[i] < 0.0006) and eval_df['Is_dead'].loc[i] == 'N':\n",
      "       count_alive_cat3 += 1\n",
      "       cat_df['Num_people_alive'].loc[2] = count_alive_cat3\n",
      "    if (eval_df['Prediction_Prob'].loc[i] >= 0.0002  and eval_df['Prediction_Prob'].loc[i] < 0.0004) and eval_df['Is_dead'].loc[i] == 'Y':\n",
      "        count_dead_cat3 += 1\n",
      "        cat_df['Num_people_dead'].loc[2] = count_dead_cat3   \n",
      "    if (eval_df['Prediction_Prob'].loc[i] >= 0.0006  and eval_df['Prediction_Prob'].loc[i] < 0.0010) and eval_df['Is_dead'].loc[i] == 'N':\n",
      "       count_alive_cat4 += 1\n",
      "       cat_df['Num_people_alive'].loc[3] = count_alive_cat4\n",
      "    if (eval_df['Prediction_Prob'].loc[i] >= 0.0006  and eval_df['Prediction_Prob'].loc[i] < 0.0010) and eval_df['Is_dead'].loc[i] == 'Y':\n",
      "        count_dead_cat4 += 1\n",
      "        cat_df['Num_people_dead'].loc[3] = count_dead_cat4 \n",
      "    if (eval_df['Prediction_Prob'].loc[i] >= 0.0010  and eval_df['Prediction_Prob'].loc[i] < 0.0020) and eval_df['Is_dead'].loc[i] == 'N':\n",
      "       count_alive_cat5 += 1\n",
      "       cat_df['Num_people_alive'].loc[4] = count_alive_cat5\n",
      "    if (eval_df['Prediction_Prob'].loc[i] >= 0.0010  and eval_df['Prediction_Prob'].loc[i] < 0.0020) and eval_df['Is_dead'].loc[i] == 'Y':\n",
      "        count_dead_cat5 += 1\n",
      "        cat_df['Num_people_dead'].loc[4] = count_dead_cat5 \n",
      "    if (eval_df['Prediction_Prob'].loc[i] >= 0.0020  and eval_df['Prediction_Prob'].loc[i] < 0.0040) and eval_df['Is_dead'].loc[i] == 'N':\n",
      "       count_alive_cat6 += 1\n",
      "       cat_df['Num_people_alive'].loc[5] = count_alive_cat6\n",
      "    if (eval_df['Prediction_Prob'].loc[i] >= 0.0020  and eval_df['Prediction_Prob'].loc[i] < 0.0040) and eval_df['Is_dead'].loc[i] == 'Y':\n",
      "        count_dead_cat6 += 1\n",
      "        cat_df['Num_people_dead'].loc[5] = count_dead_cat6  \n",
      "    if (eval_df['Prediction_Prob'].loc[i] >= 0.0040  and eval_df['Prediction_Prob'].loc[i] < 0.0060) and eval_df['Is_dead'].loc[i] == 'N':\n",
      "       count_alive_cat7 += 1\n",
      "       cat_df['Num_people_alive'].loc[6] = count_alive_cat7\n",
      "    if (eval_df['Prediction_Prob'].loc[i] >= 0.0040  and eval_df['Prediction_Prob'].loc[i] < 0.0060) and eval_df['Is_dead'].loc[i] == 'Y':\n",
      "        count_dead_cat7 += 1\n",
      "        cat_df['Num_people_dead'].loc[6] = count_dead_cat7 \n",
      "    if (eval_df['Prediction_Prob'].loc[i] >= 0.0060  and eval_df['Prediction_Prob'].loc[i] < 0.0100) and eval_df['Is_dead'].loc[i] == 'N':\n",
      "       count_alive_cat8 += 1\n",
      "       cat_df['Num_people_alive'].loc[7] = count_alive_cat8\n",
      "    if (eval_df['Prediction_Prob'].loc[i] >= 0.0060  and eval_df['Prediction_Prob'].loc[i] < 0.0100) and eval_df['Is_dead'].loc[i] == 'Y':\n",
      "        count_dead_cat8 += 1\n",
      "        cat_df['Num_people_dead'].loc[7] = count_dead_cat8 \n",
      "    if (eval_df['Prediction_Prob'].loc[i] >= 0.0100  and eval_df['Prediction_Prob'].loc[i] < 0.0200) and eval_df['Is_dead'].loc[i] == 'N':\n",
      "       count_alive_cat9 += 1\n",
      "       cat_df['Num_people_alive'].loc[8] = count_alive_cat9\n",
      "    if (eval_df['Prediction_Prob'].loc[i] >= 0.0100  and eval_df['Prediction_Prob'].loc[i] < 0.0200) and eval_df['Is_dead'].loc[i] == 'Y':\n",
      "        count_dead_cat9 += 1\n",
      "        cat_df['Num_people_dead'].loc[8] = count_dead_cat9  \n",
      "    if (eval_df['Prediction_Prob'].loc[i] >= 0.0200  and eval_df['Prediction_Prob'].loc[i] < 0.0400) and eval_df['Is_dead'].loc[i] == 'N':\n",
      "       count_alive_cat10 += 1\n",
      "       cat_df['Num_people_alive'].loc[9] = count_alive_cat10\n",
      "    if (eval_df['Prediction_Prob'].loc[i] >= 0.0200  and eval_df['Prediction_Prob'].loc[i] < 0.0400) and eval_df['Is_dead'].loc[i] == 'Y':\n",
      "        count_dead_cat10 += 1\n",
      "        cat_df['Num_people_dead'].loc[9] = count_dead_cat10\n",
      "    if (eval_df['Prediction_Prob'].loc[i] >= 0.0400  and eval_df['Prediction_Prob'].loc[i] < 0.0600) and eval_df['Is_dead'].loc[i] == 'N':\n",
      "       count_alive_cat11 += 1\n",
      "       cat_df['Num_people_alive'].loc[10] = count_alive_cat11\n",
      "    if (eval_df['Prediction_Prob'].loc[i] >= 0.0400  and eval_df['Prediction_Prob'].loc[i] < 0.0600) and eval_df['Is_dead'].loc[i] == 'Y':\n",
      "        count_dead_cat11 += 1\n",
      "        cat_df['Num_people_dead'].loc[10] = count_dead_cat11\n",
      "    if (eval_df['Prediction_Prob'].loc[i] >= 0.0600  and eval_df['Prediction_Prob'].loc[i] < 0.1000) and eval_df['Is_dead'].loc[i] == 'N':\n",
      "       count_alive_cat12 += 1\n",
      "       cat_df['Num_people_alive'].loc[11] = count_alive_cat12\n",
      "    if (eval_df['Prediction_Prob'].loc[i] >= 0.0600  and eval_df['Prediction_Prob'].loc[i] < 0.1000) and eval_df['Is_dead'].loc[i] == 'Y':\n",
      "        count_dead_cat12 += 1\n",
      "        cat_df['Num_people_dead'].loc[11] = count_dead_cat12  \n",
      "    if (eval_df['Prediction_Prob'].loc[i] >= 0.1000  and eval_df['Prediction_Prob'].loc[i] < 0.2000) and eval_df['Is_dead'].loc[i] == 'N':\n",
      "       count_alive_cat13 += 1\n",
      "       cat_df['Num_people_alive'].loc[12] = count_alive_cat13\n",
      "    if (eval_df['Prediction_Prob'].loc[i] >= 0.1000  and eval_df['Prediction_Prob'].loc[i] < 0.2000) and eval_df['Is_dead'].loc[i] == 'Y':\n",
      "        count_dead_cat13 += 1\n",
      "        cat_df['Num_people_dead'].loc[12] = count_dead_cat13\n",
      "    if (eval_df['Prediction_Prob'].loc[i] >= 0.2000  and eval_df['Prediction_Prob'].loc[i] < 0.4000) and eval_df['Is_dead'].loc[i] == 'N':\n",
      "       count_alive_cat14 += 1\n",
      "       cat_df['Num_people_alive'].loc[13] = count_alive_cat14\n",
      "    if (eval_df['Prediction_Prob'].loc[i] >= 0.2000  and eval_df['Prediction_Prob'].loc[i] < 0.4000) and eval_df['Is_dead'].loc[i] == 'Y':\n",
      "        count_dead_cat14 += 1\n",
      "        cat_df['Num_people_dead'].loc[13] = count_dead_cat14  \n",
      "    if (eval_df['Prediction_Prob'].loc[i] >= 0.4000  and eval_df['Prediction_Prob'].loc[i] < 0.6000) and eval_df['Is_dead'].loc[i] == 'N':\n",
      "       count_alive_cat15 += 1\n",
      "       cat_df['Num_people_alive'].loc[14] = count_alive_cat15\n",
      "    if (eval_df['Prediction_Prob'].loc[i] >= 0.4000  and eval_df['Prediction_Prob'].loc[i] < 0.6000) and eval_df['Is_dead'].loc[i] == 'Y':\n",
      "        count_dead_cat15 += 1\n",
      "        cat_df['Num_people_dead'].loc[14] = count_dead_cat15  \n",
      "    if (eval_df['Prediction_Prob'].loc[i] >= 0.6000  and eval_df['Prediction_Prob'].loc[i] < 0.8000) and eval_df['Is_dead'].loc[i] == 'N':\n",
      "       count_alive_cat16 += 1\n",
      "       cat_df['Num_people_alive'].loc[15] = count_alive_cat16\n",
      "    if (eval_df['Prediction_Prob'].loc[i] >= 0.6000  and eval_df['Prediction_Prob'].loc[i] < 0.8000) and eval_df['Is_dead'].loc[i] == 'Y':\n",
      "        count_dead_cat16 += 1\n",
      "        cat_df['Num_people_dead'].loc[15] = count_dead_cat16  \n",
      "    if (eval_df['Prediction_Prob'].loc[i] >= 0.8000  and eval_df['Prediction_Prob'].loc[i] < 1.0000) and eval_df['Is_dead'].loc[i] == 'N':\n",
      "       count_alive_cat17 += 1\n",
      "       cat_df['Num_people_alive'].loc[16] = count_alive_cat17\n",
      "    if (eval_df['Prediction_Prob'].loc[i] >= 0.8000  and eval_df['Prediction_Prob'].loc[i] < 1.0000) and eval_df['Is_dead'].loc[i] == 'Y':\n",
      "        count_dead_cat17 += 1\n",
      "        cat_df['Num_people_dead'].loc[16] = count_dead_cat17  "
     ],
     "language": "python",
     "metadata": {},
     "outputs": [],
     "prompt_number": 19
    },
    {
     "cell_type": "code",
     "collapsed": false,
     "input": [
      "#Bucketing the probabilities based on the ranges above\n",
      "#Df_alive\n",
      "count_alive_cat1 = 0\n",
      "count_alive_cat2 = 0\n",
      "count_alive_cat3 = 0\n",
      "count_alive_cat4 = 0\n",
      "count_alive_cat5 = 0\n",
      "count_alive_cat6 = 0\n",
      "count_alive_cat7 = 0\n",
      "count_alive_cat8 = 0\n",
      "count_alive_cat9 = 0\n",
      "count_alive_cat10 = 0\n",
      "count_alive_cat11 = 0\n",
      "count_alive_cat12 = 0\n",
      "count_alive_cat13 = 0\n",
      "count_alive_cat14 = 0\n",
      "count_alive_cat15 = 0\n",
      "count_alive_cat16 = 0\n",
      "count_alive_cat17 = 0"
     ],
     "language": "python",
     "metadata": {},
     "outputs": [],
     "prompt_number": 20
    },
    {
     "cell_type": "code",
     "collapsed": false,
     "input": [
      "#Df_alive\n",
      "for i in eval_dfa.index:\n",
      "    if eval_dfa['Prediction_Prob'].loc[i] < 0.0002:\n",
      "       count_alive_cat1 += 1\n",
      "       cat_dfa['Num_people_alive'].loc[0] = count_alive_cat1\n",
      "    if (eval_dfa['Prediction_Prob'].loc[i] >= 0.0002  and eval_dfa['Prediction_Prob'].loc[i] < 0.0004):\n",
      "       count_alive_cat2 += 1\n",
      "       cat_dfa['Num_people_alive'].loc[1] = count_alive_cat2\n",
      "    if (eval_dfa['Prediction_Prob'].loc[i] >= 0.0004  and eval_dfa['Prediction_Prob'].loc[i] < 0.0006):\n",
      "       count_alive_cat3 += 1\n",
      "       cat_dfa['Num_people_alive'].loc[2] = count_alive_cat3\n",
      "    if (eval_dfa['Prediction_Prob'].loc[i] >= 0.0002  and eval_dfa['Prediction_Prob'].loc[i] < 0.0004):\n",
      "        count_dead_cat3 += 1\n",
      "        cat_dfa['Num_people_alive'].loc[2] = count_alive_cat3   \n",
      "    if (eval_dfa['Prediction_Prob'].loc[i] >= 0.0006  and eval_dfa['Prediction_Prob'].loc[i] < 0.0010):\n",
      "       count_alive_cat4 += 1\n",
      "       cat_dfa['Num_people_alive'].loc[3] = count_alive_cat4\n",
      "    if (eval_dfa['Prediction_Prob'].loc[i] >= 0.0010  and eval_dfa['Prediction_Prob'].loc[i] < 0.0020):\n",
      "       count_alive_cat5 += 1\n",
      "       cat_dfa['Num_people_alive'].loc[4] = count_alive_cat5\n",
      "    if (eval_dfa['Prediction_Prob'].loc[i] >= 0.0020  and eval_dfa['Prediction_Prob'].loc[i] < 0.0040):\n",
      "       count_alive_cat6 += 1\n",
      "       cat_dfa['Num_people_alive'].loc[5] = count_alive_cat6\n",
      "    if (eval_dfa['Prediction_Prob'].loc[i] >= 0.0040  and eval_dfa['Prediction_Prob'].loc[i] < 0.0060):\n",
      "       count_alive_cat7 += 1\n",
      "       cat_dfa['Num_people_alive'].loc[6] = count_alive_cat7\n",
      "    if (eval_dfa['Prediction_Prob'].loc[i] >= 0.0060  and eval_dfa['Prediction_Prob'].loc[i] < 0.0100):\n",
      "       count_alive_cat8 += 1\n",
      "       cat_dfa['Num_people_alive'].loc[7] = count_alive_cat8\n",
      "    if (eval_dfa['Prediction_Prob'].loc[i] >= 0.0100  and eval_dfa['Prediction_Prob'].loc[i] < 0.0200):\n",
      "       count_alive_cat9 += 1\n",
      "       cat_dfa['Num_people_alive'].loc[8] = count_alive_cat9 \n",
      "    if (eval_dfa['Prediction_Prob'].loc[i] >= 0.0200  and eval_dfa['Prediction_Prob'].loc[i] < 0.0400):\n",
      "       count_alive_cat10 += 1\n",
      "       cat_dfa['Num_people_alive'].loc[9] = count_alive_cat10\n",
      "    if (eval_dfa['Prediction_Prob'].loc[i] >= 0.0400  and eval_dfa['Prediction_Prob'].loc[i] < 0.0600):\n",
      "       count_alive_cat11 += 1\n",
      "       cat_dfa['Num_people_alive'].loc[10] = count_alive_cat11\n",
      "    if (eval_dfa['Prediction_Prob'].loc[i] >= 0.0600  and eval_dfa['Prediction_Prob'].loc[i] < 0.1000):\n",
      "       count_alive_cat12 += 1\n",
      "       cat_dfa['Num_people_alive'].loc[11] = count_alive_cat12\n",
      "    if (eval_dfa['Prediction_Prob'].loc[i] >= 0.1000  and eval_dfa['Prediction_Prob'].loc[i] < 0.2000):\n",
      "       count_alive_cat13 += 1\n",
      "       cat_dfa['Num_people_alive'].loc[12] = count_alive_cat13\n",
      "    if (eval_dfa['Prediction_Prob'].loc[i] >= 0.2000  and eval_dfa['Prediction_Prob'].loc[i] < 0.4000):\n",
      "       count_alive_cat14 += 1\n",
      "       cat_dfa['Num_people_alive'].loc[13] = count_alive_cat14\n",
      "    if (eval_dfa['Prediction_Prob'].loc[i] >= 0.4000  and eval_dfa['Prediction_Prob'].loc[i] < 0.6000):\n",
      "       count_alive_cat15 += 1\n",
      "       cat_dfa['Num_people_alive'].loc[14] = count_alive_cat15\n",
      "    if (eval_dfa['Prediction_Prob'].loc[i] >= 0.6000  and eval_dfa['Prediction_Prob'].loc[i] < 0.8000):\n",
      "       count_alive_cat16 += 1\n",
      "       cat_dfa['Num_people_alive'].loc[15] = count_alive_cat16\n",
      "    if (eval_dfa['Prediction_Prob'].loc[i] >= 0.8000  and eval_dfa['Prediction_Prob'].loc[i] < 1.0000):\n",
      "       count_alive_cat17 += 1\n",
      "       cat_dfa['Num_people_alive'].loc[16] = count_alive_cat17 "
     ],
     "language": "python",
     "metadata": {},
     "outputs": [],
     "prompt_number": 21
    },
    {
     "cell_type": "code",
     "collapsed": false,
     "input": [
      "#Printing the distribution table - Df_dead - Only Dead people\n",
      "cat_df"
     ],
     "language": "python",
     "metadata": {},
     "outputs": [
      {
       "html": [
        "<div style=\"max-height:1000px;max-width:1500px;overflow:auto;\">\n",
        "<table border=\"1\" class=\"dataframe\">\n",
        "  <thead>\n",
        "    <tr style=\"text-align: right;\">\n",
        "      <th></th>\n",
        "      <th>Ranges</th>\n",
        "      <th>Num_people_alive</th>\n",
        "      <th>Num_people_dead</th>\n",
        "    </tr>\n",
        "  </thead>\n",
        "  <tbody>\n",
        "    <tr>\n",
        "      <th>0 </th>\n",
        "      <td>     less than 0.0002</td>\n",
        "      <td> 109</td>\n",
        "      <td> 0</td>\n",
        "    </tr>\n",
        "    <tr>\n",
        "      <th>1 </th>\n",
        "      <td> 0.0002 &lt;= x &lt; 0.0004</td>\n",
        "      <td>  48</td>\n",
        "      <td> 0</td>\n",
        "    </tr>\n",
        "    <tr>\n",
        "      <th>2 </th>\n",
        "      <td> 0.0004 &lt;= x &lt; 0.0006</td>\n",
        "      <td>  78</td>\n",
        "      <td> 0</td>\n",
        "    </tr>\n",
        "    <tr>\n",
        "      <th>3 </th>\n",
        "      <td> 0.0006 &lt;= x &lt; 0.0010</td>\n",
        "      <td>  48</td>\n",
        "      <td> 0</td>\n",
        "    </tr>\n",
        "    <tr>\n",
        "      <th>4 </th>\n",
        "      <td> 0.0010 &lt;= x &lt; 0.0020</td>\n",
        "      <td> 152</td>\n",
        "      <td> 1</td>\n",
        "    </tr>\n",
        "    <tr>\n",
        "      <th>5 </th>\n",
        "      <td> 0.0020 &lt;= x &lt; 0.0040</td>\n",
        "      <td>  90</td>\n",
        "      <td> 0</td>\n",
        "    </tr>\n",
        "    <tr>\n",
        "      <th>6 </th>\n",
        "      <td> 0.0040 &lt;= x &lt; 0.0060</td>\n",
        "      <td>  66</td>\n",
        "      <td> 1</td>\n",
        "    </tr>\n",
        "    <tr>\n",
        "      <th>7 </th>\n",
        "      <td> 0.0060 &lt;= x &lt; 0.0100</td>\n",
        "      <td>  54</td>\n",
        "      <td> 0</td>\n",
        "    </tr>\n",
        "    <tr>\n",
        "      <th>8 </th>\n",
        "      <td> 0.0100 &lt;= x &lt; 0.0200</td>\n",
        "      <td>  59</td>\n",
        "      <td> 1</td>\n",
        "    </tr>\n",
        "    <tr>\n",
        "      <th>9 </th>\n",
        "      <td> 0.0200 &lt;= x &lt; 0.0400</td>\n",
        "      <td>  47</td>\n",
        "      <td> 3</td>\n",
        "    </tr>\n",
        "    <tr>\n",
        "      <th>10</th>\n",
        "      <td> 0.0400 &lt;= x &lt; 0.0600</td>\n",
        "      <td>  20</td>\n",
        "      <td> 0</td>\n",
        "    </tr>\n",
        "    <tr>\n",
        "      <th>11</th>\n",
        "      <td> 0.0600 &lt;= x &lt; 0.1000</td>\n",
        "      <td>  17</td>\n",
        "      <td> 3</td>\n",
        "    </tr>\n",
        "    <tr>\n",
        "      <th>12</th>\n",
        "      <td> 0.1000 &lt;= x &lt; 0.2000</td>\n",
        "      <td>  13</td>\n",
        "      <td> 0</td>\n",
        "    </tr>\n",
        "    <tr>\n",
        "      <th>13</th>\n",
        "      <td> 0.2000 &lt;= x &lt; 0.4000</td>\n",
        "      <td>  11</td>\n",
        "      <td> 2</td>\n",
        "    </tr>\n",
        "    <tr>\n",
        "      <th>14</th>\n",
        "      <td> 0.4000 &lt;= x &lt; 0.6000</td>\n",
        "      <td>   0</td>\n",
        "      <td> 0</td>\n",
        "    </tr>\n",
        "    <tr>\n",
        "      <th>15</th>\n",
        "      <td> 0.6000 &lt;= x &lt; 0.8000</td>\n",
        "      <td>   0</td>\n",
        "      <td> 0</td>\n",
        "    </tr>\n",
        "    <tr>\n",
        "      <th>16</th>\n",
        "      <td> 0.8000 &lt;= x &lt; 1.0000</td>\n",
        "      <td>   0</td>\n",
        "      <td> 0</td>\n",
        "    </tr>\n",
        "  </tbody>\n",
        "</table>\n",
        "</div>"
       ],
       "metadata": {},
       "output_type": "pyout",
       "prompt_number": 22,
       "text": [
        "                  Ranges  Num_people_alive  Num_people_dead\n",
        "0       less than 0.0002               109                0\n",
        "1   0.0002 <= x < 0.0004                48                0\n",
        "2   0.0004 <= x < 0.0006                78                0\n",
        "3   0.0006 <= x < 0.0010                48                0\n",
        "4   0.0010 <= x < 0.0020               152                1\n",
        "5   0.0020 <= x < 0.0040                90                0\n",
        "6   0.0040 <= x < 0.0060                66                1\n",
        "7   0.0060 <= x < 0.0100                54                0\n",
        "8   0.0100 <= x < 0.0200                59                1\n",
        "9   0.0200 <= x < 0.0400                47                3\n",
        "10  0.0400 <= x < 0.0600                20                0\n",
        "11  0.0600 <= x < 0.1000                17                3\n",
        "12  0.1000 <= x < 0.2000                13                0\n",
        "13  0.2000 <= x < 0.4000                11                2\n",
        "14  0.4000 <= x < 0.6000                 0                0\n",
        "15  0.6000 <= x < 0.8000                 0                0\n",
        "16  0.8000 <= x < 1.0000                 0                0"
       ]
      }
     ],
     "prompt_number": 22
    },
    {
     "cell_type": "code",
     "collapsed": false,
     "input": [
      "#Printing the distribution table - Df_alive - Only Alive people\n",
      "cat_dfa"
     ],
     "language": "python",
     "metadata": {},
     "outputs": [
      {
       "html": [
        "<div style=\"max-height:1000px;max-width:1500px;overflow:auto;\">\n",
        "<table border=\"1\" class=\"dataframe\">\n",
        "  <thead>\n",
        "    <tr style=\"text-align: right;\">\n",
        "      <th></th>\n",
        "      <th>Ranges</th>\n",
        "      <th>Num_people_alive</th>\n",
        "      <th>Num_people_dead</th>\n",
        "    </tr>\n",
        "  </thead>\n",
        "  <tbody>\n",
        "    <tr>\n",
        "      <th>0 </th>\n",
        "      <td>     less than 0.0002</td>\n",
        "      <td> 103</td>\n",
        "      <td> 0</td>\n",
        "    </tr>\n",
        "    <tr>\n",
        "      <th>1 </th>\n",
        "      <td> 0.0002 &lt;= x &lt; 0.0004</td>\n",
        "      <td>  39</td>\n",
        "      <td> 0</td>\n",
        "    </tr>\n",
        "    <tr>\n",
        "      <th>2 </th>\n",
        "      <td> 0.0004 &lt;= x &lt; 0.0006</td>\n",
        "      <td>  51</td>\n",
        "      <td> 0</td>\n",
        "    </tr>\n",
        "    <tr>\n",
        "      <th>3 </th>\n",
        "      <td> 0.0006 &lt;= x &lt; 0.0010</td>\n",
        "      <td>  39</td>\n",
        "      <td> 0</td>\n",
        "    </tr>\n",
        "    <tr>\n",
        "      <th>4 </th>\n",
        "      <td> 0.0010 &lt;= x &lt; 0.0020</td>\n",
        "      <td> 189</td>\n",
        "      <td> 0</td>\n",
        "    </tr>\n",
        "    <tr>\n",
        "      <th>5 </th>\n",
        "      <td> 0.0020 &lt;= x &lt; 0.0040</td>\n",
        "      <td>  99</td>\n",
        "      <td> 0</td>\n",
        "    </tr>\n",
        "    <tr>\n",
        "      <th>6 </th>\n",
        "      <td> 0.0040 &lt;= x &lt; 0.0060</td>\n",
        "      <td>  82</td>\n",
        "      <td> 0</td>\n",
        "    </tr>\n",
        "    <tr>\n",
        "      <th>7 </th>\n",
        "      <td> 0.0060 &lt;= x &lt; 0.0100</td>\n",
        "      <td>  66</td>\n",
        "      <td> 0</td>\n",
        "    </tr>\n",
        "    <tr>\n",
        "      <th>8 </th>\n",
        "      <td> 0.0100 &lt;= x &lt; 0.0200</td>\n",
        "      <td>  77</td>\n",
        "      <td> 0</td>\n",
        "    </tr>\n",
        "    <tr>\n",
        "      <th>9 </th>\n",
        "      <td> 0.0200 &lt;= x &lt; 0.0400</td>\n",
        "      <td>  86</td>\n",
        "      <td> 0</td>\n",
        "    </tr>\n",
        "    <tr>\n",
        "      <th>10</th>\n",
        "      <td> 0.0400 &lt;= x &lt; 0.0600</td>\n",
        "      <td>  44</td>\n",
        "      <td> 0</td>\n",
        "    </tr>\n",
        "    <tr>\n",
        "      <th>11</th>\n",
        "      <td> 0.0600 &lt;= x &lt; 0.1000</td>\n",
        "      <td>  55</td>\n",
        "      <td> 0</td>\n",
        "    </tr>\n",
        "    <tr>\n",
        "      <th>12</th>\n",
        "      <td> 0.1000 &lt;= x &lt; 0.2000</td>\n",
        "      <td>  75</td>\n",
        "      <td> 0</td>\n",
        "    </tr>\n",
        "    <tr>\n",
        "      <th>13</th>\n",
        "      <td> 0.2000 &lt;= x &lt; 0.4000</td>\n",
        "      <td> 110</td>\n",
        "      <td> 0</td>\n",
        "    </tr>\n",
        "    <tr>\n",
        "      <th>14</th>\n",
        "      <td> 0.4000 &lt;= x &lt; 0.6000</td>\n",
        "      <td>  86</td>\n",
        "      <td> 0</td>\n",
        "    </tr>\n",
        "    <tr>\n",
        "      <th>15</th>\n",
        "      <td> 0.6000 &lt;= x &lt; 0.8000</td>\n",
        "      <td>  64</td>\n",
        "      <td> 0</td>\n",
        "    </tr>\n",
        "    <tr>\n",
        "      <th>16</th>\n",
        "      <td> 0.8000 &lt;= x &lt; 1.0000</td>\n",
        "      <td>  55</td>\n",
        "      <td> 0</td>\n",
        "    </tr>\n",
        "  </tbody>\n",
        "</table>\n",
        "</div>"
       ],
       "metadata": {},
       "output_type": "pyout",
       "prompt_number": 23,
       "text": [
        "                  Ranges  Num_people_alive  Num_people_dead\n",
        "0       less than 0.0002               103                0\n",
        "1   0.0002 <= x < 0.0004                39                0\n",
        "2   0.0004 <= x < 0.0006                51                0\n",
        "3   0.0006 <= x < 0.0010                39                0\n",
        "4   0.0010 <= x < 0.0020               189                0\n",
        "5   0.0020 <= x < 0.0040                99                0\n",
        "6   0.0040 <= x < 0.0060                82                0\n",
        "7   0.0060 <= x < 0.0100                66                0\n",
        "8   0.0100 <= x < 0.0200                77                0\n",
        "9   0.0200 <= x < 0.0400                86                0\n",
        "10  0.0400 <= x < 0.0600                44                0\n",
        "11  0.0600 <= x < 0.1000                55                0\n",
        "12  0.1000 <= x < 0.2000                75                0\n",
        "13  0.2000 <= x < 0.4000               110                0\n",
        "14  0.4000 <= x < 0.6000                86                0\n",
        "15  0.6000 <= x < 0.8000                64                0\n",
        "16  0.8000 <= x < 1.0000                55                0"
       ]
      }
     ],
     "prompt_number": 23
    },
    {
     "cell_type": "code",
     "collapsed": false,
     "input": [],
     "language": "python",
     "metadata": {},
     "outputs": [],
     "prompt_number": 23
    }
   ],
   "metadata": {}
  }
 ]
}