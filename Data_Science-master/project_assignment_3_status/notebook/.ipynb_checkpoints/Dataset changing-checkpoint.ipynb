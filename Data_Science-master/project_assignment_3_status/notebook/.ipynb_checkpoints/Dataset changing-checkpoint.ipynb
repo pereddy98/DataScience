{
 "metadata": {
  "name": "",
  "signature": "sha256:18136b776cbe70c903d7fa5beff9f836bb5bd90a8594597d8fdf57371daf45bc"
 },
 "nbformat": 3,
 "nbformat_minor": 0,
 "worksheets": [
  {
   "cells": [
    {
     "cell_type": "code",
     "collapsed": false,
     "input": [
      "%matplotlib inline\n",
      "import pandas as pd\n",
      "from pandas import Series, DataFrame\n",
      "import numpy as np\n",
      "import pylab as pl\n",
      "import numpy as np\n",
      "from sklearn import datasets, linear_model\n",
      "import matplotlib.pyplot as plt\n",
      "import statsmodels.api as sm\n",
      "def stats(y_true,y_pred):\n",
      "    \n",
      "    from sklearn.metrics import mean_absolute_error,mean_squared_error,r2_score\n",
      "    print \"-----------EVALUATION STATISTICS------------\"\n",
      "    print 'Mean absolute Error : ', mean_absolute_error(test_Y.values, y_pred)\n",
      "    print 'Mean squared Error : ', mean_squared_error(y_true, y_pred)\n",
      "    print 'R2 score : ', r2_score(y_true, y_pred)\n",
      "#actual data to amke predictions on\n",
      "df_real_32_data = pd.read_csv('../data/celebrities_32_final.csv', error_bad_lines=False)\n",
      "df_real_32_data['LifeExpnAge'] = df_real_32_data['LifeExpectancy']+df_real_32_data['Age']\n",
      "df_real_32_data_X = df_real_32_data[['DOB','LifeExpnAge','gender','nationality_no', 'Politician', 'Diplomat', 'Evangelist', 'Business magnate', 'Astronaut', 'Musician','Physicist','Actor','Guitarist','Singer','Pianist']]\n"
     ],
     "language": "python",
     "metadata": {},
     "outputs": [],
     "prompt_number": 2
    },
    {
     "cell_type": "code",
     "collapsed": false,
     "input": [
      "df_data2 = pd.read_csv('../data/../data/finaldata_profession_corrected_dob.csv', error_bad_lines=False, delimiter='~')\n",
      "df_data2 = df_data2[df_data2.DOB1 > 1870]\n",
      "df_data2 = df_data2[df_data2.Age > 35]\n",
      "df_data2 = df_data2[df_data2.Age < 120]\n",
      "df_data = pd.read_csv('../data/freebasedata_profession.csv', error_bad_lines=False, delimiter='~')\n",
      "df_data2['LifeExpnAge'] = df_data2['LifeExpectancy']+df_data2['Age']\n",
      "df_male=pd.read_csv('../data/male_lifeexp.csv', error_bad_lines=False)\n",
      "df_female=pd.read_csv('../data/female_lifeexp.csv', error_bad_lines=False)"
     ],
     "language": "python",
     "metadata": {},
     "outputs": [],
     "prompt_number": 3
    },
    {
     "cell_type": "code",
     "collapsed": false,
     "input": [
      "df_data2.shape"
     ],
     "language": "python",
     "metadata": {},
     "outputs": [
      {
       "metadata": {},
       "output_type": "pyout",
       "prompt_number": 4,
       "text": [
        "(93312, 78)"
       ]
      }
     ],
     "prompt_number": 4
    },
    {
     "cell_type": "code",
     "collapsed": false,
     "input": [
      "df_data2['curr_year'] = None\n",
      "df_data2['curr_age'] = None\n",
      "df_data2['remaining_years'] = None\n",
      "df_data2['life_expectancy_rem'] = None\n",
      "df_male=pd.read_csv('../data/male_lifeexp.csv', error_bad_lines=False)\n",
      "df_female=pd.read_csv('../data/female_lifeexp.csv', error_bad_lines=False)\n",
      "years = [1915,1940,1965,1990]\n",
      "df_temp = DataFrame(columns=df_data2.columns)\n",
      "'''for i in df_data2.index:\n",
      "    for y in years:\n",
      "        if ((df_data2.ix[i,'DOB1'] < y) & (df_data2.ix[i,'DOD1'] > y)):\n",
      "            print df_data2.ix\n",
      "            #df_temp.append(df_data2.loc[i])\n",
      "            #df_temp.ix[df_temp.index, 'curr year'] = y'''\n",
      "def newdata(row,y):\n",
      "    if ((row['DOB1'] < y) & (row['DOD1'] > y)):\n",
      "        row['curr_year'] = y\n",
      "        row['curr_age'] = y - row['DOB1']\n",
      "        row['remaining_years'] = row['DOD1'] - y\n",
      "        # male =0, female = 1\n",
      "        if(row['gender'] == 0):\n",
      "            row['life_expectancy_rem'] = df_male['lifeexpectancy'].loc[row['curr_age']]\n",
      "        else:\n",
      "            row['life_expectancy_rem'] = df_female['lifeexpectancy'].loc[row['curr_age']]\n",
      "    return row\n",
      "for y in years:    \n",
      "    df_temp = df_temp.append(df_data2.apply(newdata,axis=1,args=(y,)))     "
     ],
     "language": "python",
     "metadata": {},
     "outputs": [],
     "prompt_number": 17
    },
    {
     "cell_type": "code",
     "collapsed": false,
     "input": [
      "print 93312*4\n",
      "df_temp.shape\n",
      "df_temp = df_temp[np.isfinite(df_temp['curr_year'])]\n",
      "df_temp.shape"
     ],
     "language": "python",
     "metadata": {},
     "outputs": [
      {
       "output_type": "stream",
       "stream": "stdout",
       "text": [
        "373248\n"
       ]
      },
      {
       "metadata": {},
       "output_type": "pyout",
       "prompt_number": 21,
       "text": [
        "(244424, 82)"
       ]
      }
     ],
     "prompt_number": 21
    },
    {
     "cell_type": "code",
     "collapsed": false,
     "input": [
      "df_temp.to_csv('../data/dataset_predict_remaining_years.csv')"
     ],
     "language": "python",
     "metadata": {},
     "outputs": [],
     "prompt_number": 23
    },
    {
     "cell_type": "code",
     "collapsed": false,
     "input": [
      "df_temp.columns"
     ],
     "language": "python",
     "metadata": {},
     "outputs": [
      {
       "metadata": {},
       "output_type": "pyout",
       "prompt_number": 24,
       "text": [
        "Index([u'Unnamed: 0', u'Unnamed: 0.1', u'Unnamed: 0.1', u'Name', u'/people/cause_of_death/parent_cause_of_death', u'/people/cause_of_death/includes_causes_of_death', u'/people/cause_of_death/people', u'DOD', u'/people/deceased_person/place_of_death', u'/people/deceased_person/cause_of_death', u'/people/deceased_person/date_of_cremation', u'/people/deceased_person/place_of_cremation', u'/people/deceased_person/date_of_burial', u'/people/deceased_person/place_of_burial', u'/people/ethnicity/included_in_group', u'/people/ethnicity/includes_groups', u'/people/ethnicity/geographic_distribution', u'/people/ethnicity/languages_spoken', u'/people/ethnicity/population', u'/people/ethnicity/people', u'/people/family_name/people_with_this_family_name', u'/people/group/member', u'/people/measured_person/measurements', u'/people/measured_person/sizes', u'DOB', u'/people/person/place_of_birth', u'/people/person/nationality', u'/people/person/gender', u'/people/person/profession', u'/people/person/religion', u'/people/person/ethnicity', u'/people/person/parents', u'/people/person/children', u'/people/person/sibling_s', u'/people/person/spouse_s', u'/people/person/employment_history', u'/people/person/education', u'/people/person/metaweb_user_s', u'/people/person/signature', u'/people/person/height_meters', u'/people/person/weight_kg', u'/people/person/quotations', u'/people/person/places_lived', u'/people/person/quotationsbook_id', u'/people/person/age', u'/people/person/tvrage_id', u'/people/person/notable_professions', u'/people/person/languages', u'/people/person/group', u'/people/professional_field/professions_in_this_field', u'/people/profession/people_with_this_profession', u'/people/profession/specialization_of', u'/people/profession/specializations', u'/people/profession/part_of_professional_field', u'Unnamed: 51', u'LifeExpectancy', u'Age', u'Probability', u'profession', u'gender', u'nationality', u'nationality_no', u'Politician', u'Pope-elect', u'Diplomat', u'Evangelist', u'Business magnate', u'Astronaut', u'Musician', u'Physicist', u'Actress', u'Actor', u'Guitarist', u'Singer', u'Pianist', u'DOB1', u'DOD1', u'LifeExpnAge', u'curr_year', u'curr_age', u'remaining_years', u'life_expectancy_rem'], dtype='object')"
       ]
      }
     ],
     "prompt_number": 24
    },
    {
     "cell_type": "code",
     "collapsed": false,
     "input": [
      "df_data2.columns"
     ],
     "language": "python",
     "metadata": {},
     "outputs": [
      {
       "metadata": {},
       "output_type": "pyout",
       "prompt_number": 25,
       "text": [
        "Index([u'Unnamed: 0', u'Unnamed: 0.1', u'Unnamed: 0.1', u'Name', u'/people/cause_of_death/parent_cause_of_death', u'/people/cause_of_death/includes_causes_of_death', u'/people/cause_of_death/people', u'DOD', u'/people/deceased_person/place_of_death', u'/people/deceased_person/cause_of_death', u'/people/deceased_person/date_of_cremation', u'/people/deceased_person/place_of_cremation', u'/people/deceased_person/date_of_burial', u'/people/deceased_person/place_of_burial', u'/people/ethnicity/included_in_group', u'/people/ethnicity/includes_groups', u'/people/ethnicity/geographic_distribution', u'/people/ethnicity/languages_spoken', u'/people/ethnicity/population', u'/people/ethnicity/people', u'/people/family_name/people_with_this_family_name', u'/people/group/member', u'/people/measured_person/measurements', u'/people/measured_person/sizes', u'DOB', u'/people/person/place_of_birth', u'/people/person/nationality', u'/people/person/gender', u'/people/person/profession', u'/people/person/religion', u'/people/person/ethnicity', u'/people/person/parents', u'/people/person/children', u'/people/person/sibling_s', u'/people/person/spouse_s', u'/people/person/employment_history', u'/people/person/education', u'/people/person/metaweb_user_s', u'/people/person/signature', u'/people/person/height_meters', u'/people/person/weight_kg', u'/people/person/quotations', u'/people/person/places_lived', u'/people/person/quotationsbook_id', u'/people/person/age', u'/people/person/tvrage_id', u'/people/person/notable_professions', u'/people/person/languages', u'/people/person/group', u'/people/professional_field/professions_in_this_field', u'/people/profession/people_with_this_profession', u'/people/profession/specialization_of', u'/people/profession/specializations', u'/people/profession/part_of_professional_field', u'Unnamed: 51', u'LifeExpectancy', u'Age', u'Probability', u'profession', u'gender', u'nationality', u'nationality_no', u'Politician', u'Pope-elect', u'Diplomat', u'Evangelist', u'Business magnate', u'Astronaut', u'Musician', u'Physicist', u'Actress', u'Actor', u'Guitarist', u'Singer', u'Pianist', u'DOB1', u'DOD1', u'LifeExpnAge', u'curr_year', u'curr_age', u'remaining_years', u'life_expectancy_rem'], dtype='object')"
       ]
      }
     ],
     "prompt_number": 25
    },
    {
     "cell_type": "code",
     "collapsed": false,
     "input": [],
     "language": "python",
     "metadata": {},
     "outputs": []
    }
   ],
   "metadata": {}
  }
 ]
}