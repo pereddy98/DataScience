{
 "metadata": {
  "name": "",
  "signature": "sha256:b2c0ba210b695913679c992ad11f7b2518247180a1cc6dd48fb0652ce0edd626"
 },
 "nbformat": 3,
 "nbformat_minor": 0,
 "worksheets": [
  {
   "cells": [
    {
     "cell_type": "code",
     "collapsed": false,
     "input": [
      "%matplotlib inline\n",
      "import pandas as pd\n",
      "from pandas import Series, DataFrame\n",
      "import numpy as np\n",
      "import pylab as pl\n",
      "import numpy as np\n",
      "from sklearn import datasets, linear_model\n",
      "import matplotlib.pyplot as plt\n",
      "import statsmodels.api as sm\n",
      "def stats(y_true,y_pred):\n",
      "    \n",
      "    from sklearn.metrics import mean_absolute_error,mean_squared_error,r2_score\n",
      "    print \"-----------EVALUATION STATISTICS------------\"\n",
      "    print 'Mean absolute Error : ', mean_absolute_error(test_Y.values, y_pred)\n",
      "    print 'Mean squared Error : ', mean_squared_error(y_true, y_pred)\n",
      "    print 'R2 score : ', r2_score(y_true, y_pred)\n",
      "#actual data to amke predictions on\n",
      "df_real_32_data = pd.read_csv('../data/celebrities_32_final.csv', error_bad_lines=False)\n",
      "df_real_32_data['LifeExpnAge'] = df_real_32_data['LifeExpectancy']+df_real_32_data['Age']\n",
      "df_real_32_data_X = df_real_32_data[['DOB','LifeExpnAge','gender','nationality_no', 'Politician', 'Diplomat', 'Evangelist', 'Business magnate', 'Astronaut', 'Musician','Physicist','Actor','Guitarist','Singer','Pianist']]\n"
     ],
     "language": "python",
     "metadata": {},
     "outputs": [
      {
       "ename": "ImportError",
       "evalue": "No module named statsmodels.api",
       "output_type": "pyerr",
       "traceback": [
        "\u001b[1;31m---------------------------------------------------------------------------\u001b[0m\n\u001b[1;31mImportError\u001b[0m                               Traceback (most recent call last)",
        "\u001b[1;32m<ipython-input-4-6c9b24315015>\u001b[0m in \u001b[0;36m<module>\u001b[1;34m()\u001b[0m\n\u001b[0;32m      7\u001b[0m \u001b[1;32mfrom\u001b[0m \u001b[0msklearn\u001b[0m \u001b[1;32mimport\u001b[0m \u001b[0mdatasets\u001b[0m\u001b[1;33m,\u001b[0m \u001b[0mlinear_model\u001b[0m\u001b[1;33m\u001b[0m\u001b[0m\n\u001b[0;32m      8\u001b[0m \u001b[1;32mimport\u001b[0m \u001b[0mmatplotlib\u001b[0m\u001b[1;33m.\u001b[0m\u001b[0mpyplot\u001b[0m \u001b[1;32mas\u001b[0m \u001b[0mplt\u001b[0m\u001b[1;33m\u001b[0m\u001b[0m\n\u001b[1;32m----> 9\u001b[1;33m \u001b[1;32mimport\u001b[0m \u001b[0mstatsmodels\u001b[0m\u001b[1;33m.\u001b[0m\u001b[0mapi\u001b[0m \u001b[1;32mas\u001b[0m \u001b[0msm\u001b[0m\u001b[1;33m\u001b[0m\u001b[0m\n\u001b[0m\u001b[0;32m     10\u001b[0m \u001b[1;32mdef\u001b[0m \u001b[0mstats\u001b[0m\u001b[1;33m(\u001b[0m\u001b[0my_true\u001b[0m\u001b[1;33m,\u001b[0m\u001b[0my_pred\u001b[0m\u001b[1;33m)\u001b[0m\u001b[1;33m:\u001b[0m\u001b[1;33m\u001b[0m\u001b[0m\n\u001b[0;32m     11\u001b[0m \u001b[1;33m\u001b[0m\u001b[0m\n",
        "\u001b[1;31mImportError\u001b[0m: No module named statsmodels.api"
       ]
      }
     ],
     "prompt_number": 4
    },
    {
     "cell_type": "code",
     "collapsed": false,
     "input": [
      "df_data2 = pd.read_csv('../data/../data/finaldata_profession_corrected_dob.csv', error_bad_lines=False, delimiter='~')\n",
      "df_data2 = df_data2[df_data2.DOB1 > 1870]\n",
      "df_data2 = df_data2[df_data2.Age > 35]\n",
      "df_data2 = df_data2[df_data2.Age < 120]\n",
      "df_data = pd.read_csv('../data/freebasedata_profession.csv', error_bad_lines=False, delimiter='~')\n",
      "df_data2['LifeExpnAge'] = df_data2['LifeExpectancy']+df_data2['Age']\n",
      "df_male=pd.read_csv('../data/male_lifeexp.csv', error_bad_lines=False)\n",
      "df_female=pd.read_csv('../data/female_lifeexp.csv', error_bad_lines=False)"
     ],
     "language": "python",
     "metadata": {},
     "outputs": []
    },
    {
     "cell_type": "code",
     "collapsed": false,
     "input": [
      "df_data2.shape"
     ],
     "language": "python",
     "metadata": {},
     "outputs": []
    },
    {
     "cell_type": "code",
     "collapsed": false,
     "input": [
      "df_data2['curr_year'] = None\n",
      "df_data2['curr_age'] = None\n",
      "df_data2['remaining_years'] = None\n",
      "df_data2['life_expectancy_rem'] = None\n",
      "df_male=pd.read_csv('../data/male_lifeexp.csv', error_bad_lines=False)\n",
      "df_female=pd.read_csv('../data/female_lifeexp.csv', error_bad_lines=False)\n",
      "years = [1915,1940,1965,1990]\n",
      "df_temp = DataFrame(columns=df_data2.columns)\n",
      "'''for i in df_data2.index:\n",
      "    for y in years:\n",
      "        if ((df_data2.ix[i,'DOB1'] < y) & (df_data2.ix[i,'DOD1'] > y)):\n",
      "            print df_data2.ix\n",
      "            #df_temp.append(df_data2.loc[i])\n",
      "            #df_temp.ix[df_temp.index, 'curr year'] = y'''\n",
      "def newdata(row,y):\n",
      "    if ((row['DOB1'] < y) & (row['DOD1'] > y)):\n",
      "        row['curr_year'] = y\n",
      "        row['curr_age'] = y - row['DOB1']\n",
      "        row['remaining_years'] = row['DOD1'] - y\n",
      "        # male =0, female = 1\n",
      "        if(row['gender'] == 0):\n",
      "            row['life_expectancy_rem'] = df_male['lifeexpectancy'].loc[row['curr_age']]\n",
      "        else:\n",
      "            row['life_expectancy_rem'] = df_female['lifeexpectancy'].loc[row['curr_age']]\n",
      "    return row\n",
      "for y in years:    \n",
      "    df_temp = df_temp.append(df_data2.apply(newdata,axis=1,args=(y,)))     "
     ],
     "language": "python",
     "metadata": {},
     "outputs": []
    },
    {
     "cell_type": "code",
     "collapsed": false,
     "input": [
      "print 93312*4\n",
      "df_temp.shape\n",
      "df_temp = df_temp[np.isfinite(df_temp['curr_year'])]\n",
      "df_temp.shape"
     ],
     "language": "python",
     "metadata": {},
     "outputs": []
    },
    {
     "cell_type": "code",
     "collapsed": false,
     "input": [
      "df_temp.to_csv('../data/dataset_predict_remaining_years.csv')"
     ],
     "language": "python",
     "metadata": {},
     "outputs": []
    },
    {
     "cell_type": "code",
     "collapsed": false,
     "input": [
      "df_temp.columns"
     ],
     "language": "python",
     "metadata": {},
     "outputs": []
    },
    {
     "cell_type": "code",
     "collapsed": false,
     "input": [
      "df_data2.columns"
     ],
     "language": "python",
     "metadata": {},
     "outputs": []
    },
    {
     "cell_type": "code",
     "collapsed": false,
     "input": [],
     "language": "python",
     "metadata": {},
     "outputs": []
    }
   ],
   "metadata": {}
  }
 ]
}