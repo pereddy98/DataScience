{
 "metadata": {
  "name": "",
  "signature": "sha256:793d00220adf9ab8cf83149cae5315ef145ecf11717451116b7e77176f7eca8f"
 },
 "nbformat": 3,
 "nbformat_minor": 0,
 "worksheets": [
  {
   "cells": [
    {
     "cell_type": "code",
     "collapsed": false,
     "input": [
      "import pandas as pd\n",
      "from pandas import Series, DataFrame\n",
      "import numpy as np\n",
      "import datetime"
     ],
     "language": "python",
     "metadata": {},
     "outputs": [],
     "prompt_number": 1
    },
    {
     "cell_type": "code",
     "collapsed": false,
     "input": [
      "#List of dead and alive people\n",
      "dead = pd.read_csv('../data/evaluation_data_dead.csv')\n",
      "alive = pd.read_csv('../data/evaluation_data_alive.csv')\n",
      "\n",
      "#Probabilities of death based on gender\n",
      "female_prob = pd.read_csv('../data/Period_Life_Table_Female_2010.csv')\n",
      "male_prob = pd.read_csv('../data/Period_Life_Table_Male_2010.csv')"
     ],
     "language": "python",
     "metadata": {},
     "outputs": [],
     "prompt_number": 2
    },
    {
     "cell_type": "code",
     "collapsed": false,
     "input": [
      "df_dead = pd.DataFrame(dead)\n",
      "df_alive = pd.DataFrame(alive)\n",
      "\n",
      "#Death Probability dataframes\n",
      "df_male_prob = pd.DataFrame(male_prob)\n",
      "df_female_prob = pd.DataFrame(female_prob)\n",
      "\n",
      "#Renaming columns\n",
      "df_male_prob.columns = ['Age', 'Death Prob']\n",
      "df_female_prob.columns = ['Age', 'Death Prob']"
     ],
     "language": "python",
     "metadata": {},
     "outputs": [],
     "prompt_number": 3
    },
    {
     "cell_type": "code",
     "collapsed": false,
     "input": [
      "#Df_dead\n",
      "df_remove_time = df_dead['Birth Date'].str.split()\n",
      "df_dead['Birth Date'] = df_remove_time.str[0]\n",
      "\n",
      "#Df_alive\n",
      "df_rem_time = df_alive['Birth Date'].str.split()\n",
      "df_alive['Birth Date'] = df_rem_time.str[0]\n",
      "\n",
      "#Formatted the date for year of birth\n",
      "df_dead['Birth Date'] = pd.to_datetime(df_dead['Birth Date'], coerce=True)\n",
      "df_alive['Birth Date'] = pd.to_datetime(df_alive['Birth Date'], coerce=True)"
     ],
     "language": "python",
     "metadata": {},
     "outputs": [],
     "prompt_number": 4
    },
    {
     "cell_type": "code",
     "collapsed": false,
     "input": [
      "#Formatted the date for year of death\n",
      "df_dead['Death Date'] = pd.to_datetime(df_dead['Death Date'], coerce=True)"
     ],
     "language": "python",
     "metadata": {},
     "outputs": [],
     "prompt_number": 5
    },
    {
     "cell_type": "code",
     "collapsed": false,
     "input": [
      "#If the gender is None, removed the records - Df_dead\n",
      "removed_gender_None = df_dead['Gender'].isin(['None'])\n",
      "df_dead = df_dead[~removed_gender_None]\n",
      "\n",
      "#If the gender is None, removed the records - Df_alive\n",
      "rem_gender_None = df_alive['Gender'].isin(['None'])\n",
      "df_alive = df_alive[~rem_gender_None]"
     ],
     "language": "python",
     "metadata": {},
     "outputs": [],
     "prompt_number": 6
    },
    {
     "cell_type": "code",
     "collapsed": false,
     "input": [
      "#Getting only the birth and death years to calculate the age - Df_dead\n",
      "df_dead_new = df_dead['Birth Date'].str.split('-')\n",
      "df_dead['Birth Year'] = pd.DatetimeIndex(df_dead['Birth Date']).year\n",
      "df_dead['Death Year'] = pd.DatetimeIndex(df_dead['Death Date']).year\n",
      "\n",
      "#Getting only the birth and death years to calculate the age - Df_alive\n",
      "df_alive_new = df_alive['Birth Date'].str.split('-')\n",
      "df_alive['Birth Year'] = pd.DatetimeIndex(df_alive['Birth Date']).year"
     ],
     "language": "python",
     "metadata": {},
     "outputs": [],
     "prompt_number": 7
    },
    {
     "cell_type": "code",
     "collapsed": false,
     "input": [
      "#To include only those people born after 1900 - Df_dead\n",
      "df_dead_filtered_birth_year = df_dead['Birth Year'] < 1900\n",
      "df_dead = df_dead[~df_dead_filtered_birth_year]\n",
      "\n",
      "#To include only those people dead after 1900\n",
      "df_dead_filtered_death_year = df_dead['Death Year'] < 1900\n",
      "df_dead = df_dead[~df_dead_filtered_death_year]\n",
      "\n",
      "#To include only those people born after 1900 - Df_alive\n",
      "df_alive_filtered_birth_year = df_alive['Birth Year'] < 1900\n",
      "df_alive = df_alive[~df_alive_filtered_birth_year]"
     ],
     "language": "python",
     "metadata": {},
     "outputs": [],
     "prompt_number": 8
    },
    {
     "cell_type": "code",
     "collapsed": false,
     "input": [
      "#Df_dead\n",
      "df_dead['Age'] = df_dead['Death Year'] - df_dead['Birth Year']\n",
      "\n",
      "#Df_alive\n",
      "df_alive['Age'] = 2014 - df_alive['Birth Year']\n",
      "\n",
      "#Removing people with age = 0 since the Birth Date and Death Date is the same\n",
      "df_dead_age_zero = df_dead['Age'] == 0\n",
      "df_dead = df_dead[~df_dead_age_zero]\n",
      "\n",
      "#Reindexing the df_dead \n",
      "df_dead = df_dead.reset_index(drop=True)\n",
      "\n",
      "#Reindexing the df_alive\n",
      "df_alive = df_alive.reset_index(drop=True)\n",
      "\n",
      "#*****************************************************************************************#\n",
      "#Test data - 11 records - Df_dead\n",
      "test_data_dead = df_dead.loc[:4,]\n",
      "\n",
      "#Test data - Df_alive\n",
      "test_data_alive = df_alive.loc[:5000,]\n",
      "#*****************************************************************************************#"
     ],
     "language": "python",
     "metadata": {},
     "outputs": [],
     "prompt_number": 19
    },
    {
     "cell_type": "code",
     "collapsed": false,
     "input": [
      "#To create a new DataFrame - For dead people\n",
      "columns = ['Name', 'Gender', 'Age', 'Prediction_Prob', 'Is_dead']\n",
      "eval_df = pd.DataFrame(columns=columns) \n",
      "\n",
      "#To create a new DataFrame - For alive people\n",
      "eval_dfa = pd.DataFrame(columns=columns) "
     ],
     "language": "python",
     "metadata": {},
     "outputs": [],
     "prompt_number": 10
    },
    {
     "cell_type": "code",
     "collapsed": false,
     "input": [
      "# i is the index\n",
      "i = 0\n",
      "\n",
      "#Iterating through the transpose of the test data - Df_dead\n",
      "for val, row in test_data_dead.T.iteritems():\n",
      "    age_count = 0\n",
      "    while age_count <= row['Age']:\n",
      "        name = row['Name']\n",
      "        gender = row['Gender']\n",
      "        age = age_count\n",
      "        pred_prob = 0\n",
      "        if age_count < row['Age']:\n",
      "            is_dead = 'N'\n",
      "        else:\n",
      "            is_dead = 'Y'\n",
      "        age_count += 1\n",
      "        data = np.array([name, gender, age, pred_prob, is_dead])\n",
      "        eval_df.loc[i] = data\n",
      "        i += 1\n",
      "\n",
      "#To convert Age from object to int type\n",
      "eval_df['Age'] = eval_df['Age'].astype(int)"
     ],
     "language": "python",
     "metadata": {},
     "outputs": [],
     "prompt_number": 254
    },
    {
     "cell_type": "code",
     "collapsed": false,
     "input": [
      "# j is the index\n",
      "j = 0\n",
      "\n",
      "#Iterating through the transpose of the test data - Df_alive\n",
      "for val, row in test_data_alive.T.iteritems():\n",
      "    age_count = 0\n",
      "    while age_count <= row['Age']:\n",
      "        name = row['Name']\n",
      "        gender = row['Gender']\n",
      "        age = age_count\n",
      "        if gender == 'Male' :\n",
      "            eval_dfa['Prediction_Prob'].loc[j] = df_male_prob['Death Prob'].loc[age]\n",
      "        else:\n",
      "            eval_dfa['Prediction_Prob'].loc[j] = df_female_prob['Death Prob'].loc[age]\n",
      "        is_dead = 'N'\n",
      "        age_count += 1\n",
      "        data = np.array([name, gender, age, pred_prob, is_dead])\n",
      "        eval_dfa.loc[j] = data\n",
      "        j += 1\n",
      "\n",
      "#To convert Age from object to int type\n",
      "eval_dfa['Age'] = eval_dfa['Age'].astype(int)"
     ],
     "language": "python",
     "metadata": {},
     "outputs": [],
     "prompt_number": 20
    },
    {
     "cell_type": "code",
     "collapsed": false,
     "input": [
      "#Assigning death probabilities for each age of the person - Df_dead\n",
      "for i in eval_df.index:\n",
      "    if eval_df['Gender'].loc[i] == 'Male' :\n",
      "        eval_df['Prediction_Prob'].loc[i] = df_male_prob['Death Prob'].loc[eval_df['Age'].loc[i]]\n",
      "    else:\n",
      "        eval_df['Prediction_Prob'].loc[i] = df_female_prob['Death Prob'].loc[eval_df['Age'].loc[i]]\n",
      "        \n",
      "#To convert Prediction Probability from object to float type\n",
      "eval_df['Prediction_Prob'] = eval_df['Prediction_Prob'].astype(float)\n",
      "eval_df = eval_df.sort(['Prediction_Prob', 'Is_dead'])"
     ],
     "language": "python",
     "metadata": {},
     "outputs": [],
     "prompt_number": 256
    },
    {
     "cell_type": "code",
     "collapsed": false,
     "input": [
      "# #Assigning death probabilities for each age of the person - Df_alive\n",
      "# for i in eval_dfa.index:\n",
      "#     if eval_dfa['Gender'].loc[i] == 'Male' :\n",
      "#         eval_dfa['Prediction_Prob'].loc[i] = df_male_prob['Death Prob'].loc[eval_dfa['Age'].loc[i]]\n",
      "#     else:\n",
      "#         eval_dfa['Prediction_Prob'].loc[i] = df_female_prob['Death Prob'].loc[eval_dfa['Age'].loc[i]]\n",
      "        \n",
      "#To convert Prediction Probability from object to float type\n",
      "eval_dfa['Prediction_Prob'] = eval_dfa['Prediction_Prob'].astype(float)\n",
      "eval_df = eval_df.sort(['Prediction_Prob', 'Is_dead'])"
     ],
     "language": "python",
     "metadata": {},
     "outputs": [],
     "prompt_number": 21
    },
    {
     "cell_type": "code",
     "collapsed": false,
     "input": [
      "#Probability categories\n",
      "cat1 = 'less than 0.0002'\n",
      "cat2 = '0.0002 <= x < 0.0004'\n",
      "cat3 = '0.0004 <= x < 0.0006'\n",
      "cat4 = '0.0006 <= x < 0.0010'\n",
      "cat5 = '0.0010 <= x < 0.0020'\n",
      "cat6 = '0.0020 <= x < 0.0040'\n",
      "cat7 = '0.0040 <= x < 0.0060'\n",
      "cat8 = '0.0060 <= x < 0.0100'\n",
      "cat9 = '0.0100 <= x < 0.0200'\n",
      "cat10 = '0.0200 <= x < 0.0400'\n",
      "cat11 = '0.0400 <= x < 0.0600'\n",
      "cat12 = '0.0600 <= x < 0.1000'\n",
      "cat13 = '0.1000 <= x < 0.2000'\n",
      "cat14 = '0.2000 <= x < 0.4000'\n",
      "cat15 = '0.4000 <= x < 0.6000'\n",
      "cat16 = '0.6000 <= x < 0.8000'\n",
      "cat17 = '0.8000 <= x < 1.0000'\n",
      "\n",
      "#Df_dead\n",
      "#Creating a dataframe to keep track of the count of people whose death probabilities is in the above range\n",
      "col = ['Ranges', 'Num_people_alive', 'Num_people_dead']\n",
      "cat_df = pd.DataFrame(columns=col)\n",
      "cat_df['Ranges'] = pd.Series([cat1,cat2,cat3,cat4,cat5,cat6,cat7,cat8,cat9,cat10,cat11,cat12,cat13,cat14,cat15,cat16,cat17])\n",
      "cat_df['Num_people_dead'] = pd.Series([0,0,0,0,0,0,0,0,0,0,0,0,0,0,0,0,0])\n",
      "cat_df['Num_people_alive'] = pd.Series([0,0,0,0,0,0,0,0,0,0,0,0,0,0,0,0,0])\n",
      "cat_df['Total_num_people'] = pd.Series([0,0,0,0,0,0,0,0,0,0,0,0,0,0,0,0,0])\n",
      "cat_df['Num_people_dead/Total'] = pd.Series([0,0,0,0,0,0,0,0,0,0,0,0,0,0,0,0,0])\n",
      "cat_df['Prob_Ranges'] = pd.Series([0.00009, 0.0002, 0.0004, 0.0006, 0.0010, 0.0020, 0.0040, 0.0060, 0.0100, 0.0200, 0.0400, 0.0600, 0.1000, 0.2000, 0.4000, 0.6000, 0.8000, 1.0000])\n",
      "cat_df['log_Prob'] = log(cat_df['Prob_Ranges'])\n",
      "#Df_alive\n",
      "#Creating a dataframe to keep track of the count of people whose death probabilities is in the above range\n",
      "cat_dfa = pd.DataFrame(columns=col)\n",
      "cat_dfa['Ranges'] = pd.Series([cat1,cat2,cat3,cat4,cat5,cat6,cat7,cat8,cat9,cat10,cat11,cat12,cat13,cat14,cat15,cat16,cat17])\n",
      "cat_dfa['Num_people_dead'] = pd.Series([0,0,0,0,0,0,0,0,0,0,0,0,0,0,0,0,0])\n",
      "cat_dfa['Num_people_alive'] = pd.Series([0,0,0,0,0,0,0,0,0,0,0,0,0,0,0,0,0])\n",
      "cat_dfa['Total_num_people'] = pd.Series([0,0,0,0,0,0,0,0,0,0,0,0,0,0,0,0,0])\n",
      "cat_dfa['Num_people_dead/Total'] = pd.Series([0,0,0,0,0,0,0,0,0,0,0,0,0,0,0,0,0])"
     ],
     "language": "python",
     "metadata": {},
     "outputs": [],
     "prompt_number": 22
    },
    {
     "cell_type": "code",
     "collapsed": false,
     "input": [
      "#Bucketing the probabilities based on the ranges above\n",
      "#Df_dead\n",
      "count_alive_cat1 = 0\n",
      "count_dead_cat1 = 0\n",
      "\n",
      "count_alive_cat2 = 0\n",
      "count_dead_cat2 = 0\n",
      "\n",
      "count_alive_cat3 = 0\n",
      "count_dead_cat3 = 0\n",
      "\n",
      "count_alive_cat4 = 0\n",
      "count_dead_cat4 = 0\n",
      "\n",
      "count_alive_cat5 = 0\n",
      "count_dead_cat5 = 0\n",
      "\n",
      "count_alive_cat6 = 0\n",
      "count_dead_cat6 = 0\n",
      "\n",
      "count_alive_cat7 = 0\n",
      "count_dead_cat7 = 0\n",
      "\n",
      "count_alive_cat8 = 0\n",
      "count_dead_cat8 = 0\n",
      "\n",
      "count_alive_cat9 = 0\n",
      "count_dead_cat9 = 0\n",
      "\n",
      "count_alive_cat10 = 0\n",
      "count_dead_cat10 = 0\n",
      "\n",
      "count_alive_cat11 = 0\n",
      "count_dead_cat11 = 0\n",
      "\n",
      "count_alive_cat12 = 0\n",
      "count_dead_cat12 = 0\n",
      "\n",
      "count_alive_cat13 = 0\n",
      "count_dead_cat13 = 0\n",
      "\n",
      "count_alive_cat14 = 0\n",
      "count_dead_cat14 = 0\n",
      "\n",
      "count_alive_cat15 = 0\n",
      "count_dead_cat15 = 0\n",
      "\n",
      "count_alive_cat16 = 0\n",
      "count_dead_cat16 = 0\n",
      "\n",
      "count_alive_cat17 = 0\n",
      "count_dead_cat17 = 0"
     ],
     "language": "python",
     "metadata": {},
     "outputs": [],
     "prompt_number": 23
    },
    {
     "cell_type": "code",
     "collapsed": false,
     "input": [
      "#Df_dead\n",
      "for i in eval_df.index:\n",
      "    if eval_df['Prediction_Prob'].loc[i] < 0.0002 and eval_df['Is_dead'].loc[i] == 'N':\n",
      "       count_alive_cat1 += 1\n",
      "       cat_df['Num_people_alive'].loc[0] = count_alive_cat1\n",
      "    elif eval_df['Prediction_Prob'].loc[i] < 0.0002 and eval_df['Is_dead'].loc[i] == 'Y':\n",
      "        count_dead_cat1 += 1\n",
      "        cat_df['Num_people_dead'].loc[0] = count_dead_cat1 \n",
      "    elif (eval_df['Prediction_Prob'].loc[i] >= 0.0002  and eval_df['Prediction_Prob'].loc[i] < 0.0004) and eval_df['Is_dead'].loc[i] == 'N':\n",
      "       count_alive_cat2 += 1\n",
      "       cat_df['Num_people_alive'].loc[1] = count_alive_cat2\n",
      "    elif (eval_df['Prediction_Prob'].loc[i] >= 0.0002  and eval_df['Prediction_Prob'].loc[i] < 0.0004) and eval_df['Is_dead'].loc[i] == 'Y':\n",
      "        count_dead_cat2 += 1\n",
      "        cat_df['Num_people_dead'].loc[1] = count_dead_cat2  \n",
      "    elif (eval_df['Prediction_Prob'].loc[i] >= 0.0004  and eval_df['Prediction_Prob'].loc[i] < 0.0006) and eval_df['Is_dead'].loc[i] == 'N':\n",
      "       count_alive_cat3 += 1\n",
      "       cat_df['Num_people_alive'].loc[2] = count_alive_cat3\n",
      "    elif (eval_df['Prediction_Prob'].loc[i] >= 0.0002  and eval_df['Prediction_Prob'].loc[i] < 0.0004) and eval_df['Is_dead'].loc[i] == 'Y':\n",
      "        count_dead_cat3 += 1\n",
      "        cat_df['Num_people_dead'].loc[2] = count_dead_cat3   \n",
      "    elif (eval_df['Prediction_Prob'].loc[i] >= 0.0006  and eval_df['Prediction_Prob'].loc[i] < 0.0010) and eval_df['Is_dead'].loc[i] == 'N':\n",
      "       count_alive_cat4 += 1\n",
      "       cat_df['Num_people_alive'].loc[3] = count_alive_cat4\n",
      "    elif (eval_df['Prediction_Prob'].loc[i] >= 0.0006  and eval_df['Prediction_Prob'].loc[i] < 0.0010) and eval_df['Is_dead'].loc[i] == 'Y':\n",
      "        count_dead_cat4 += 1\n",
      "        cat_df['Num_people_dead'].loc[3] = count_dead_cat4 \n",
      "    elif (eval_df['Prediction_Prob'].loc[i] >= 0.0010  and eval_df['Prediction_Prob'].loc[i] < 0.0020) and eval_df['Is_dead'].loc[i] == 'N':\n",
      "       count_alive_cat5 += 1\n",
      "       cat_df['Num_people_alive'].loc[4] = count_alive_cat5\n",
      "    elif (eval_df['Prediction_Prob'].loc[i] >= 0.0010  and eval_df['Prediction_Prob'].loc[i] < 0.0020) and eval_df['Is_dead'].loc[i] == 'Y':\n",
      "        count_dead_cat5 += 1\n",
      "        cat_df['Num_people_dead'].loc[4] = count_dead_cat5 \n",
      "    elif (eval_df['Prediction_Prob'].loc[i] >= 0.0020  and eval_df['Prediction_Prob'].loc[i] < 0.0040) and eval_df['Is_dead'].loc[i] == 'N':\n",
      "       count_alive_cat6 += 1\n",
      "       cat_df['Num_people_alive'].loc[5] = count_alive_cat6\n",
      "    elif (eval_df['Prediction_Prob'].loc[i] >= 0.0020  and eval_df['Prediction_Prob'].loc[i] < 0.0040) and eval_df['Is_dead'].loc[i] == 'Y':\n",
      "        count_dead_cat6 += 1\n",
      "        cat_df['Num_people_dead'].loc[5] = count_dead_cat6  \n",
      "    elif (eval_df['Prediction_Prob'].loc[i] >= 0.0040  and eval_df['Prediction_Prob'].loc[i] < 0.0060) and eval_df['Is_dead'].loc[i] == 'N':\n",
      "       count_alive_cat7 += 1\n",
      "       cat_df['Num_people_alive'].loc[6] = count_alive_cat7\n",
      "    elif (eval_df['Prediction_Prob'].loc[i] >= 0.0040  and eval_df['Prediction_Prob'].loc[i] < 0.0060) and eval_df['Is_dead'].loc[i] == 'Y':\n",
      "        count_dead_cat7 += 1\n",
      "        cat_df['Num_people_dead'].loc[6] = count_dead_cat7 \n",
      "    elif (eval_df['Prediction_Prob'].loc[i] >= 0.0060  and eval_df['Prediction_Prob'].loc[i] < 0.0100) and eval_df['Is_dead'].loc[i] == 'N':\n",
      "       count_alive_cat8 += 1\n",
      "       cat_df['Num_people_alive'].loc[7] = count_alive_cat8\n",
      "    elif (eval_df['Prediction_Prob'].loc[i] >= 0.0060  and eval_df['Prediction_Prob'].loc[i] < 0.0100) and eval_df['Is_dead'].loc[i] == 'Y':\n",
      "        count_dead_cat8 += 1\n",
      "        cat_df['Num_people_dead'].loc[7] = count_dead_cat8 \n",
      "    elif (eval_df['Prediction_Prob'].loc[i] >= 0.0100  and eval_df['Prediction_Prob'].loc[i] < 0.0200) and eval_df['Is_dead'].loc[i] == 'N':\n",
      "       count_alive_cat9 += 1\n",
      "       cat_df['Num_people_alive'].loc[8] = count_alive_cat9\n",
      "    elif (eval_df['Prediction_Prob'].loc[i] >= 0.0100  and eval_df['Prediction_Prob'].loc[i] < 0.0200) and eval_df['Is_dead'].loc[i] == 'Y':\n",
      "        count_dead_cat9 += 1\n",
      "        cat_df['Num_people_dead'].loc[8] = count_dead_cat9  \n",
      "    elif (eval_df['Prediction_Prob'].loc[i] >= 0.0200  and eval_df['Prediction_Prob'].loc[i] < 0.0400) and eval_df['Is_dead'].loc[i] == 'N':\n",
      "       count_alive_cat10 += 1\n",
      "       cat_df['Num_people_alive'].loc[9] = count_alive_cat10\n",
      "    elif (eval_df['Prediction_Prob'].loc[i] >= 0.0200  and eval_df['Prediction_Prob'].loc[i] < 0.0400) and eval_df['Is_dead'].loc[i] == 'Y':\n",
      "        count_dead_cat10 += 1\n",
      "        cat_df['Num_people_dead'].loc[9] = count_dead_cat10\n",
      "    elif (eval_df['Prediction_Prob'].loc[i] >= 0.0400  and eval_df['Prediction_Prob'].loc[i] < 0.0600) and eval_df['Is_dead'].loc[i] == 'N':\n",
      "       count_alive_cat11 += 1\n",
      "       cat_df['Num_people_alive'].loc[10] = count_alive_cat11\n",
      "    elif (eval_df['Prediction_Prob'].loc[i] >= 0.0400  and eval_df['Prediction_Prob'].loc[i] < 0.0600) and eval_df['Is_dead'].loc[i] == 'Y':\n",
      "        count_dead_cat11 += 1\n",
      "        cat_df['Num_people_dead'].loc[10] = count_dead_cat11\n",
      "    elif (eval_df['Prediction_Prob'].loc[i] >= 0.0600  and eval_df['Prediction_Prob'].loc[i] < 0.1000) and eval_df['Is_dead'].loc[i] == 'N':\n",
      "       count_alive_cat12 += 1\n",
      "       cat_df['Num_people_alive'].loc[11] = count_alive_cat12\n",
      "    elif (eval_df['Prediction_Prob'].loc[i] >= 0.0600  and eval_df['Prediction_Prob'].loc[i] < 0.1000) and eval_df['Is_dead'].loc[i] == 'Y':\n",
      "        count_dead_cat12 += 1\n",
      "        cat_df['Num_people_dead'].loc[11] = count_dead_cat12  \n",
      "    elif (eval_df['Prediction_Prob'].loc[i] >= 0.1000  and eval_df['Prediction_Prob'].loc[i] < 0.2000) and eval_df['Is_dead'].loc[i] == 'N':\n",
      "       count_alive_cat13 += 1\n",
      "       cat_df['Num_people_alive'].loc[12] = count_alive_cat13\n",
      "    elif (eval_df['Prediction_Prob'].loc[i] >= 0.1000  and eval_df['Prediction_Prob'].loc[i] < 0.2000) and eval_df['Is_dead'].loc[i] == 'Y':\n",
      "        count_dead_cat13 += 1\n",
      "        cat_df['Num_people_dead'].loc[12] = count_dead_cat13\n",
      "    elif (eval_df['Prediction_Prob'].loc[i] >= 0.2000  and eval_df['Prediction_Prob'].loc[i] < 0.4000) and eval_df['Is_dead'].loc[i] == 'N':\n",
      "       count_alive_cat14 += 1\n",
      "       cat_df['Num_people_alive'].loc[13] = count_alive_cat14\n",
      "    elif (eval_df['Prediction_Prob'].loc[i] >= 0.2000  and eval_df['Prediction_Prob'].loc[i] < 0.4000) and eval_df['Is_dead'].loc[i] == 'Y':\n",
      "        count_dead_cat14 += 1\n",
      "        cat_df['Num_people_dead'].loc[13] = count_dead_cat14  \n",
      "    elif (eval_df['Prediction_Prob'].loc[i] >= 0.4000  and eval_df['Prediction_Prob'].loc[i] < 0.6000) and eval_df['Is_dead'].loc[i] == 'N':\n",
      "       count_alive_cat15 += 1\n",
      "       cat_df['Num_people_alive'].loc[14] = count_alive_cat15\n",
      "    elif (eval_df['Prediction_Prob'].loc[i] >= 0.4000  and eval_df['Prediction_Prob'].loc[i] < 0.6000) and eval_df['Is_dead'].loc[i] == 'Y':\n",
      "        count_dead_cat15 += 1\n",
      "        cat_df['Num_people_dead'].loc[14] = count_dead_cat15  \n",
      "    elif (eval_df['Prediction_Prob'].loc[i] >= 0.6000  and eval_df['Prediction_Prob'].loc[i] < 0.8000) and eval_df['Is_dead'].loc[i] == 'N':\n",
      "       count_alive_cat16 += 1\n",
      "       cat_df['Num_people_alive'].loc[15] = count_alive_cat16\n",
      "    elif (eval_df['Prediction_Prob'].loc[i] >= 0.6000  and eval_df['Prediction_Prob'].loc[i] < 0.8000) and eval_df['Is_dead'].loc[i] == 'Y':\n",
      "        count_dead_cat16 += 1\n",
      "        cat_df['Num_people_dead'].loc[15] = count_dead_cat16  \n",
      "    elif (eval_df['Prediction_Prob'].loc[i] >= 0.8000  and eval_df['Prediction_Prob'].loc[i] < 1.0000) and eval_df['Is_dead'].loc[i] == 'N':\n",
      "       count_alive_cat17 += 1\n",
      "       cat_df['Num_people_alive'].loc[16] = count_alive_cat17\n",
      "    elif (eval_df['Prediction_Prob'].loc[i] >= 0.8000  and eval_df['Prediction_Prob'].loc[i] < 1.0000) and eval_df['Is_dead'].loc[i] == 'Y':\n",
      "        count_dead_cat17 += 1\n",
      "        cat_df['Num_people_dead'].loc[16] = count_dead_cat17  "
     ],
     "language": "python",
     "metadata": {},
     "outputs": [],
     "prompt_number": 260
    },
    {
     "cell_type": "code",
     "collapsed": false,
     "input": [
      "#Bucketing the probabilities based on the ranges above\n",
      "#Df_alive\n",
      "count_alive_cat1 = 0\n",
      "count_alive_cat2 = 0\n",
      "count_alive_cat3 = 0\n",
      "count_alive_cat4 = 0\n",
      "count_alive_cat5 = 0\n",
      "count_alive_cat6 = 0\n",
      "count_alive_cat7 = 0\n",
      "count_alive_cat8 = 0\n",
      "count_alive_cat9 = 0\n",
      "count_alive_cat10 = 0\n",
      "count_alive_cat11 = 0\n",
      "count_alive_cat12 = 0\n",
      "count_alive_cat13 = 0\n",
      "count_alive_cat14 = 0\n",
      "count_alive_cat15 = 0\n",
      "count_alive_cat16 = 0\n",
      "count_alive_cat17 = 0"
     ],
     "language": "python",
     "metadata": {},
     "outputs": [],
     "prompt_number": 24
    },
    {
     "cell_type": "code",
     "collapsed": false,
     "input": [
      "#Df_alive\n",
      "for i in eval_dfa.index:\n",
      "    if eval_dfa['Prediction_Prob'].loc[i] < 0.0002:\n",
      "       count_alive_cat1 += 1\n",
      "       cat_dfa['Num_people_alive'].loc[0] = count_alive_cat1\n",
      "    if (eval_dfa['Prediction_Prob'].loc[i] >= 0.0002  and eval_dfa['Prediction_Prob'].loc[i] < 0.0004):\n",
      "       count_alive_cat2 += 1\n",
      "       cat_dfa['Num_people_alive'].loc[1] = count_alive_cat2\n",
      "    if (eval_dfa['Prediction_Prob'].loc[i] >= 0.0004  and eval_dfa['Prediction_Prob'].loc[i] < 0.0006):\n",
      "       count_alive_cat3 += 1\n",
      "       cat_dfa['Num_people_alive'].loc[2] = count_alive_cat3\n",
      "    if (eval_dfa['Prediction_Prob'].loc[i] >= 0.0002  and eval_dfa['Prediction_Prob'].loc[i] < 0.0004):\n",
      "        count_dead_cat3 += 1\n",
      "        cat_dfa['Num_people_alive'].loc[2] = count_alive_cat3   \n",
      "    if (eval_dfa['Prediction_Prob'].loc[i] >= 0.0006  and eval_dfa['Prediction_Prob'].loc[i] < 0.0010):\n",
      "       count_alive_cat4 += 1\n",
      "       cat_dfa['Num_people_alive'].loc[3] = count_alive_cat4\n",
      "    if (eval_dfa['Prediction_Prob'].loc[i] >= 0.0010  and eval_dfa['Prediction_Prob'].loc[i] < 0.0020):\n",
      "       count_alive_cat5 += 1\n",
      "       cat_dfa['Num_people_alive'].loc[4] = count_alive_cat5\n",
      "    if (eval_dfa['Prediction_Prob'].loc[i] >= 0.0020  and eval_dfa['Prediction_Prob'].loc[i] < 0.0040):\n",
      "       count_alive_cat6 += 1\n",
      "       cat_dfa['Num_people_alive'].loc[5] = count_alive_cat6\n",
      "    if (eval_dfa['Prediction_Prob'].loc[i] >= 0.0040  and eval_dfa['Prediction_Prob'].loc[i] < 0.0060):\n",
      "       count_alive_cat7 += 1\n",
      "       cat_dfa['Num_people_alive'].loc[6] = count_alive_cat7\n",
      "    if (eval_dfa['Prediction_Prob'].loc[i] >= 0.0060  and eval_dfa['Prediction_Prob'].loc[i] < 0.0100):\n",
      "       count_alive_cat8 += 1\n",
      "       cat_dfa['Num_people_alive'].loc[7] = count_alive_cat8\n",
      "    if (eval_dfa['Prediction_Prob'].loc[i] >= 0.0100  and eval_dfa['Prediction_Prob'].loc[i] < 0.0200):\n",
      "       count_alive_cat9 += 1\n",
      "       cat_dfa['Num_people_alive'].loc[8] = count_alive_cat9 \n",
      "    if (eval_dfa['Prediction_Prob'].loc[i] >= 0.0200  and eval_dfa['Prediction_Prob'].loc[i] < 0.0400):\n",
      "       count_alive_cat10 += 1\n",
      "       cat_dfa['Num_people_alive'].loc[9] = count_alive_cat10\n",
      "    if (eval_dfa['Prediction_Prob'].loc[i] >= 0.0400  and eval_dfa['Prediction_Prob'].loc[i] < 0.0600):\n",
      "       count_alive_cat11 += 1\n",
      "       cat_dfa['Num_people_alive'].loc[10] = count_alive_cat11\n",
      "    if (eval_dfa['Prediction_Prob'].loc[i] >= 0.0600  and eval_dfa['Prediction_Prob'].loc[i] < 0.1000):\n",
      "       count_alive_cat12 += 1\n",
      "       cat_dfa['Num_people_alive'].loc[11] = count_alive_cat12\n",
      "    if (eval_dfa['Prediction_Prob'].loc[i] >= 0.1000  and eval_dfa['Prediction_Prob'].loc[i] < 0.2000):\n",
      "       count_alive_cat13 += 1\n",
      "       cat_dfa['Num_people_alive'].loc[12] = count_alive_cat13\n",
      "    if (eval_dfa['Prediction_Prob'].loc[i] >= 0.2000  and eval_dfa['Prediction_Prob'].loc[i] < 0.4000):\n",
      "       count_alive_cat14 += 1\n",
      "       cat_dfa['Num_people_alive'].loc[13] = count_alive_cat14\n",
      "    if (eval_dfa['Prediction_Prob'].loc[i] >= 0.4000  and eval_dfa['Prediction_Prob'].loc[i] < 0.6000):\n",
      "       count_alive_cat15 += 1\n",
      "       cat_dfa['Num_people_alive'].loc[14] = count_alive_cat15\n",
      "    if (eval_dfa['Prediction_Prob'].loc[i] >= 0.6000  and eval_dfa['Prediction_Prob'].loc[i] < 0.8000):\n",
      "       count_alive_cat16 += 1\n",
      "       cat_dfa['Num_people_alive'].loc[15] = count_alive_cat16\n",
      "    if (eval_dfa['Prediction_Prob'].loc[i] >= 0.8000  and eval_dfa['Prediction_Prob'].loc[i] < 1.0000):\n",
      "       count_alive_cat17 += 1\n",
      "       cat_dfa['Num_people_alive'].loc[16] = count_alive_cat17 "
     ],
     "language": "python",
     "metadata": {},
     "outputs": [
      {
       "output_type": "stream",
       "stream": "stderr",
       "text": [
        "C:\\Users\\Varsha\\User\\lib\\site-packages\\pandas\\core\\indexing.py:121: SettingWithCopyWarning: \n",
        "A value is trying to be set on a copy of a slice from a DataFrame\n",
        "\n",
        "See the the caveats in the documentation: http://pandas.pydata.org/pandas-docs/stable/indexing.html#indexing-view-versus-copy\n",
        "  self._setitem_with_indexer(indexer, value)\n"
       ]
      }
     ],
     "prompt_number": 25
    },
    {
     "cell_type": "code",
     "collapsed": false,
     "input": [
      "#Additional columns added\n",
      "cat_df['Total_num_people'] = cat_df['Num_people_alive'] + cat_df['Num_people_dead']\n",
      "cat_df['Num_people_alive/Total'] = cat_df['Num_people_alive']/cat_df['Total_num_people']\n",
      "\n",
      "#Dropping the probability ranges if there are certain inf values\n",
      "# cat_df.replace([np.inf, -np.inf], np.nan).dropna(how=\"any\")\n",
      "\n",
      "#Printing the distribution table - Df_dead - Only Dead people\n",
      "cat_df"
     ],
     "language": "python",
     "metadata": {},
     "outputs": [
      {
       "html": [
        "<div style=\"max-height:1000px;max-width:1500px;overflow:auto;\">\n",
        "<table border=\"1\" class=\"dataframe\">\n",
        "  <thead>\n",
        "    <tr style=\"text-align: right;\">\n",
        "      <th></th>\n",
        "      <th>Ranges</th>\n",
        "      <th>Num_people_alive</th>\n",
        "      <th>Num_people_dead</th>\n",
        "      <th>Total_num_people</th>\n",
        "      <th>Num_people_dead/Total</th>\n",
        "      <th>Prob_Ranges</th>\n",
        "      <th>log_Prob</th>\n",
        "      <th>Num_people_alive/Total</th>\n",
        "    </tr>\n",
        "  </thead>\n",
        "  <tbody>\n",
        "    <tr>\n",
        "      <th>0 </th>\n",
        "      <td>     less than 0.0002</td>\n",
        "      <td> 51</td>\n",
        "      <td> 0</td>\n",
        "      <td> 51</td>\n",
        "      <td> 0</td>\n",
        "      <td> 0.00009</td>\n",
        "      <td>-9.315701</td>\n",
        "      <td> 1.000000</td>\n",
        "    </tr>\n",
        "    <tr>\n",
        "      <th>1 </th>\n",
        "      <td> 0.0002 &lt;= x &lt; 0.0004</td>\n",
        "      <td> 24</td>\n",
        "      <td> 0</td>\n",
        "      <td> 24</td>\n",
        "      <td> 0</td>\n",
        "      <td> 0.00020</td>\n",
        "      <td>-8.517193</td>\n",
        "      <td> 1.000000</td>\n",
        "    </tr>\n",
        "    <tr>\n",
        "      <th>2 </th>\n",
        "      <td> 0.0004 &lt;= x &lt; 0.0006</td>\n",
        "      <td> 42</td>\n",
        "      <td> 0</td>\n",
        "      <td> 42</td>\n",
        "      <td> 0</td>\n",
        "      <td> 0.00040</td>\n",
        "      <td>-7.824046</td>\n",
        "      <td> 1.000000</td>\n",
        "    </tr>\n",
        "    <tr>\n",
        "      <th>3 </th>\n",
        "      <td> 0.0006 &lt;= x &lt; 0.0010</td>\n",
        "      <td> 24</td>\n",
        "      <td> 0</td>\n",
        "      <td> 24</td>\n",
        "      <td> 0</td>\n",
        "      <td> 0.00060</td>\n",
        "      <td>-7.418581</td>\n",
        "      <td> 1.000000</td>\n",
        "    </tr>\n",
        "    <tr>\n",
        "      <th>4 </th>\n",
        "      <td> 0.0010 &lt;= x &lt; 0.0020</td>\n",
        "      <td> 58</td>\n",
        "      <td> 1</td>\n",
        "      <td> 59</td>\n",
        "      <td> 0</td>\n",
        "      <td> 0.00100</td>\n",
        "      <td>-6.907755</td>\n",
        "      <td> 0.983051</td>\n",
        "    </tr>\n",
        "    <tr>\n",
        "      <th>5 </th>\n",
        "      <td> 0.0020 &lt;= x &lt; 0.0040</td>\n",
        "      <td> 36</td>\n",
        "      <td> 0</td>\n",
        "      <td> 36</td>\n",
        "      <td> 0</td>\n",
        "      <td> 0.00200</td>\n",
        "      <td>-6.214608</td>\n",
        "      <td> 1.000000</td>\n",
        "    </tr>\n",
        "    <tr>\n",
        "      <th>6 </th>\n",
        "      <td> 0.0040 &lt;= x &lt; 0.0060</td>\n",
        "      <td> 27</td>\n",
        "      <td> 0</td>\n",
        "      <td> 27</td>\n",
        "      <td> 0</td>\n",
        "      <td> 0.00400</td>\n",
        "      <td>-5.521461</td>\n",
        "      <td> 1.000000</td>\n",
        "    </tr>\n",
        "    <tr>\n",
        "      <th>7 </th>\n",
        "      <td> 0.0060 &lt;= x &lt; 0.0100</td>\n",
        "      <td> 24</td>\n",
        "      <td> 0</td>\n",
        "      <td> 24</td>\n",
        "      <td> 0</td>\n",
        "      <td> 0.00600</td>\n",
        "      <td>-5.115996</td>\n",
        "      <td> 1.000000</td>\n",
        "    </tr>\n",
        "    <tr>\n",
        "      <th>8 </th>\n",
        "      <td> 0.0100 &lt;= x &lt; 0.0200</td>\n",
        "      <td> 24</td>\n",
        "      <td> 1</td>\n",
        "      <td> 25</td>\n",
        "      <td> 0</td>\n",
        "      <td> 0.01000</td>\n",
        "      <td>-4.605170</td>\n",
        "      <td> 0.960000</td>\n",
        "    </tr>\n",
        "    <tr>\n",
        "      <th>9 </th>\n",
        "      <td> 0.0200 &lt;= x &lt; 0.0400</td>\n",
        "      <td> 19</td>\n",
        "      <td> 1</td>\n",
        "      <td> 20</td>\n",
        "      <td> 0</td>\n",
        "      <td> 0.02000</td>\n",
        "      <td>-3.912023</td>\n",
        "      <td> 0.950000</td>\n",
        "    </tr>\n",
        "    <tr>\n",
        "      <th>10</th>\n",
        "      <td> 0.0400 &lt;= x &lt; 0.0600</td>\n",
        "      <td>  8</td>\n",
        "      <td> 0</td>\n",
        "      <td>  8</td>\n",
        "      <td> 0</td>\n",
        "      <td> 0.04000</td>\n",
        "      <td>-3.218876</td>\n",
        "      <td> 1.000000</td>\n",
        "    </tr>\n",
        "    <tr>\n",
        "      <th>11</th>\n",
        "      <td> 0.0600 &lt;= x &lt; 0.1000</td>\n",
        "      <td>  9</td>\n",
        "      <td> 1</td>\n",
        "      <td> 10</td>\n",
        "      <td> 0</td>\n",
        "      <td> 0.06000</td>\n",
        "      <td>-2.813411</td>\n",
        "      <td> 0.900000</td>\n",
        "    </tr>\n",
        "    <tr>\n",
        "      <th>12</th>\n",
        "      <td> 0.1000 &lt;= x &lt; 0.2000</td>\n",
        "      <td>  6</td>\n",
        "      <td> 0</td>\n",
        "      <td>  6</td>\n",
        "      <td> 0</td>\n",
        "      <td> 0.10000</td>\n",
        "      <td>-2.302585</td>\n",
        "      <td> 1.000000</td>\n",
        "    </tr>\n",
        "    <tr>\n",
        "      <th>13</th>\n",
        "      <td> 0.2000 &lt;= x &lt; 0.4000</td>\n",
        "      <td>  9</td>\n",
        "      <td> 1</td>\n",
        "      <td> 10</td>\n",
        "      <td> 0</td>\n",
        "      <td> 0.20000</td>\n",
        "      <td>-1.609438</td>\n",
        "      <td> 0.900000</td>\n",
        "    </tr>\n",
        "    <tr>\n",
        "      <th>14</th>\n",
        "      <td> 0.4000 &lt;= x &lt; 0.6000</td>\n",
        "      <td>  0</td>\n",
        "      <td> 0</td>\n",
        "      <td>  0</td>\n",
        "      <td> 0</td>\n",
        "      <td> 0.40000</td>\n",
        "      <td>-0.916291</td>\n",
        "      <td>      inf</td>\n",
        "    </tr>\n",
        "    <tr>\n",
        "      <th>15</th>\n",
        "      <td> 0.6000 &lt;= x &lt; 0.8000</td>\n",
        "      <td>  0</td>\n",
        "      <td> 0</td>\n",
        "      <td>  0</td>\n",
        "      <td> 0</td>\n",
        "      <td> 0.60000</td>\n",
        "      <td>-0.510826</td>\n",
        "      <td>      inf</td>\n",
        "    </tr>\n",
        "    <tr>\n",
        "      <th>16</th>\n",
        "      <td> 0.8000 &lt;= x &lt; 1.0000</td>\n",
        "      <td>  0</td>\n",
        "      <td> 0</td>\n",
        "      <td>  0</td>\n",
        "      <td> 0</td>\n",
        "      <td> 0.80000</td>\n",
        "      <td>-0.223144</td>\n",
        "      <td>      inf</td>\n",
        "    </tr>\n",
        "  </tbody>\n",
        "</table>\n",
        "</div>"
       ],
       "metadata": {},
       "output_type": "pyout",
       "prompt_number": 263,
       "text": [
        "                  Ranges  Num_people_alive  Num_people_dead  Total_num_people  \\\n",
        "0       less than 0.0002                51                0                51   \n",
        "1   0.0002 <= x < 0.0004                24                0                24   \n",
        "2   0.0004 <= x < 0.0006                42                0                42   \n",
        "3   0.0006 <= x < 0.0010                24                0                24   \n",
        "4   0.0010 <= x < 0.0020                58                1                59   \n",
        "5   0.0020 <= x < 0.0040                36                0                36   \n",
        "6   0.0040 <= x < 0.0060                27                0                27   \n",
        "7   0.0060 <= x < 0.0100                24                0                24   \n",
        "8   0.0100 <= x < 0.0200                24                1                25   \n",
        "9   0.0200 <= x < 0.0400                19                1                20   \n",
        "10  0.0400 <= x < 0.0600                 8                0                 8   \n",
        "11  0.0600 <= x < 0.1000                 9                1                10   \n",
        "12  0.1000 <= x < 0.2000                 6                0                 6   \n",
        "13  0.2000 <= x < 0.4000                 9                1                10   \n",
        "14  0.4000 <= x < 0.6000                 0                0                 0   \n",
        "15  0.6000 <= x < 0.8000                 0                0                 0   \n",
        "16  0.8000 <= x < 1.0000                 0                0                 0   \n",
        "\n",
        "    Num_people_dead/Total  Prob_Ranges  log_Prob  Num_people_alive/Total  \n",
        "0                       0      0.00009 -9.315701                1.000000  \n",
        "1                       0      0.00020 -8.517193                1.000000  \n",
        "2                       0      0.00040 -7.824046                1.000000  \n",
        "3                       0      0.00060 -7.418581                1.000000  \n",
        "4                       0      0.00100 -6.907755                0.983051  \n",
        "5                       0      0.00200 -6.214608                1.000000  \n",
        "6                       0      0.00400 -5.521461                1.000000  \n",
        "7                       0      0.00600 -5.115996                1.000000  \n",
        "8                       0      0.01000 -4.605170                0.960000  \n",
        "9                       0      0.02000 -3.912023                0.950000  \n",
        "10                      0      0.04000 -3.218876                1.000000  \n",
        "11                      0      0.06000 -2.813411                0.900000  \n",
        "12                      0      0.10000 -2.302585                1.000000  \n",
        "13                      0      0.20000 -1.609438                0.900000  \n",
        "14                      0      0.40000 -0.916291                     inf  \n",
        "15                      0      0.60000 -0.510826                     inf  \n",
        "16                      0      0.80000 -0.223144                     inf  "
       ]
      }
     ],
     "prompt_number": 263
    },
    {
     "cell_type": "code",
     "collapsed": false,
     "input": [
      "#Printing the distribution table - Df_alive - Only Alive people\n",
      "cat_dfa"
     ],
     "language": "python",
     "metadata": {},
     "outputs": [
      {
       "html": [
        "<div style=\"max-height:1000px;max-width:1500px;overflow:auto;\">\n",
        "<table border=\"1\" class=\"dataframe\">\n",
        "  <thead>\n",
        "    <tr style=\"text-align: right;\">\n",
        "      <th></th>\n",
        "      <th>Ranges</th>\n",
        "      <th>Num_people_alive</th>\n",
        "      <th>Num_people_dead</th>\n",
        "      <th>Total_num_people</th>\n",
        "      <th>Num_people_dead/Total</th>\n",
        "    </tr>\n",
        "  </thead>\n",
        "  <tbody>\n",
        "    <tr>\n",
        "      <th>0 </th>\n",
        "      <td>     less than 0.0002</td>\n",
        "      <td> 217196</td>\n",
        "      <td> 0</td>\n",
        "      <td> 0</td>\n",
        "      <td> 0</td>\n",
        "    </tr>\n",
        "    <tr>\n",
        "      <th>1 </th>\n",
        "      <td> 0.0002 &lt;= x &lt; 0.0004</td>\n",
        "      <td>      0</td>\n",
        "      <td> 0</td>\n",
        "      <td> 0</td>\n",
        "      <td> 0</td>\n",
        "    </tr>\n",
        "    <tr>\n",
        "      <th>2 </th>\n",
        "      <td> 0.0004 &lt;= x &lt; 0.0006</td>\n",
        "      <td>      0</td>\n",
        "      <td> 0</td>\n",
        "      <td> 0</td>\n",
        "      <td> 0</td>\n",
        "    </tr>\n",
        "    <tr>\n",
        "      <th>3 </th>\n",
        "      <td> 0.0006 &lt;= x &lt; 0.0010</td>\n",
        "      <td>      0</td>\n",
        "      <td> 0</td>\n",
        "      <td> 0</td>\n",
        "      <td> 0</td>\n",
        "    </tr>\n",
        "    <tr>\n",
        "      <th>4 </th>\n",
        "      <td> 0.0010 &lt;= x &lt; 0.0020</td>\n",
        "      <td>      0</td>\n",
        "      <td> 0</td>\n",
        "      <td> 0</td>\n",
        "      <td> 0</td>\n",
        "    </tr>\n",
        "    <tr>\n",
        "      <th>5 </th>\n",
        "      <td> 0.0020 &lt;= x &lt; 0.0040</td>\n",
        "      <td>      0</td>\n",
        "      <td> 0</td>\n",
        "      <td> 0</td>\n",
        "      <td> 0</td>\n",
        "    </tr>\n",
        "    <tr>\n",
        "      <th>6 </th>\n",
        "      <td> 0.0040 &lt;= x &lt; 0.0060</td>\n",
        "      <td>      0</td>\n",
        "      <td> 0</td>\n",
        "      <td> 0</td>\n",
        "      <td> 0</td>\n",
        "    </tr>\n",
        "    <tr>\n",
        "      <th>7 </th>\n",
        "      <td> 0.0060 &lt;= x &lt; 0.0100</td>\n",
        "      <td>      0</td>\n",
        "      <td> 0</td>\n",
        "      <td> 0</td>\n",
        "      <td> 0</td>\n",
        "    </tr>\n",
        "    <tr>\n",
        "      <th>8 </th>\n",
        "      <td> 0.0100 &lt;= x &lt; 0.0200</td>\n",
        "      <td>      0</td>\n",
        "      <td> 0</td>\n",
        "      <td> 0</td>\n",
        "      <td> 0</td>\n",
        "    </tr>\n",
        "    <tr>\n",
        "      <th>9 </th>\n",
        "      <td> 0.0200 &lt;= x &lt; 0.0400</td>\n",
        "      <td>      0</td>\n",
        "      <td> 0</td>\n",
        "      <td> 0</td>\n",
        "      <td> 0</td>\n",
        "    </tr>\n",
        "    <tr>\n",
        "      <th>10</th>\n",
        "      <td> 0.0400 &lt;= x &lt; 0.0600</td>\n",
        "      <td>      0</td>\n",
        "      <td> 0</td>\n",
        "      <td> 0</td>\n",
        "      <td> 0</td>\n",
        "    </tr>\n",
        "    <tr>\n",
        "      <th>11</th>\n",
        "      <td> 0.0600 &lt;= x &lt; 0.1000</td>\n",
        "      <td>      0</td>\n",
        "      <td> 0</td>\n",
        "      <td> 0</td>\n",
        "      <td> 0</td>\n",
        "    </tr>\n",
        "    <tr>\n",
        "      <th>12</th>\n",
        "      <td> 0.1000 &lt;= x &lt; 0.2000</td>\n",
        "      <td>      0</td>\n",
        "      <td> 0</td>\n",
        "      <td> 0</td>\n",
        "      <td> 0</td>\n",
        "    </tr>\n",
        "    <tr>\n",
        "      <th>13</th>\n",
        "      <td> 0.2000 &lt;= x &lt; 0.4000</td>\n",
        "      <td>      0</td>\n",
        "      <td> 0</td>\n",
        "      <td> 0</td>\n",
        "      <td> 0</td>\n",
        "    </tr>\n",
        "    <tr>\n",
        "      <th>14</th>\n",
        "      <td> 0.4000 &lt;= x &lt; 0.6000</td>\n",
        "      <td>      0</td>\n",
        "      <td> 0</td>\n",
        "      <td> 0</td>\n",
        "      <td> 0</td>\n",
        "    </tr>\n",
        "    <tr>\n",
        "      <th>15</th>\n",
        "      <td> 0.6000 &lt;= x &lt; 0.8000</td>\n",
        "      <td>      0</td>\n",
        "      <td> 0</td>\n",
        "      <td> 0</td>\n",
        "      <td> 0</td>\n",
        "    </tr>\n",
        "    <tr>\n",
        "      <th>16</th>\n",
        "      <td> 0.8000 &lt;= x &lt; 1.0000</td>\n",
        "      <td>      0</td>\n",
        "      <td> 0</td>\n",
        "      <td> 0</td>\n",
        "      <td> 0</td>\n",
        "    </tr>\n",
        "  </tbody>\n",
        "</table>\n",
        "</div>"
       ],
       "metadata": {},
       "output_type": "pyout",
       "prompt_number": 26,
       "text": [
        "                  Ranges  Num_people_alive  Num_people_dead  Total_num_people  \\\n",
        "0       less than 0.0002            217196                0                 0   \n",
        "1   0.0002 <= x < 0.0004                 0                0                 0   \n",
        "2   0.0004 <= x < 0.0006                 0                0                 0   \n",
        "3   0.0006 <= x < 0.0010                 0                0                 0   \n",
        "4   0.0010 <= x < 0.0020                 0                0                 0   \n",
        "5   0.0020 <= x < 0.0040                 0                0                 0   \n",
        "6   0.0040 <= x < 0.0060                 0                0                 0   \n",
        "7   0.0060 <= x < 0.0100                 0                0                 0   \n",
        "8   0.0100 <= x < 0.0200                 0                0                 0   \n",
        "9   0.0200 <= x < 0.0400                 0                0                 0   \n",
        "10  0.0400 <= x < 0.0600                 0                0                 0   \n",
        "11  0.0600 <= x < 0.1000                 0                0                 0   \n",
        "12  0.1000 <= x < 0.2000                 0                0                 0   \n",
        "13  0.2000 <= x < 0.4000                 0                0                 0   \n",
        "14  0.4000 <= x < 0.6000                 0                0                 0   \n",
        "15  0.6000 <= x < 0.8000                 0                0                 0   \n",
        "16  0.8000 <= x < 1.0000                 0                0                 0   \n",
        "\n",
        "    Num_people_dead/Total  \n",
        "0                       0  \n",
        "1                       0  \n",
        "2                       0  \n",
        "3                       0  \n",
        "4                       0  \n",
        "5                       0  \n",
        "6                       0  \n",
        "7                       0  \n",
        "8                       0  \n",
        "9                       0  \n",
        "10                      0  \n",
        "11                      0  \n",
        "12                      0  \n",
        "13                      0  \n",
        "14                      0  \n",
        "15                      0  \n",
        "16                      0  "
       ]
      }
     ],
     "prompt_number": 26
    },
    {
     "cell_type": "code",
     "collapsed": false,
     "input": [
      "boxplot_df = pd.read_csv('../data/eval_life_tables_result_dead.csv')\n",
      "boxplot_df['Log'] = log(boxplot_df['dead/Total'])\n",
      "boxplot_df"
     ],
     "language": "python",
     "metadata": {},
     "outputs": [
      {
       "html": [
        "<div style=\"max-height:1000px;max-width:1500px;overflow:auto;\">\n",
        "<table border=\"1\" class=\"dataframe\">\n",
        "  <thead>\n",
        "    <tr style=\"text-align: right;\">\n",
        "      <th></th>\n",
        "      <th>Unnamed: 0</th>\n",
        "      <th>Ranges</th>\n",
        "      <th>Num_people_alive</th>\n",
        "      <th>Num_people_dead</th>\n",
        "      <th>Total</th>\n",
        "      <th>dead/Total</th>\n",
        "      <th>Log</th>\n",
        "    </tr>\n",
        "  </thead>\n",
        "  <tbody>\n",
        "    <tr>\n",
        "      <th>0 </th>\n",
        "      <td>  0</td>\n",
        "      <td>     less than 0.0002</td>\n",
        "      <td> 30789</td>\n",
        "      <td>  14</td>\n",
        "      <td> 30803</td>\n",
        "      <td> 0.000455</td>\n",
        "      <td>-7.696310</td>\n",
        "    </tr>\n",
        "    <tr>\n",
        "      <th>1 </th>\n",
        "      <td>  1</td>\n",
        "      <td> 0.0002 &lt;= x &lt; 0.0004</td>\n",
        "      <td> 12363</td>\n",
        "      <td>  20</td>\n",
        "      <td> 12383</td>\n",
        "      <td> 0.001615</td>\n",
        "      <td>-6.428348</td>\n",
        "    </tr>\n",
        "    <tr>\n",
        "      <th>2 </th>\n",
        "      <td>  2</td>\n",
        "      <td> 0.0004 &lt;= x &lt; 0.0006</td>\n",
        "      <td> 17544</td>\n",
        "      <td>  20</td>\n",
        "      <td> 17564</td>\n",
        "      <td> 0.001139</td>\n",
        "      <td>-6.777874</td>\n",
        "    </tr>\n",
        "    <tr>\n",
        "      <th>3 </th>\n",
        "      <td>  3</td>\n",
        "      <td> 0.0006 &lt;= x &lt; 0.0010</td>\n",
        "      <td> 12084</td>\n",
        "      <td>  19</td>\n",
        "      <td> 12103</td>\n",
        "      <td> 0.001570</td>\n",
        "      <td>-6.456769</td>\n",
        "    </tr>\n",
        "    <tr>\n",
        "      <th>4 </th>\n",
        "      <td>  4</td>\n",
        "      <td> 0.0010 &lt;= x &lt; 0.0020</td>\n",
        "      <td> 50187</td>\n",
        "      <td> 157</td>\n",
        "      <td> 50344</td>\n",
        "      <td> 0.003119</td>\n",
        "      <td>-5.770389</td>\n",
        "    </tr>\n",
        "    <tr>\n",
        "      <th>5 </th>\n",
        "      <td>  5</td>\n",
        "      <td> 0.0020 &lt;= x &lt; 0.0040</td>\n",
        "      <td> 26204</td>\n",
        "      <td> 175</td>\n",
        "      <td> 26379</td>\n",
        "      <td> 0.006634</td>\n",
        "      <td>-5.015538</td>\n",
        "    </tr>\n",
        "    <tr>\n",
        "      <th>6 </th>\n",
        "      <td>  6</td>\n",
        "      <td> 0.0040 &lt;= x &lt; 0.0060</td>\n",
        "      <td> 20108</td>\n",
        "      <td> 190</td>\n",
        "      <td> 20298</td>\n",
        "      <td> 0.009361</td>\n",
        "      <td>-4.671254</td>\n",
        "    </tr>\n",
        "    <tr>\n",
        "      <th>7 </th>\n",
        "      <td>  7</td>\n",
        "      <td> 0.0060 &lt;= x &lt; 0.0100</td>\n",
        "      <td> 15016</td>\n",
        "      <td> 233</td>\n",
        "      <td> 15249</td>\n",
        "      <td> 0.015280</td>\n",
        "      <td>-4.181231</td>\n",
        "    </tr>\n",
        "    <tr>\n",
        "      <th>8 </th>\n",
        "      <td>  8</td>\n",
        "      <td> 0.0100 &lt;= x &lt; 0.0200</td>\n",
        "      <td> 15169</td>\n",
        "      <td> 436</td>\n",
        "      <td> 15605</td>\n",
        "      <td> 0.027940</td>\n",
        "      <td>-3.577704</td>\n",
        "    </tr>\n",
        "    <tr>\n",
        "      <th>9 </th>\n",
        "      <td>  9</td>\n",
        "      <td> 0.0200 &lt;= x &lt; 0.0400</td>\n",
        "      <td> 12534</td>\n",
        "      <td> 610</td>\n",
        "      <td> 13144</td>\n",
        "      <td> 0.046409</td>\n",
        "      <td>-3.070262</td>\n",
        "    </tr>\n",
        "    <tr>\n",
        "      <th>10</th>\n",
        "      <td> 10</td>\n",
        "      <td> 0.0400 &lt;= x &lt; 0.0600</td>\n",
        "      <td>  4579</td>\n",
        "      <td> 328</td>\n",
        "      <td>  4907</td>\n",
        "      <td> 0.066843</td>\n",
        "      <td>-2.705404</td>\n",
        "    </tr>\n",
        "    <tr>\n",
        "      <th>11</th>\n",
        "      <td> 11</td>\n",
        "      <td> 0.0600 &lt;= x &lt; 0.1000</td>\n",
        "      <td>  3860</td>\n",
        "      <td> 424</td>\n",
        "      <td>  4284</td>\n",
        "      <td> 0.098973</td>\n",
        "      <td>-2.312909</td>\n",
        "    </tr>\n",
        "    <tr>\n",
        "      <th>12</th>\n",
        "      <td> 12</td>\n",
        "      <td> 0.1000 &lt;= x &lt; 0.2000</td>\n",
        "      <td>  2414</td>\n",
        "      <td> 391</td>\n",
        "      <td>  2805</td>\n",
        "      <td> 0.139394</td>\n",
        "      <td>-1.970451</td>\n",
        "    </tr>\n",
        "    <tr>\n",
        "      <th>13</th>\n",
        "      <td> 13</td>\n",
        "      <td> 0.2000 &lt;= x &lt; 0.4000</td>\n",
        "      <td>   647</td>\n",
        "      <td> 205</td>\n",
        "      <td>   852</td>\n",
        "      <td> 0.240610</td>\n",
        "      <td>-1.424577</td>\n",
        "    </tr>\n",
        "    <tr>\n",
        "      <th>14</th>\n",
        "      <td> 14</td>\n",
        "      <td> 0.4000 &lt;= x &lt; 0.6000</td>\n",
        "      <td>    16</td>\n",
        "      <td>   9</td>\n",
        "      <td>    25</td>\n",
        "      <td> 0.360000</td>\n",
        "      <td>-1.021651</td>\n",
        "    </tr>\n",
        "  </tbody>\n",
        "</table>\n",
        "</div>"
       ],
       "metadata": {},
       "output_type": "pyout",
       "prompt_number": 265,
       "text": [
        "    Unnamed: 0                Ranges  Num_people_alive  Num_people_dead  \\\n",
        "0            0      less than 0.0002             30789               14   \n",
        "1            1  0.0002 <= x < 0.0004             12363               20   \n",
        "2            2  0.0004 <= x < 0.0006             17544               20   \n",
        "3            3  0.0006 <= x < 0.0010             12084               19   \n",
        "4            4  0.0010 <= x < 0.0020             50187              157   \n",
        "5            5  0.0020 <= x < 0.0040             26204              175   \n",
        "6            6  0.0040 <= x < 0.0060             20108              190   \n",
        "7            7  0.0060 <= x < 0.0100             15016              233   \n",
        "8            8  0.0100 <= x < 0.0200             15169              436   \n",
        "9            9  0.0200 <= x < 0.0400             12534              610   \n",
        "10          10  0.0400 <= x < 0.0600              4579              328   \n",
        "11          11  0.0600 <= x < 0.1000              3860              424   \n",
        "12          12  0.1000 <= x < 0.2000              2414              391   \n",
        "13          13  0.2000 <= x < 0.4000               647              205   \n",
        "14          14  0.4000 <= x < 0.6000                16                9   \n",
        "\n",
        "    Total  dead/Total       Log  \n",
        "0   30803    0.000455 -7.696310  \n",
        "1   12383    0.001615 -6.428348  \n",
        "2   17564    0.001139 -6.777874  \n",
        "3   12103    0.001570 -6.456769  \n",
        "4   50344    0.003119 -5.770389  \n",
        "5   26379    0.006634 -5.015538  \n",
        "6   20298    0.009361 -4.671254  \n",
        "7   15249    0.015280 -4.181231  \n",
        "8   15605    0.027940 -3.577704  \n",
        "9   13144    0.046409 -3.070262  \n",
        "10   4907    0.066843 -2.705404  \n",
        "11   4284    0.098973 -2.312909  \n",
        "12   2805    0.139394 -1.970451  \n",
        "13    852    0.240610 -1.424577  \n",
        "14     25    0.360000 -1.021651  "
       ]
      }
     ],
     "prompt_number": 265
    },
    {
     "cell_type": "code",
     "collapsed": false,
     "input": [
      "import matplotlib.pyplot as plt\n",
      "a = [-7.696310, -6.428348, -6.777874, -6.456769]\n",
      "b = []\n",
      "plt.scatter(a, b)\n",
      "\n",
      "\n",
      "plt.show()\n",
      "c = [1,3,2,1]\n",
      "# plt.errorbar(a,b,yerr=c, linestyle=\"None\")\n",
      "\n",
      "plt.show()"
     ],
     "language": "python",
     "metadata": {},
     "outputs": [
      {
       "ename": "PyAssertionError",
       "evalue": "C++ assertion \"hWnd\" failed at ..\\..\\src\\msw\\window.cpp(627) in wxWindow::SetFocus(): can't set focus to invalid window",
       "output_type": "pyerr",
       "traceback": [
        "\u001b[1;31m---------------------------------------------------------------------------\u001b[0m\n\u001b[1;31mPyAssertionError\u001b[0m                          Traceback (most recent call last)",
        "\u001b[1;32m<ipython-input-40-cae6aa083fc9>\u001b[0m in \u001b[0;36m<module>\u001b[1;34m()\u001b[0m\n\u001b[0;32m      2\u001b[0m \u001b[0ma\u001b[0m \u001b[1;33m=\u001b[0m \u001b[1;33m[\u001b[0m\u001b[1;33m-\u001b[0m\u001b[1;36m7.696310\u001b[0m\u001b[1;33m,\u001b[0m \u001b[1;33m-\u001b[0m\u001b[1;36m6.428348\u001b[0m\u001b[1;33m,\u001b[0m \u001b[1;33m-\u001b[0m\u001b[1;36m6.777874\u001b[0m\u001b[1;33m,\u001b[0m \u001b[1;33m-\u001b[0m\u001b[1;36m6.456769\u001b[0m\u001b[1;33m]\u001b[0m\u001b[1;33m\u001b[0m\u001b[0m\n\u001b[0;32m      3\u001b[0m \u001b[0mb\u001b[0m \u001b[1;33m=\u001b[0m \u001b[1;33m[\u001b[0m\u001b[1;33m]\u001b[0m\u001b[1;33m\u001b[0m\u001b[0m\n\u001b[1;32m----> 4\u001b[1;33m \u001b[0mplt\u001b[0m\u001b[1;33m.\u001b[0m\u001b[0mscatter\u001b[0m\u001b[1;33m(\u001b[0m\u001b[0ma\u001b[0m\u001b[1;33m,\u001b[0m \u001b[0mb\u001b[0m\u001b[1;33m)\u001b[0m\u001b[1;33m\u001b[0m\u001b[0m\n\u001b[0m\u001b[0;32m      5\u001b[0m \u001b[1;33m\u001b[0m\u001b[0m\n\u001b[0;32m      6\u001b[0m \u001b[1;33m\u001b[0m\u001b[0m\n",
        "\u001b[1;32mC:\\Users\\Varsha\\User\\lib\\site-packages\\matplotlib\\pyplot.pyc\u001b[0m in \u001b[0;36mscatter\u001b[1;34m(x, y, s, c, marker, cmap, norm, vmin, vmax, alpha, linewidths, verts, hold, **kwargs)\u001b[0m\n\u001b[0;32m   3189\u001b[0m             \u001b[0mvmax\u001b[0m\u001b[1;33m=\u001b[0m\u001b[0mNone\u001b[0m\u001b[1;33m,\u001b[0m \u001b[0malpha\u001b[0m\u001b[1;33m=\u001b[0m\u001b[0mNone\u001b[0m\u001b[1;33m,\u001b[0m \u001b[0mlinewidths\u001b[0m\u001b[1;33m=\u001b[0m\u001b[0mNone\u001b[0m\u001b[1;33m,\u001b[0m \u001b[0mverts\u001b[0m\u001b[1;33m=\u001b[0m\u001b[0mNone\u001b[0m\u001b[1;33m,\u001b[0m \u001b[0mhold\u001b[0m\u001b[1;33m=\u001b[0m\u001b[0mNone\u001b[0m\u001b[1;33m,\u001b[0m\u001b[1;33m\u001b[0m\u001b[0m\n\u001b[0;32m   3190\u001b[0m             **kwargs):\n\u001b[1;32m-> 3191\u001b[1;33m     \u001b[0max\u001b[0m \u001b[1;33m=\u001b[0m \u001b[0mgca\u001b[0m\u001b[1;33m(\u001b[0m\u001b[1;33m)\u001b[0m\u001b[1;33m\u001b[0m\u001b[0m\n\u001b[0m\u001b[0;32m   3192\u001b[0m     \u001b[1;31m# allow callers to override the hold state by passing hold=True|False\u001b[0m\u001b[1;33m\u001b[0m\u001b[1;33m\u001b[0m\u001b[0m\n\u001b[0;32m   3193\u001b[0m     \u001b[0mwashold\u001b[0m \u001b[1;33m=\u001b[0m \u001b[0max\u001b[0m\u001b[1;33m.\u001b[0m\u001b[0mishold\u001b[0m\u001b[1;33m(\u001b[0m\u001b[1;33m)\u001b[0m\u001b[1;33m\u001b[0m\u001b[0m\n",
        "\u001b[1;32mC:\\Users\\Varsha\\User\\lib\\site-packages\\matplotlib\\pyplot.pyc\u001b[0m in \u001b[0;36mgca\u001b[1;34m(**kwargs)\u001b[0m\n\u001b[0;32m    826\u001b[0m     \u001b[0mmatplotlib\u001b[0m\u001b[1;33m.\u001b[0m\u001b[0mfigure\u001b[0m\u001b[1;33m.\u001b[0m\u001b[0mFigure\u001b[0m\u001b[1;33m.\u001b[0m\u001b[0mgca\u001b[0m \u001b[1;33m:\u001b[0m \u001b[0mThe\u001b[0m \u001b[0mfigure\u001b[0m\u001b[0;31m'\u001b[0m\u001b[0ms\u001b[0m \u001b[0mgca\u001b[0m \u001b[0mmethod\u001b[0m\u001b[1;33m.\u001b[0m\u001b[1;33m\u001b[0m\u001b[0m\n\u001b[0;32m    827\u001b[0m     \"\"\"\n\u001b[1;32m--> 828\u001b[1;33m     \u001b[0max\u001b[0m \u001b[1;33m=\u001b[0m  \u001b[0mgcf\u001b[0m\u001b[1;33m(\u001b[0m\u001b[1;33m)\u001b[0m\u001b[1;33m.\u001b[0m\u001b[0mgca\u001b[0m\u001b[1;33m(\u001b[0m\u001b[1;33m**\u001b[0m\u001b[0mkwargs\u001b[0m\u001b[1;33m)\u001b[0m\u001b[1;33m\u001b[0m\u001b[0m\n\u001b[0m\u001b[0;32m    829\u001b[0m     \u001b[1;32mreturn\u001b[0m \u001b[0max\u001b[0m\u001b[1;33m\u001b[0m\u001b[0m\n\u001b[0;32m    830\u001b[0m \u001b[1;33m\u001b[0m\u001b[0m\n",
        "\u001b[1;32mC:\\Users\\Varsha\\User\\lib\\site-packages\\matplotlib\\pyplot.pyc\u001b[0m in \u001b[0;36mgcf\u001b[1;34m()\u001b[0m\n\u001b[0;32m    460\u001b[0m         \u001b[1;32mreturn\u001b[0m \u001b[0mfigManager\u001b[0m\u001b[1;33m.\u001b[0m\u001b[0mcanvas\u001b[0m\u001b[1;33m.\u001b[0m\u001b[0mfigure\u001b[0m\u001b[1;33m\u001b[0m\u001b[0m\n\u001b[0;32m    461\u001b[0m     \u001b[1;32melse\u001b[0m\u001b[1;33m:\u001b[0m\u001b[1;33m\u001b[0m\u001b[0m\n\u001b[1;32m--> 462\u001b[1;33m         \u001b[1;32mreturn\u001b[0m \u001b[0mfigure\u001b[0m\u001b[1;33m(\u001b[0m\u001b[1;33m)\u001b[0m\u001b[1;33m\u001b[0m\u001b[0m\n\u001b[0m\u001b[0;32m    463\u001b[0m \u001b[1;33m\u001b[0m\u001b[0m\n\u001b[0;32m    464\u001b[0m \u001b[0mfignum_exists\u001b[0m \u001b[1;33m=\u001b[0m \u001b[0m_pylab_helpers\u001b[0m\u001b[1;33m.\u001b[0m\u001b[0mGcf\u001b[0m\u001b[1;33m.\u001b[0m\u001b[0mhas_fignum\u001b[0m\u001b[1;33m\u001b[0m\u001b[0m\n",
        "\u001b[1;32mC:\\Users\\Varsha\\User\\lib\\site-packages\\matplotlib\\pyplot.pyc\u001b[0m in \u001b[0;36mfigure\u001b[1;34m(num, figsize, dpi, facecolor, edgecolor, frameon, FigureClass, **kwargs)\u001b[0m\n\u001b[0;32m    433\u001b[0m                                         \u001b[0mframeon\u001b[0m\u001b[1;33m=\u001b[0m\u001b[0mframeon\u001b[0m\u001b[1;33m,\u001b[0m\u001b[1;33m\u001b[0m\u001b[0m\n\u001b[0;32m    434\u001b[0m                                         \u001b[0mFigureClass\u001b[0m\u001b[1;33m=\u001b[0m\u001b[0mFigureClass\u001b[0m\u001b[1;33m,\u001b[0m\u001b[1;33m\u001b[0m\u001b[0m\n\u001b[1;32m--> 435\u001b[1;33m                                         **kwargs)\n\u001b[0m\u001b[0;32m    436\u001b[0m \u001b[1;33m\u001b[0m\u001b[0m\n\u001b[0;32m    437\u001b[0m         \u001b[1;32mif\u001b[0m \u001b[0mfigLabel\u001b[0m\u001b[1;33m:\u001b[0m\u001b[1;33m\u001b[0m\u001b[0m\n",
        "\u001b[1;32mC:\\Users\\Varsha\\User\\lib\\site-packages\\matplotlib\\backends\\backend_wxagg.pyc\u001b[0m in \u001b[0;36mnew_figure_manager\u001b[1;34m(num, *args, **kwargs)\u001b[0m\n\u001b[0;32m    111\u001b[0m     \u001b[0mfig\u001b[0m \u001b[1;33m=\u001b[0m \u001b[0mFigureClass\u001b[0m\u001b[1;33m(\u001b[0m\u001b[1;33m*\u001b[0m\u001b[0margs\u001b[0m\u001b[1;33m,\u001b[0m \u001b[1;33m**\u001b[0m\u001b[0mkwargs\u001b[0m\u001b[1;33m)\u001b[0m\u001b[1;33m\u001b[0m\u001b[0m\n\u001b[0;32m    112\u001b[0m \u001b[1;33m\u001b[0m\u001b[0m\n\u001b[1;32m--> 113\u001b[1;33m     \u001b[1;32mreturn\u001b[0m \u001b[0mnew_figure_manager_given_figure\u001b[0m\u001b[1;33m(\u001b[0m\u001b[0mnum\u001b[0m\u001b[1;33m,\u001b[0m \u001b[0mfig\u001b[0m\u001b[1;33m)\u001b[0m\u001b[1;33m\u001b[0m\u001b[0m\n\u001b[0m\u001b[0;32m    114\u001b[0m \u001b[1;33m\u001b[0m\u001b[0m\n\u001b[0;32m    115\u001b[0m \u001b[1;32mdef\u001b[0m \u001b[0mnew_figure_manager_given_figure\u001b[0m\u001b[1;33m(\u001b[0m\u001b[0mnum\u001b[0m\u001b[1;33m,\u001b[0m \u001b[0mfigure\u001b[0m\u001b[1;33m)\u001b[0m\u001b[1;33m:\u001b[0m\u001b[1;33m\u001b[0m\u001b[0m\n",
        "\u001b[1;32mC:\\Users\\Varsha\\User\\lib\\site-packages\\matplotlib\\backends\\backend_wxagg.pyc\u001b[0m in \u001b[0;36mnew_figure_manager_given_figure\u001b[1;34m(num, figure)\u001b[0m\n\u001b[0;32m    117\u001b[0m     \u001b[0mCreate\u001b[0m \u001b[0ma\u001b[0m \u001b[0mnew\u001b[0m \u001b[0mfigure\u001b[0m \u001b[0mmanager\u001b[0m \u001b[0minstance\u001b[0m \u001b[1;32mfor\u001b[0m \u001b[0mthe\u001b[0m \u001b[0mgiven\u001b[0m \u001b[0mfigure\u001b[0m\u001b[1;33m.\u001b[0m\u001b[1;33m\u001b[0m\u001b[0m\n\u001b[0;32m    118\u001b[0m     \"\"\"\n\u001b[1;32m--> 119\u001b[1;33m     \u001b[0mframe\u001b[0m \u001b[1;33m=\u001b[0m \u001b[0mFigureFrameWxAgg\u001b[0m\u001b[1;33m(\u001b[0m\u001b[0mnum\u001b[0m\u001b[1;33m,\u001b[0m \u001b[0mfigure\u001b[0m\u001b[1;33m)\u001b[0m\u001b[1;33m\u001b[0m\u001b[0m\n\u001b[0m\u001b[0;32m    120\u001b[0m     \u001b[0mfigmgr\u001b[0m \u001b[1;33m=\u001b[0m \u001b[0mframe\u001b[0m\u001b[1;33m.\u001b[0m\u001b[0mget_figure_manager\u001b[0m\u001b[1;33m(\u001b[0m\u001b[1;33m)\u001b[0m\u001b[1;33m\u001b[0m\u001b[0m\n\u001b[0;32m    121\u001b[0m     \u001b[1;32mif\u001b[0m \u001b[0mmatplotlib\u001b[0m\u001b[1;33m.\u001b[0m\u001b[0mis_interactive\u001b[0m\u001b[1;33m(\u001b[0m\u001b[1;33m)\u001b[0m\u001b[1;33m:\u001b[0m\u001b[1;33m\u001b[0m\u001b[0m\n",
        "\u001b[1;32mC:\\Users\\Varsha\\User\\lib\\site-packages\\matplotlib\\backends\\backend_wx.pyc\u001b[0m in \u001b[0;36m__init__\u001b[1;34m(self, num, fig)\u001b[0m\n\u001b[0;32m   1324\u001b[0m         \u001b[0mself\u001b[0m\u001b[1;33m.\u001b[0m\u001b[0mcanvas\u001b[0m \u001b[1;33m=\u001b[0m \u001b[0mself\u001b[0m\u001b[1;33m.\u001b[0m\u001b[0mget_canvas\u001b[0m\u001b[1;33m(\u001b[0m\u001b[0mfig\u001b[0m\u001b[1;33m)\u001b[0m\u001b[1;33m\u001b[0m\u001b[0m\n\u001b[0;32m   1325\u001b[0m         \u001b[0mself\u001b[0m\u001b[1;33m.\u001b[0m\u001b[0mcanvas\u001b[0m\u001b[1;33m.\u001b[0m\u001b[0mSetInitialSize\u001b[0m\u001b[1;33m(\u001b[0m\u001b[0mwx\u001b[0m\u001b[1;33m.\u001b[0m\u001b[0mSize\u001b[0m\u001b[1;33m(\u001b[0m\u001b[0mfig\u001b[0m\u001b[1;33m.\u001b[0m\u001b[0mbbox\u001b[0m\u001b[1;33m.\u001b[0m\u001b[0mwidth\u001b[0m\u001b[1;33m,\u001b[0m \u001b[0mfig\u001b[0m\u001b[1;33m.\u001b[0m\u001b[0mbbox\u001b[0m\u001b[1;33m.\u001b[0m\u001b[0mheight\u001b[0m\u001b[1;33m)\u001b[0m\u001b[1;33m)\u001b[0m\u001b[1;33m\u001b[0m\u001b[0m\n\u001b[1;32m-> 1326\u001b[1;33m         \u001b[0mself\u001b[0m\u001b[1;33m.\u001b[0m\u001b[0mcanvas\u001b[0m\u001b[1;33m.\u001b[0m\u001b[0mSetFocus\u001b[0m\u001b[1;33m(\u001b[0m\u001b[1;33m)\u001b[0m\u001b[1;33m\u001b[0m\u001b[0m\n\u001b[0m\u001b[0;32m   1327\u001b[0m         \u001b[0mself\u001b[0m\u001b[1;33m.\u001b[0m\u001b[0msizer\u001b[0m \u001b[1;33m=\u001b[0m\u001b[0mwx\u001b[0m\u001b[1;33m.\u001b[0m\u001b[0mBoxSizer\u001b[0m\u001b[1;33m(\u001b[0m\u001b[0mwx\u001b[0m\u001b[1;33m.\u001b[0m\u001b[0mVERTICAL\u001b[0m\u001b[1;33m)\u001b[0m\u001b[1;33m\u001b[0m\u001b[0m\n\u001b[0;32m   1328\u001b[0m         \u001b[0mself\u001b[0m\u001b[1;33m.\u001b[0m\u001b[0msizer\u001b[0m\u001b[1;33m.\u001b[0m\u001b[0mAdd\u001b[0m\u001b[1;33m(\u001b[0m\u001b[0mself\u001b[0m\u001b[1;33m.\u001b[0m\u001b[0mcanvas\u001b[0m\u001b[1;33m,\u001b[0m \u001b[1;36m1\u001b[0m\u001b[1;33m,\u001b[0m \u001b[0mwx\u001b[0m\u001b[1;33m.\u001b[0m\u001b[0mTOP\u001b[0m \u001b[1;33m|\u001b[0m \u001b[0mwx\u001b[0m\u001b[1;33m.\u001b[0m\u001b[0mLEFT\u001b[0m \u001b[1;33m|\u001b[0m \u001b[0mwx\u001b[0m\u001b[1;33m.\u001b[0m\u001b[0mEXPAND\u001b[0m\u001b[1;33m)\u001b[0m\u001b[1;33m\u001b[0m\u001b[0m\n",
        "\u001b[1;32mC:\\Users\\Varsha\\User\\lib\\site-packages\\wx\\_core.pyc\u001b[0m in \u001b[0;36mSetFocus\u001b[1;34m(*args, **kwargs)\u001b[0m\n\u001b[0;32m   9299\u001b[0m         \u001b[0mSet\u001b[0m\u001b[0;31m'\u001b[0m\u001b[0ms\u001b[0m \u001b[0mthe\u001b[0m \u001b[0mfocus\u001b[0m \u001b[0mto\u001b[0m \u001b[0mthis\u001b[0m \u001b[0mwindow\u001b[0m\u001b[1;33m,\u001b[0m \u001b[0mallowing\u001b[0m \u001b[0mit\u001b[0m \u001b[0mto\u001b[0m \u001b[0mreceive\u001b[0m \u001b[0mkeyboard\u001b[0m \u001b[0minput\u001b[0m\u001b[1;33m.\u001b[0m\u001b[1;33m\u001b[0m\u001b[0m\n\u001b[0;32m   9300\u001b[0m         \"\"\"\n\u001b[1;32m-> 9301\u001b[1;33m         \u001b[1;32mreturn\u001b[0m \u001b[0m_core_\u001b[0m\u001b[1;33m.\u001b[0m\u001b[0mWindow_SetFocus\u001b[0m\u001b[1;33m(\u001b[0m\u001b[1;33m*\u001b[0m\u001b[0margs\u001b[0m\u001b[1;33m,\u001b[0m \u001b[1;33m**\u001b[0m\u001b[0mkwargs\u001b[0m\u001b[1;33m)\u001b[0m\u001b[1;33m\u001b[0m\u001b[0m\n\u001b[0m\u001b[0;32m   9302\u001b[0m \u001b[1;33m\u001b[0m\u001b[0m\n\u001b[0;32m   9303\u001b[0m     \u001b[1;32mdef\u001b[0m \u001b[0mSetFocusFromKbd\u001b[0m\u001b[1;33m(\u001b[0m\u001b[1;33m*\u001b[0m\u001b[0margs\u001b[0m\u001b[1;33m,\u001b[0m \u001b[1;33m**\u001b[0m\u001b[0mkwargs\u001b[0m\u001b[1;33m)\u001b[0m\u001b[1;33m:\u001b[0m\u001b[1;33m\u001b[0m\u001b[0m\n",
        "\u001b[1;31mPyAssertionError\u001b[0m: C++ assertion \"hWnd\" failed at ..\\..\\src\\msw\\window.cpp(627) in wxWindow::SetFocus(): can't set focus to invalid window"
       ]
      }
     ],
     "prompt_number": 40
    },
    {
     "cell_type": "code",
     "collapsed": false,
     "input": [
      "import plotly.plotly as py\n",
      "from plotly.graph_objs import *\n",
      "py.sign_in(\"vpaidi\", \"8td8bwexgr\")\n",
      "\n",
      "data = Data([\n",
      "    Scatter(\n",
      "        x=['less than 0.0002', '0.0002 <= x < 0.0004', '0.0004 <= x < 0.0006', '0.0006 <= x < 0.0010', '0.0010 <= x < 0.0020', '0.0020 <= x < 0.0040', '0.0040 <= x < 0.0060', '0.0060 <= x < 0.0100', '0.0100 <= x < 0.0200', '0.0200 <= x < 0.0400', '0.0400 <= x < 0.0600', '0.0600 <= x < 0.1000', '0.1000 <= x < 0.2000', '0.2000 <= x < 0.4000', '0.4000 <= x < 0.6000'],\n",
      "        y=[-7.696310, -6.428348, -6.777874, -6.456769, -5.770389, -5.015538, -4.671254, -4.181231, -3.577704, -3.070262, -2.705404, -2.312909, -1.970451, -1.424577, -1.021651],\n",
      "        error_y=ErrorY(\n",
      "            type='data',\n",
      "            symmetric=False,\n",
      "            array=[-0.820883, -1.395698, -0.640707, -0.450986, -0.444219, -0.505923, -0.444742, -0.423939, -0.334319, -0.148614, -0.108007, 0.010324, 0.361013, 0.508286, 0.510825],\n",
      "            arrayminus=[1.619391, 2.088845, 1.046172, 0.961812, 1.137366, 1.19907, 0.850207, 0.934765, 1.027466, 0.841761, 0.513472, 0.500502, 0.332134, 0.184861, -0.10536]\n",
      "        )\n",
      "    )\n",
      "])\n",
      "plot_url = py.plot(data, filename='error-bar-asymmetric-array')"
     ],
     "language": "python",
     "metadata": {},
     "outputs": [],
     "prompt_number": 41
    },
    {
     "cell_type": "code",
     "collapsed": false,
     "input": [],
     "language": "python",
     "metadata": {},
     "outputs": []
    }
   ],
   "metadata": {}
  }
 ]
}